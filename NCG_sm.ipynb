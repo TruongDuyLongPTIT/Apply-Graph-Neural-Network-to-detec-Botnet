{
  "nbformat": 4,
  "nbformat_minor": 0,
  "metadata": {
    "colab": {
      "provenance": [],
      "mount_file_id": "1LQWELczqmaSO1EBtq_ZdDhoWviRzUizA",
      "authorship_tag": "ABX9TyOowMUxNAR4Ynr7Yh639Rwt",
      "include_colab_link": true
    },
    "kernelspec": {
      "name": "python3",
      "display_name": "Python 3"
    },
    "language_info": {
      "name": "python"
    },
    "accelerator": "GPU",
    "gpuClass": "standard"
  },
  "cells": [
    {
      "cell_type": "markdown",
      "metadata": {
        "id": "view-in-github",
        "colab_type": "text"
      },
      "source": [
        "<a href=\"https://colab.research.google.com/github/TruongDuyLongPTIT/DoAnTotNghiepPTIT/blob/main/NCG_sm.ipynb\" target=\"_parent\"><img src=\"https://colab.research.google.com/assets/colab-badge.svg\" alt=\"Open In Colab\"/></a>"
      ]
    },
    {
      "cell_type": "code",
      "execution_count": null,
      "metadata": {
        "id": "4yW98M-2N7pV"
      },
      "outputs": [],
      "source": [
        "import os\n",
        "import torch\n",
        "os.environ['TORCH'] = torch.__version__\n",
        "\n",
        "!pip install -q torch-scatter -f https://data.pyg.org/whl/torch-${TORCH}.html\n",
        "!pip install -q torch-sparse -f https://data.pyg.org/whl/torch-${TORCH}.html\n",
        "!pip install -q git+https://github.com/pyg-team/pytorch_geometric.git\n",
        "!pip install torch-cluster -f https://data.pyg.org/whl/torch-${TORCH}.html\n",
        "!pip install deepdish==0.3.5"
      ]
    },
    {
      "cell_type": "code",
      "source": [
        "!cd botnet_detection\n",
        "!python botnet_detection/setup.py install"
      ],
      "metadata": {
        "id": "Gdkbrxm3OsiS"
      },
      "execution_count": null,
      "outputs": []
    },
    {
      "cell_type": "code",
      "source": [
        "from botnet_detection.botdet.data.dataset_botnet import BotnetDataset\n",
        "from botnet_detection.botdet.data.dataloader import GraphDataLoader\n",
        "\n",
        "botnet_dataset_train = BotnetDataset(name='chord', split='train', in_memory = False, graph_format='pyg')\n",
        "botnet_dataset_val = BotnetDataset(name='chord', split='val', in_memory = False, graph_format='pyg')\n",
        "botnet_dataset_test = BotnetDataset(name='chord', split='test', in_memory = False, graph_format='pyg')\n",
        "print(botnet_dataset_train)"
      ],
      "metadata": {
        "colab": {
          "base_uri": "https://localhost:8080/"
        },
        "id": "2fRLGTp9O-wr",
        "outputId": "32bc6c27-e8eb-459a-e9fc-5b0d96490564"
      },
      "execution_count": null,
      "outputs": [
        {
          "output_type": "stream",
          "name": "stdout",
          "text": [
            "Extracting data/botnet/raw/botnet_chord.tar.gz\n",
            "Processing...\n",
            "writing train set ----------\n"
          ]
        },
        {
          "output_type": "stream",
          "name": "stderr",
          "text": [
            "768it [02:11,  5.84it/s]\n"
          ]
        },
        {
          "output_type": "stream",
          "name": "stdout",
          "text": [
            "train split --- number of graphs: 768, data saved at data/botnet/processed/chord_train.hdf5.\n",
            "writing val set ----------\n"
          ]
        },
        {
          "output_type": "stream",
          "name": "stderr",
          "text": [
            "96it [00:16,  5.78it/s]\n"
          ]
        },
        {
          "output_type": "stream",
          "name": "stdout",
          "text": [
            "val split --- number of graphs: 96, data saved at data/botnet/processed/chord_val.hdf5.\n",
            "writing test set ----------\n"
          ]
        },
        {
          "output_type": "stream",
          "name": "stderr",
          "text": [
            "96it [00:16,  5.95it/s]"
          ]
        },
        {
          "output_type": "stream",
          "name": "stdout",
          "text": [
            "test split --- number of graphs: 96, data saved at data/botnet/processed/chord_test.hdf5.\n",
            "Done!\n",
            "BotnetDataset(topology: chord | split: train | #graphs: 768 | graph format: pyg)\n"
          ]
        },
        {
          "output_type": "stream",
          "name": "stderr",
          "text": [
            "\n"
          ]
        }
      ]
    },
    {
      "cell_type": "code",
      "source": [
        "!bash /content/botnet_detection/run_botnet.sh"
      ],
      "metadata": {
        "colab": {
          "base_uri": "https://localhost:8080/"
        },
        "id": "N3PC2PMvPAZJ",
        "outputId": "79af2d8c-53b8-45d4-92e2-f295f866b735"
      },
      "execution_count": null,
      "outputs": [
        {
          "output_type": "stream",
          "name": "stdout",
          "text": [
            "All Logs will be saved to ./saved_models/chord_model_lay12_rh1_rw_ep50.log\n",
            "python /content/botnet_detection/train_botnet.py --devid 0 --data_dir ./data/botnet --data_name chord --batch_size 2 --enc_sizes 32 32 32 32 32 32 32 32 32 32 32 32 --act relu --residual_hop 1 --deg_norm sm --final proj --epochs 50 --lr 0.005 --early_stop 1 --save_dir ./saved_models --save_name chord_model_lay12_rh1_rw_ep50.pt\n",
            "------------------------------\n",
            "Namespace(act='relu', aggr='add', att_act='lrelu', att_combine='cat', att_combine_out='cat', att_dir='in', att_dropout=0, batch_size=2, bias=True, data_dir='./data/botnet', data_name='chord', deg_norm='sm', devid=0, dropout=0.0, early_stop=1, edge_gate='none', enc_sizes=[32, 32, 32, 32, 32, 32, 32, 32, 32, 32, 32, 32], epochs=50, final='proj', in_channels=1, in_memory=False, layer_act='none', log_interval=96, logmode='w', lr=0.005, n_classes=2, nheads=[1], nodemodel='additive', residual_hop=1, save_dir='./saved_models', save_name='chord_model_lay12_rh1_rw_ep50.pt', seed=0, shuffle=False, weight_decay=0.0005)\n",
            "------------------------------\n",
            "Fri Oct 14 04:09:14 2022\n",
            "------------------------------\n",
            "loading dataset...\n",
            "model ----------\n",
            "GCNModel(\n",
            "  (gcn_net): ModuleList(\n",
            "    (0): GCNLayer(\n",
            "      (gcn): NodeModelAdditive (in_channels: 1, out_channels: 32, in_edgedim: None, deg_norm: sm, edge_gate: NoneType,aggr: add | number of parameters: 64)\n",
            "      (non_linear): Identity()\n",
            "    )\n",
            "    (1): GCNLayer(\n",
            "      (gcn): NodeModelAdditive (in_channels: 32, out_channels: 32, in_edgedim: None, deg_norm: sm, edge_gate: NoneType,aggr: add | number of parameters: 1056)\n",
            "      (non_linear): Identity()\n",
            "    )\n",
            "    (2): GCNLayer(\n",
            "      (gcn): NodeModelAdditive (in_channels: 32, out_channels: 32, in_edgedim: None, deg_norm: sm, edge_gate: NoneType,aggr: add | number of parameters: 1056)\n",
            "      (non_linear): Identity()\n",
            "    )\n",
            "    (3): GCNLayer(\n",
            "      (gcn): NodeModelAdditive (in_channels: 32, out_channels: 32, in_edgedim: None, deg_norm: sm, edge_gate: NoneType,aggr: add | number of parameters: 1056)\n",
            "      (non_linear): Identity()\n",
            "    )\n",
            "    (4): GCNLayer(\n",
            "      (gcn): NodeModelAdditive (in_channels: 32, out_channels: 32, in_edgedim: None, deg_norm: sm, edge_gate: NoneType,aggr: add | number of parameters: 1056)\n",
            "      (non_linear): Identity()\n",
            "    )\n",
            "    (5): GCNLayer(\n",
            "      (gcn): NodeModelAdditive (in_channels: 32, out_channels: 32, in_edgedim: None, deg_norm: sm, edge_gate: NoneType,aggr: add | number of parameters: 1056)\n",
            "      (non_linear): Identity()\n",
            "    )\n",
            "    (6): GCNLayer(\n",
            "      (gcn): NodeModelAdditive (in_channels: 32, out_channels: 32, in_edgedim: None, deg_norm: sm, edge_gate: NoneType,aggr: add | number of parameters: 1056)\n",
            "      (non_linear): Identity()\n",
            "    )\n",
            "    (7): GCNLayer(\n",
            "      (gcn): NodeModelAdditive (in_channels: 32, out_channels: 32, in_edgedim: None, deg_norm: sm, edge_gate: NoneType,aggr: add | number of parameters: 1056)\n",
            "      (non_linear): Identity()\n",
            "    )\n",
            "    (8): GCNLayer(\n",
            "      (gcn): NodeModelAdditive (in_channels: 32, out_channels: 32, in_edgedim: None, deg_norm: sm, edge_gate: NoneType,aggr: add | number of parameters: 1056)\n",
            "      (non_linear): Identity()\n",
            "    )\n",
            "    (9): GCNLayer(\n",
            "      (gcn): NodeModelAdditive (in_channels: 32, out_channels: 32, in_edgedim: None, deg_norm: sm, edge_gate: NoneType,aggr: add | number of parameters: 1056)\n",
            "      (non_linear): Identity()\n",
            "    )\n",
            "    (10): GCNLayer(\n",
            "      (gcn): NodeModelAdditive (in_channels: 32, out_channels: 32, in_edgedim: None, deg_norm: sm, edge_gate: NoneType,aggr: add | number of parameters: 1056)\n",
            "      (non_linear): Identity()\n",
            "    )\n",
            "    (11): GCNLayer(\n",
            "      (gcn): NodeModelAdditive (in_channels: 32, out_channels: 32, in_edgedim: None, deg_norm: sm, edge_gate: NoneType,aggr: add | number of parameters: 1056)\n",
            "      (non_linear): Identity()\n",
            "    )\n",
            "  )\n",
            "  (dropout): Dropout(p=0.0, inplace=False)\n",
            "  (residuals): ModuleList(\n",
            "    (0): Linear(in_features=1, out_features=32, bias=False)\n",
            "    (1): Identity()\n",
            "    (2): Identity()\n",
            "    (3): Identity()\n",
            "    (4): Identity()\n",
            "    (5): Identity()\n",
            "    (6): Identity()\n",
            "    (7): Identity()\n",
            "    (8): Identity()\n",
            "    (9): Identity()\n",
            "    (10): Identity()\n",
            "    (11): Identity()\n",
            "  )\n",
            "  (non_linear): ReLU()\n",
            "  (final): Linear(in_features=32, out_features=2, bias=True)\n",
            ")\n",
            "epoch: 1, passed number of graphs: 96, train running loss: 0.17400 (passed time: 19s)\n",
            "          acc: 0.93356, fpr: 0.00001, fnr: 0.95980, rec: 0.04020, prc: 0.99505, f1: 0.07728, auroc: 0.79389\n",
            "epoch: 1, passed number of graphs: 192, train running loss: 0.13442 (passed time: 43s)\n",
            "          acc: 0.96811, fpr: 0.00591, fnr: 0.37815, rec: 0.62185, prc: 0.88760, f1: 0.73133, auroc: 0.97490\n",
            "epoch: 1, passed number of graphs: 288, train running loss: 0.11226 (passed time: 1m 6s)\n",
            "          acc: 0.97533, fpr: 0.00422, fnr: 0.29950, rec: 0.70050, prc: 0.92512, f1: 0.79729, auroc: 0.97917\n",
            "epoch: 1, passed number of graphs: 384, train running loss: 0.09218 (passed time: 1m 30s)\n",
            "          acc: 0.98517, fpr: 0.00452, fnr: 0.14990, rec: 0.85010, prc: 0.93495, f1: 0.89051, auroc: 0.99268\n",
            "epoch: 1, passed number of graphs: 480, train running loss: 0.07998 (passed time: 1m 54s)\n",
            "          acc: 0.98436, fpr: 0.00816, fnr: 0.11395, rec: 0.88605, prc: 0.89198, f1: 0.88901, auroc: 0.99251\n",
            "epoch: 1, passed number of graphs: 576, train running loss: 0.06931 (passed time: 2m 16s)\n",
            "          acc: 0.99388, fpr: 0.00154, fnr: 0.06790, rec: 0.93210, prc: 0.97827, f1: 0.95463, auroc: 0.99826\n",
            "epoch: 1, passed number of graphs: 672, train running loss: 0.06087 (passed time: 2m 37s)\n",
            "          acc: 0.99520, fpr: 0.00108, fnr: 0.05485, rec: 0.94515, prc: 0.98484, f1: 0.96459, auroc: 0.99877\n",
            "epoch: 1, passed number of graphs: 768, train running loss: 0.05431 (passed time: 2m 59s)\n",
            "          acc: 0.99526, fpr: 0.00076, fnr: 0.05810, rec: 0.94190, prc: 0.98923, f1: 0.96499, auroc: 0.99862\n",
            "Validation --- epoch: 1, loss: 0.01479\n",
            "          acc: 0.99568, auroc: 0.99923, rec: 0.94708, prc: 0.99039, fpr: 0.00069, f1: 0.96825, fnr: 0.05292\n",
            "model saved at ./saved_models/chord_model_lay12_rh1_rw_ep50.pt.\n",
            "epoch: 2, passed number of graphs: 96, train running loss: 0.01756 (passed time: 3m 40s)\n",
            "          acc: 0.99104, fpr: 0.00115, fnr: 0.11390, rec: 0.88610, prc: 0.98281, f1: 0.93195, auroc: 0.98981\n",
            "epoch: 2, passed number of graphs: 192, train running loss: 0.01477 (passed time: 4m 3s)\n",
            "          acc: 0.99549, fpr: 0.00086, fnr: 0.05315, rec: 0.94685, prc: 0.98810, f1: 0.96704, auroc: 0.99787\n",
            "epoch: 2, passed number of graphs: 288, train running loss: 0.01251 (passed time: 4m 25s)\n",
            "          acc: 0.99646, fpr: 0.00084, fnr: 0.03980, rec: 0.96020, prc: 0.98832, f1: 0.97406, auroc: 0.99962\n",
            "epoch: 2, passed number of graphs: 384, train running loss: 0.01109 (passed time: 4m 48s)\n",
            "          acc: 0.99641, fpr: 0.00092, fnr: 0.03850, rec: 0.96150, prc: 0.98762, f1: 0.97439, auroc: 0.99831\n",
            "epoch: 2, passed number of graphs: 480, train running loss: 0.01000 (passed time: 5m 11s)\n",
            "          acc: 0.99693, fpr: 0.00075, fnr: 0.03355, rec: 0.96645, prc: 0.98986, f1: 0.97802, auroc: 0.99967\n",
            "epoch: 2, passed number of graphs: 576, train running loss: 0.00945 (passed time: 5m 33s)\n",
            "          acc: 0.99689, fpr: 0.00044, fnr: 0.03900, rec: 0.96100, prc: 0.99385, f1: 0.97715, auroc: 0.99754\n",
            "epoch: 2, passed number of graphs: 672, train running loss: 0.00884 (passed time: 5m 53s)\n",
            "          acc: 0.99711, fpr: 0.00064, fnr: 0.03310, rec: 0.96690, prc: 0.99113, f1: 0.97887, auroc: 0.99982\n",
            "epoch: 2, passed number of graphs: 768, train running loss: 0.00852 (passed time: 6m 14s)\n",
            "          acc: 0.99702, fpr: 0.00061, fnr: 0.03485, rec: 0.96515, prc: 0.99163, f1: 0.97821, auroc: 0.99967\n",
            "Validation --- epoch: 2, loss: 0.01092\n",
            "          acc: 0.99656, auroc: 0.99937, rec: 0.95535, prc: 0.99503, fpr: 0.00036, f1: 0.97479, fnr: 0.04465\n",
            "model saved at ./saved_models/chord_model_lay12_rh1_rw_ep50.pt.\n",
            "epoch: 3, passed number of graphs: 96, train running loss: 0.00496 (passed time: 6m 55s)\n",
            "          acc: 0.99746, fpr: 0.00048, fnr: 0.03020, rec: 0.96980, prc: 0.99334, f1: 0.98143, auroc: 0.99955\n",
            "epoch: 3, passed number of graphs: 192, train running loss: 0.00464 (passed time: 7m 18s)\n",
            "          acc: 0.99724, fpr: 0.00041, fnr: 0.03415, rec: 0.96585, prc: 0.99444, f1: 0.97994, auroc: 0.99976\n",
            "epoch: 3, passed number of graphs: 288, train running loss: 0.00448 (passed time: 7m 41s)\n",
            "          acc: 0.99737, fpr: 0.00041, fnr: 0.03250, rec: 0.96750, prc: 0.99435, f1: 0.98074, auroc: 0.99977\n",
            "epoch: 3, passed number of graphs: 384, train running loss: 0.00436 (passed time: 8m 3s)\n",
            "          acc: 0.99744, fpr: 0.00042, fnr: 0.03065, rec: 0.96935, prc: 0.99441, f1: 0.98172, auroc: 0.99983\n",
            "epoch: 3, passed number of graphs: 480, train running loss: 0.00479 (passed time: 8m 26s)\n",
            "          acc: 0.99742, fpr: 0.00081, fnr: 0.02580, rec: 0.97420, prc: 0.98914, f1: 0.98161, auroc: 0.99956\n",
            "epoch: 3, passed number of graphs: 576, train running loss: 0.00470 (passed time: 8m 47s)\n",
            "          acc: 0.99785, fpr: 0.00040, fnr: 0.02565, rec: 0.97435, prc: 0.99449, f1: 0.98432, auroc: 0.99989\n",
            "epoch: 3, passed number of graphs: 672, train running loss: 0.00458 (passed time: 9m 8s)\n",
            "          acc: 0.99763, fpr: 0.00045, fnr: 0.02820, rec: 0.97180, prc: 0.99381, f1: 0.98268, auroc: 0.99987\n",
            "epoch: 3, passed number of graphs: 768, train running loss: 0.00463 (passed time: 9m 28s)\n",
            "          acc: 0.99705, fpr: 0.00030, fnr: 0.03860, rec: 0.96140, prc: 0.99586, f1: 0.97833, auroc: 0.99919\n",
            "Validation --- epoch: 3, loss: 0.01075\n",
            "          acc: 0.99718, auroc: 0.99714, rec: 0.96366, prc: 0.99573, fpr: 0.00031, f1: 0.97943, fnr: 0.03634\n",
            "model saved at ./saved_models/chord_model_lay12_rh1_rw_ep50.pt.\n",
            "epoch: 4, passed number of graphs: 96, train running loss: 0.00471 (passed time: 10m 9s)\n",
            "          acc: 0.99703, fpr: 0.00019, fnr: 0.04030, rec: 0.95970, prc: 0.99735, f1: 0.97816, auroc: 0.99842\n",
            "epoch: 4, passed number of graphs: 192, train running loss: 0.00447 (passed time: 10m 32s)\n",
            "          acc: 0.99777, fpr: 0.00032, fnr: 0.02775, rec: 0.97225, prc: 0.99565, f1: 0.98381, auroc: 0.99984\n",
            "epoch: 4, passed number of graphs: 288, train running loss: 0.00421 (passed time: 10m 55s)\n",
            "          acc: 0.99767, fpr: 0.00112, fnr: 0.01850, rec: 0.98150, prc: 0.98485, f1: 0.98317, auroc: 0.99985\n",
            "epoch: 4, passed number of graphs: 384, train running loss: 0.00407 (passed time: 11m 17s)\n",
            "          acc: 0.99781, fpr: 0.00048, fnr: 0.02455, rec: 0.97545, prc: 0.99353, f1: 0.98441, auroc: 0.99981\n",
            "epoch: 4, passed number of graphs: 480, train running loss: 0.00396 (passed time: 11m 40s)\n",
            "          acc: 0.99782, fpr: 0.00027, fnr: 0.02735, rec: 0.97265, prc: 0.99641, f1: 0.98439, auroc: 0.99987\n",
            "epoch: 4, passed number of graphs: 576, train running loss: 0.07933 (passed time: 12m 2s)\n",
            "          acc: 0.93088, fpr: 0.00000, fnr: 1.00000, rec: 0.00000, prc: -1.00000, f1: 0.00000, auroc: 0.82947\n",
            "epoch: 4, passed number of graphs: 672, train running loss: 0.08185 (passed time: 12m 23s)\n",
            "          acc: 0.95778, fpr: 0.00062, fnr: 0.60185, rec: 0.39815, prc: 0.97946, f1: 0.56616, auroc: 0.97463\n",
            "epoch: 4, passed number of graphs: 768, train running loss: 0.07709 (passed time: 12m 44s)\n",
            "          acc: 0.98471, fpr: 0.00150, fnr: 0.20045, rec: 0.79955, prc: 0.97542, f1: 0.87877, auroc: 0.98803\n",
            "Validation --- epoch: 4, loss: 0.05894\n",
            "          acc: 0.98797, auroc: 0.99198, rec: 0.88148, prc: 0.94204, fpr: 0.00407, f1: 0.91070, fnr: 0.11852\n",
            "EarlyStopping counter: 1 out of 5\n",
            "epoch: 5, passed number of graphs: 96, train running loss: 0.02265 (passed time: 13m 27s)\n",
            "          acc: 0.99099, fpr: 0.00355, fnr: 0.08250, rec: 0.91750, prc: 0.95058, f1: 0.93375, auroc: 0.99433\n",
            "epoch: 5, passed number of graphs: 192, train running loss: 0.02926 (passed time: 13m 50s)\n",
            "          acc: 0.99244, fpr: 0.00179, fnr: 0.08445, rec: 0.91555, prc: 0.97466, f1: 0.94418, auroc: 0.99189\n",
            "epoch: 5, passed number of graphs: 288, train running loss: 0.02473 (passed time: 14m 13s)\n",
            "          acc: 0.99333, fpr: 0.00256, fnr: 0.06185, rec: 0.93815, prc: 0.96458, f1: 0.95118, auroc: 0.99670\n",
            "epoch: 5, passed number of graphs: 384, train running loss: 0.02148 (passed time: 14m 36s)\n",
            "          acc: 0.99349, fpr: 0.00272, fnr: 0.05610, rec: 0.94390, prc: 0.96361, f1: 0.95365, auroc: 0.99705\n",
            "epoch: 5, passed number of graphs: 480, train running loss: 0.01932 (passed time: 15m 0s)\n",
            "          acc: 0.99474, fpr: 0.00215, fnr: 0.04615, rec: 0.95385, prc: 0.97124, f1: 0.96246, auroc: 0.99769\n",
            "epoch: 5, passed number of graphs: 576, train running loss: 0.01779 (passed time: 15m 22s)\n",
            "          acc: 0.99530, fpr: 0.00187, fnr: 0.04275, rec: 0.95725, prc: 0.97435, f1: 0.96572, auroc: 0.99785\n",
            "epoch: 5, passed number of graphs: 672, train running loss: 0.01660 (passed time: 15m 43s)\n",
            "          acc: 0.99516, fpr: 0.00190, fnr: 0.04450, rec: 0.95550, prc: 0.97401, f1: 0.96466, auroc: 0.99802\n",
            "epoch: 5, passed number of graphs: 768, train running loss: 0.01564 (passed time: 16m 4s)\n",
            "          acc: 0.99565, fpr: 0.00188, fnr: 0.03745, rec: 0.96255, prc: 0.97439, f1: 0.96843, auroc: 0.99858\n",
            "Validation --- epoch: 5, loss: 0.01739\n",
            "          acc: 0.99534, auroc: 0.99816, rec: 0.95635, prc: 0.97625, fpr: 0.00174, f1: 0.96618, fnr: 0.04365\n",
            "EarlyStopping counter: 2 out of 5\n",
            "epoch: 6, passed number of graphs: 96, train running loss: 0.00871 (passed time: 16m 46s)\n",
            "          acc: 0.99559, fpr: 0.00186, fnr: 0.03875, rec: 0.96125, prc: 0.97470, f1: 0.96793, auroc: 0.99872\n",
            "epoch: 6, passed number of graphs: 192, train running loss: 0.00861 (passed time: 17m 9s)\n",
            "          acc: 0.99562, fpr: 0.00189, fnr: 0.03750, rec: 0.96250, prc: 0.97449, f1: 0.96846, auroc: 0.99847\n",
            "epoch: 6, passed number of graphs: 288, train running loss: 0.00858 (passed time: 17m 32s)\n",
            "          acc: 0.99557, fpr: 0.00204, fnr: 0.03660, rec: 0.96340, prc: 0.97235, f1: 0.96785, auroc: 0.99860\n",
            "epoch: 6, passed number of graphs: 384, train running loss: 0.00853 (passed time: 17m 56s)\n",
            "          acc: 0.99517, fpr: 0.00241, fnr: 0.03655, rec: 0.96345, prc: 0.96824, f1: 0.96584, auroc: 0.99861\n",
            "epoch: 6, passed number of graphs: 480, train running loss: 0.00849 (passed time: 18m 19s)\n",
            "          acc: 0.99577, fpr: 0.00184, fnr: 0.03560, rec: 0.96440, prc: 0.97552, f1: 0.96993, auroc: 0.99880\n",
            "epoch: 6, passed number of graphs: 576, train running loss: 0.00847 (passed time: 18m 45s)\n",
            "          acc: 0.99606, fpr: 0.00177, fnr: 0.03310, rec: 0.96690, prc: 0.97588, f1: 0.97137, auroc: 0.99878\n",
            "epoch: 6, passed number of graphs: 672, train running loss: 0.00844 (passed time: 19m 13s)\n",
            "          acc: 0.99580, fpr: 0.00180, fnr: 0.03645, rec: 0.96355, prc: 0.97545, f1: 0.96946, auroc: 0.99856\n",
            "epoch: 6, passed number of graphs: 768, train running loss: 0.00840 (passed time: 19m 41s)\n",
            "          acc: 0.99596, fpr: 0.00177, fnr: 0.03460, rec: 0.96540, prc: 0.97599, f1: 0.97067, auroc: 0.99888\n",
            "Validation --- epoch: 6, loss: 0.01612\n",
            "          acc: 0.99578, auroc: 0.99880, rec: 0.96387, prc: 0.97522, fpr: 0.00183, f1: 0.96950, fnr: 0.03613\n",
            "EarlyStopping counter: 3 out of 5\n",
            "epoch: 7, passed number of graphs: 96, train running loss: 0.00820 (passed time: 20m 28s)\n",
            "          acc: 0.99593, fpr: 0.00181, fnr: 0.03445, rec: 0.96555, prc: 0.97535, f1: 0.97043, auroc: 0.99906\n",
            "epoch: 7, passed number of graphs: 192, train running loss: 0.00811 (passed time: 20m 51s)\n",
            "          acc: 0.99605, fpr: 0.00171, fnr: 0.03390, rec: 0.96610, prc: 0.97699, f1: 0.97152, auroc: 0.99866\n",
            "epoch: 7, passed number of graphs: 288, train running loss: 0.00808 (passed time: 21m 17s)\n",
            "          acc: 0.99599, fpr: 0.00196, fnr: 0.03160, rec: 0.96840, prc: 0.97351, f1: 0.97095, auroc: 0.99883\n",
            "epoch: 7, passed number of graphs: 384, train running loss: 0.00804 (passed time: 21m 45s)\n",
            "          acc: 0.99552, fpr: 0.00225, fnr: 0.03370, rec: 0.96630, prc: 0.97042, f1: 0.96836, auroc: 0.99885\n",
            "epoch: 7, passed number of graphs: 480, train running loss: 0.00800 (passed time: 22m 13s)\n",
            "          acc: 0.99610, fpr: 0.00166, fnr: 0.03335, rec: 0.96665, prc: 0.97795, f1: 0.97226, auroc: 0.99893\n",
            "epoch: 7, passed number of graphs: 576, train running loss: 0.00799 (passed time: 22m 41s)\n",
            "          acc: 0.99645, fpr: 0.00172, fnr: 0.02825, rec: 0.97175, prc: 0.97678, f1: 0.97426, auroc: 0.99900\n",
            "epoch: 7, passed number of graphs: 672, train running loss: 0.00796 (passed time: 23m 8s)\n",
            "          acc: 0.99608, fpr: 0.00167, fnr: 0.03420, rec: 0.96580, prc: 0.97728, f1: 0.97151, auroc: 0.99881\n",
            "epoch: 7, passed number of graphs: 768, train running loss: 0.00794 (passed time: 23m 36s)\n",
            "          acc: 0.99619, fpr: 0.00171, fnr: 0.03195, rec: 0.96805, prc: 0.97684, f1: 0.97243, auroc: 0.99905\n",
            "Validation --- epoch: 7, loss: 0.01529\n",
            "          acc: 0.99609, auroc: 0.99900, rec: 0.96729, prc: 0.97635, fpr: 0.00175, f1: 0.97179, fnr: 0.03271\n",
            "EarlyStopping counter: 4 out of 5\n",
            "epoch: 8, passed number of graphs: 96, train running loss: 0.00778 (passed time: 24m 23s)\n",
            "          acc: 0.99629, fpr: 0.00179, fnr: 0.02945, rec: 0.97055, prc: 0.97577, f1: 0.97315, auroc: 0.99907\n",
            "epoch: 8, passed number of graphs: 192, train running loss: 0.00772 (passed time: 24m 47s)\n",
            "          acc: 0.99616, fpr: 0.00157, fnr: 0.03400, rec: 0.96600, prc: 0.97877, f1: 0.97234, auroc: 0.99864\n",
            "epoch: 8, passed number of graphs: 288, train running loss: 0.00772 (passed time: 25m 12s)\n",
            "          acc: 0.99609, fpr: 0.00191, fnr: 0.03080, rec: 0.96920, prc: 0.97422, f1: 0.97170, auroc: 0.99900\n",
            "epoch: 8, passed number of graphs: 384, train running loss: 0.00771 (passed time: 25m 40s)\n",
            "          acc: 0.99569, fpr: 0.00212, fnr: 0.03300, rec: 0.96700, prc: 0.97210, f1: 0.96955, auroc: 0.99886\n",
            "epoch: 8, passed number of graphs: 480, train running loss: 0.00769 (passed time: 26m 8s)\n",
            "          acc: 0.99618, fpr: 0.00151, fnr: 0.03415, rec: 0.96585, prc: 0.97981, f1: 0.97278, auroc: 0.99894\n",
            "epoch: 8, passed number of graphs: 576, train running loss: 0.00770 (passed time: 26m 36s)\n",
            "          acc: 0.99651, fpr: 0.00160, fnr: 0.02895, rec: 0.97105, prc: 0.97829, f1: 0.97466, auroc: 0.99902\n",
            "epoch: 8, passed number of graphs: 672, train running loss: 0.00769 (passed time: 27m 4s)\n",
            "          acc: 0.99626, fpr: 0.00169, fnr: 0.03130, rec: 0.96870, prc: 0.97700, f1: 0.97283, auroc: 0.99885\n",
            "epoch: 8, passed number of graphs: 768, train running loss: 0.00768 (passed time: 27m 32s)\n",
            "          acc: 0.99633, fpr: 0.00165, fnr: 0.03075, rec: 0.96925, prc: 0.97761, f1: 0.97341, auroc: 0.99899\n",
            "Validation --- epoch: 8, loss: 0.01507\n",
            "          acc: 0.99622, auroc: 0.99897, rec: 0.96882, prc: 0.97670, fpr: 0.00173, f1: 0.97273, fnr: 0.03118\n",
            "EarlyStopping counter: 5 out of 5\n",
            "Early stopping here.\n",
            "************ best model obtained after epoch 3, saved at ./saved_models/chord_model_lay12_rh1_rw_ep50.pt ************\n",
            "Testing --- loss: 0.01087\n",
            "          acc: 0.99718, auroc: 0.99704, rec: 0.96326, prc: 0.99591, fpr: 0.00029, f1: 0.97931, fnr: 0.03674\n"
          ]
        }
      ]
    }
  ]
}