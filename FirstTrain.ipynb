{
  "nbformat": 4,
  "nbformat_minor": 0,
  "metadata": {
    "colab": {
      "name": "GNN_DoAn.ipynb",
      "provenance": [],
      "collapsed_sections": [],
      "machine_shape": "hm"
    },
    "kernelspec": {
      "name": "python3",
      "display_name": "Python 3"
    },
    "accelerator": "TPU",
    "gpuClass": "standard"
  },
  "cells": [
    {
      "cell_type": "markdown",
      "metadata": {
        "id": "4cbgwZWWfWpp"
      },
      "source": [
        "# New Section"
      ]
    },
    {
      "cell_type": "code",
      "metadata": {
        "id": "tAb77yZ9fzMG"
      },
      "source": [
        "!git clone https://github.com/harvardnlp/botnet-detection"
      ],
      "execution_count": null,
      "outputs": []
    },
    {
      "cell_type": "code",
      "metadata": {
        "id": "pafL7Li0jyXW"
      },
      "source": [
        "!cd botnet_detection\n",
        "!python botnet_detection/setup.py install"
      ],
      "execution_count": null,
      "outputs": []
    },
    {
      "cell_type": "code",
      "source": [
        "!pip install deepdish==0.3.5"
      ],
      "metadata": {
        "id": "vSDW8sz7fx6w"
      },
      "execution_count": null,
      "outputs": []
    },
    {
      "cell_type": "code",
      "source": [
        "from botnet_detection.botdet.data.dataset_botnet import BotnetDataset\n",
        "from botnet_detection.botdet.data.dataloader import GraphDataLoader\n",
        "\n",
        "botnet_dataset_train = BotnetDataset(name='chord', split='train', graph_format='pyg')\n",
        "botnet_dataset_val = BotnetDataset(name='chord', split='val', graph_format='pyg')\n",
        "botnet_dataset_test = BotnetDataset(name='chord', split='test', graph_format='pyg')\n",
        "\n",
        "train_loader = GraphDataLoader(botnet_dataset_train, batch_size=2, shuffle=False, num_workers=0)\n",
        "val_loader = GraphDataLoader(botnet_dataset_val, batch_size=1, shuffle=False, num_workers=0)\n",
        "test_loader = GraphDataLoader(botnet_dataset_test, batch_size=1, shuffle=False, num_workers=0)"
      ],
      "metadata": {
        "colab": {
          "base_uri": "https://localhost:8080/"
        },
        "id": "N-WTy34ffyki",
        "outputId": "37602918-1655-42fa-c972-53ccbcd2d3be"
      },
      "execution_count": 4,
      "outputs": [
        {
          "output_type": "stream",
          "name": "stdout",
          "text": [
            "This will download 3.17GB. Will you proceed? (y/N)\n",
            "y\n",
            "Downloading https://zenodo.org/record/3689089/files/botnet_chord.tar.gz\n",
            "Extracting data/botnet/raw/botnet_chord.tar.gz\n",
            "Processing...\n",
            "writing train set ----------\n"
          ]
        },
        {
          "output_type": "stream",
          "name": "stderr",
          "text": [
            "768it [02:25,  5.27it/s]\n"
          ]
        },
        {
          "output_type": "stream",
          "name": "stdout",
          "text": [
            "train split --- number of graphs: 768, data saved at data/botnet/processed/chord_train.hdf5.\n",
            "writing val set ----------\n"
          ]
        },
        {
          "output_type": "stream",
          "name": "stderr",
          "text": [
            "96it [00:20,  4.74it/s]\n"
          ]
        },
        {
          "output_type": "stream",
          "name": "stdout",
          "text": [
            "val split --- number of graphs: 96, data saved at data/botnet/processed/chord_val.hdf5.\n",
            "writing test set ----------\n"
          ]
        },
        {
          "output_type": "stream",
          "name": "stderr",
          "text": [
            "96it [00:20,  4.77it/s]\n"
          ]
        },
        {
          "output_type": "stream",
          "name": "stdout",
          "text": [
            "test split --- number of graphs: 96, data saved at data/botnet/processed/chord_test.hdf5.\n",
            "Done!\n"
          ]
        }
      ]
    },
    {
      "cell_type": "code",
      "source": [
        "!pip install torch_geometric==1.4.3"
      ],
      "metadata": {
        "id": "OZdaBiB3jbaL"
      },
      "execution_count": null,
      "outputs": []
    },
    {
      "cell_type": "code",
      "source": [
        "!pip install torch_sparse"
      ],
      "metadata": {
        "id": "Ua6xW8ccjiey"
      },
      "execution_count": null,
      "outputs": []
    },
    {
      "cell_type": "code",
      "source": [
        "!pip install torch_scatter"
      ],
      "metadata": {
        "id": "e71Ec0PFnG2c"
      },
      "execution_count": null,
      "outputs": []
    },
    {
      "cell_type": "code",
      "source": [
        "!pip install torch_cluster"
      ],
      "metadata": {
        "id": "vBcWRToApidI"
      },
      "execution_count": null,
      "outputs": []
    },
    {
      "cell_type": "code",
      "source": [
        "import torch_geometric\n",
        "torch_geometric.__version__\n"
      ],
      "metadata": {
        "colab": {
          "base_uri": "https://localhost:8080/",
          "height": 36
        },
        "id": "gQEXf6TjJ2xL",
        "outputId": "81b4be4e-9d0e-454d-fdd8-ee6ab250382e"
      },
      "execution_count": 10,
      "outputs": [
        {
          "output_type": "execute_result",
          "data": {
            "text/plain": [
              "'1.4.3'"
            ],
            "application/vnd.google.colaboratory.intrinsic+json": {
              "type": "string"
            }
          },
          "metadata": {},
          "execution_count": 10
        }
      ]
    },
    {
      "cell_type": "code",
      "source": [
        "!bash /content/botnet_detection/run_botnet.sh"
      ],
      "metadata": {
        "colab": {
          "base_uri": "https://localhost:8080/"
        },
        "id": "2us3V5wsf3sy",
        "outputId": "b997056f-2a83-47a7-8833-4808b75896fa"
      },
      "execution_count": 1,
      "outputs": [
        {
          "output_type": "stream",
          "name": "stdout",
          "text": [
            "All Logs will be saved to ./saved_models/chord_model_lay12_rh1_rw_ep50.log\n",
            "python /content/botnet_detection/train_botnet.py --devid 0 --data_dir ./data/botnet --data_name chord --batch_size 8 --enc_sizes 32 32 32 32 32 32 32 32 32 32 32 32 --act relu --residual_hop 1 --deg_norm rw --final proj --epochs 1 --lr 0.005 --early_stop 1 --save_dir ./saved_models --save_name chord_model_lay12_rh1_rw_ep50.pt\n",
            "------------------------------\n",
            "Namespace(act='relu', aggr='add', att_act='lrelu', att_combine='cat', att_combine_out='cat', att_dir='in', att_dropout=0, batch_size=8, bias=True, data_dir='./data/botnet', data_name='chord', deg_norm='rw', devid=0, dropout=0.0, early_stop=1, edge_gate='none', enc_sizes=[32, 32, 32, 32, 32, 32, 32, 32, 32, 32, 32, 32], epochs=1, final='proj', in_channels=1, in_memory=True, layer_act='none', log_interval=96, logmode='w', lr=0.005, n_classes=2, nheads=[1], nodemodel='additive', residual_hop=1, save_dir='./saved_models', save_name='chord_model_lay12_rh1_rw_ep50.pt', seed=0, shuffle=False, weight_decay=0.0005)\n",
            "------------------------------\n",
            "Tue Aug 30 07:44:34 2022\n",
            "------------------------------\n",
            "loading dataset...\n",
            "model ----------\n",
            "GCNModel(\n",
            "  (gcn_net): ModuleList(\n",
            "    (0): GCNLayer(\n",
            "      (gcn): NodeModelAdditive (in_channels: 1, out_channels: 32, in_edgedim: None, deg_norm: rw, edge_gate: NoneType,aggr: add | number of parameters: 64)\n",
            "      (non_linear): Identity()\n",
            "    )\n",
            "    (1): GCNLayer(\n",
            "      (gcn): NodeModelAdditive (in_channels: 32, out_channels: 32, in_edgedim: None, deg_norm: rw, edge_gate: NoneType,aggr: add | number of parameters: 1056)\n",
            "      (non_linear): Identity()\n",
            "    )\n",
            "    (2): GCNLayer(\n",
            "      (gcn): NodeModelAdditive (in_channels: 32, out_channels: 32, in_edgedim: None, deg_norm: rw, edge_gate: NoneType,aggr: add | number of parameters: 1056)\n",
            "      (non_linear): Identity()\n",
            "    )\n",
            "    (3): GCNLayer(\n",
            "      (gcn): NodeModelAdditive (in_channels: 32, out_channels: 32, in_edgedim: None, deg_norm: rw, edge_gate: NoneType,aggr: add | number of parameters: 1056)\n",
            "      (non_linear): Identity()\n",
            "    )\n",
            "    (4): GCNLayer(\n",
            "      (gcn): NodeModelAdditive (in_channels: 32, out_channels: 32, in_edgedim: None, deg_norm: rw, edge_gate: NoneType,aggr: add | number of parameters: 1056)\n",
            "      (non_linear): Identity()\n",
            "    )\n",
            "    (5): GCNLayer(\n",
            "      (gcn): NodeModelAdditive (in_channels: 32, out_channels: 32, in_edgedim: None, deg_norm: rw, edge_gate: NoneType,aggr: add | number of parameters: 1056)\n",
            "      (non_linear): Identity()\n",
            "    )\n",
            "    (6): GCNLayer(\n",
            "      (gcn): NodeModelAdditive (in_channels: 32, out_channels: 32, in_edgedim: None, deg_norm: rw, edge_gate: NoneType,aggr: add | number of parameters: 1056)\n",
            "      (non_linear): Identity()\n",
            "    )\n",
            "    (7): GCNLayer(\n",
            "      (gcn): NodeModelAdditive (in_channels: 32, out_channels: 32, in_edgedim: None, deg_norm: rw, edge_gate: NoneType,aggr: add | number of parameters: 1056)\n",
            "      (non_linear): Identity()\n",
            "    )\n",
            "    (8): GCNLayer(\n",
            "      (gcn): NodeModelAdditive (in_channels: 32, out_channels: 32, in_edgedim: None, deg_norm: rw, edge_gate: NoneType,aggr: add | number of parameters: 1056)\n",
            "      (non_linear): Identity()\n",
            "    )\n",
            "    (9): GCNLayer(\n",
            "      (gcn): NodeModelAdditive (in_channels: 32, out_channels: 32, in_edgedim: None, deg_norm: rw, edge_gate: NoneType,aggr: add | number of parameters: 1056)\n",
            "      (non_linear): Identity()\n",
            "    )\n",
            "    (10): GCNLayer(\n",
            "      (gcn): NodeModelAdditive (in_channels: 32, out_channels: 32, in_edgedim: None, deg_norm: rw, edge_gate: NoneType,aggr: add | number of parameters: 1056)\n",
            "      (non_linear): Identity()\n",
            "    )\n",
            "    (11): GCNLayer(\n",
            "      (gcn): NodeModelAdditive (in_channels: 32, out_channels: 32, in_edgedim: None, deg_norm: rw, edge_gate: NoneType,aggr: add | number of parameters: 1056)\n",
            "      (non_linear): Identity()\n",
            "    )\n",
            "  )\n",
            "  (dropout): Dropout(p=0.0, inplace=False)\n",
            "  (residuals): ModuleList(\n",
            "    (0): Linear(in_features=1, out_features=32, bias=False)\n",
            "    (1): Identity()\n",
            "    (2): Identity()\n",
            "    (3): Identity()\n",
            "    (4): Identity()\n",
            "    (5): Identity()\n",
            "    (6): Identity()\n",
            "    (7): Identity()\n",
            "    (8): Identity()\n",
            "    (9): Identity()\n",
            "    (10): Identity()\n",
            "    (11): Identity()\n",
            "  )\n",
            "  (non_linear): ReLU()\n",
            "  (final): Linear(in_features=32, out_features=2, bias=True)\n",
            ")\n",
            "tcmalloc: large alloc 1546805248 bytes == 0x622456000 @  0x7f9b95787b6b 0x7f9b957a7379 0x7f9b25f88d57 0x7f9b25f76bc3 0x7f9b502f9560 0x7f9b502f9a85 0x7f9b502faa20 0x7f9b5036e007 0x7f9b50370126 0x7f9b50c071f3 0x7f9b506dba4c 0x7f9b51c7789c 0x7f9b51c77ea6 0x7f9b5075a36b 0x7f9b77c2539f 0x593784 0x548c51 0x51566f 0x549576 0x4bcb19 0x59c019 0x595ef6 0x5134a6 0x549576 0x4bcb19 0x532edb 0x595ef6 0x5134a6 0x549576 0x4bcb19 0x59c019\n",
            "tcmalloc: large alloc 1546805248 bytes == 0x633e16000 @  0x7f9b95787b6b 0x7f9b957a7379 0x7f9b25f88d57 0x7f9b25f76bc3 0x7f9b502f9560 0x7f9b502f9a85 0x7f9b502faa20 0x7f9b5036e007 0x7f9b50370126 0x7f9b50c071f3 0x7f9b506dba4c 0x7f9b51c7789c 0x7f9b51c77ea6 0x7f9b5075a36b 0x7f9b77c2539f 0x593784 0x548c51 0x51566f 0x549576 0x4bcb19 0x59c019 0x595ef6 0x5134a6 0x549576 0x4bcb19 0x532edb 0x595ef6 0x5134a6 0x549576 0x4bcb19 0x59c019\n",
            "tcmalloc: large alloc 1546805248 bytes == 0x633e16000 @  0x7f9b95787b6b 0x7f9b957a7379 0x7f9b25f88d57 0x7f9b25f76bc3 0x7f9b502f9560 0x7f9b502f9a85 0x7f9b502faa20 0x7f9b5036e007 0x7f9b50370126 0x7f9b50c071f3 0x7f9b506dba4c 0x7f9b51c7789c 0x7f9b51c77ea6 0x7f9b5075a36b 0x7f9b77c2539f 0x593784 0x548c51 0x51566f 0x549576 0x4bcb19 0x59c019 0x595ef6 0x5134a6 0x549576 0x4bcb19 0x532edb 0x595ef6 0x5134a6 0x549576 0x4bcb19 0x59c019\n",
            "tcmalloc: large alloc 1546805248 bytes == 0x63caf6000 @  0x7f9b95787b6b 0x7f9b957a7379 0x7f9b25f88d57 0x7f9b25f76bc3 0x7f9b502f9560 0x7f9b502f9a85 0x7f9b502faa20 0x7f9b5036e007 0x7f9b50370126 0x7f9b50c071f3 0x7f9b506dba4c 0x7f9b51c7789c 0x7f9b51c77ea6 0x7f9b5075a36b 0x7f9b77c2539f 0x593784 0x548c51 0x51566f 0x549576 0x4bcb19 0x59c019 0x595ef6 0x5134a6 0x549576 0x4bcb19 0x532edb 0x595ef6 0x5134a6 0x549576 0x4bcb19 0x59c019\n",
            "epoch: 1, passed number of graphs: 96, train running loss: 0.15374 (passed time: 7m 3s)\n",
            "          acc: 0.93036, fpr: 0.00000, fnr: 1.00000, rec: 0.00000, prc: -1.00000, f1: 0.00000, auroc: 0.19066\n",
            "epoch: 1, passed number of graphs: 192, train running loss: 0.10903 (passed time: 14m 35s)\n",
            "          acc: 0.93069, fpr: 0.00000, fnr: 1.00000, rec: 0.00000, prc: -1.00000, f1: 0.00000, auroc: 0.30759\n",
            "epoch: 1, passed number of graphs: 288, train running loss: 0.08646 (passed time: 22m 3s)\n",
            "          acc: 0.92860, fpr: 0.00198, fnr: 0.99809, rec: 0.00191, prc: 0.06755, f1: 0.00372, auroc: 0.70404\n",
            "epoch: 1, passed number of graphs: 384, train running loss: 0.07306 (passed time: 28m 52s)\n",
            "          acc: 0.93041, fpr: 0.00001, fnr: 0.99999, rec: 0.00001, prc: 0.11111, f1: 0.00002, auroc: 0.92652\n",
            "epoch: 1, passed number of graphs: 480, train running loss: 0.06507 (passed time: 35m 53s)\n",
            "          acc: 0.92934, fpr: 0.00022, fnr: 0.99979, rec: 0.00021, prc: 0.06883, f1: 0.00042, auroc: 0.95354\n",
            "epoch: 1, passed number of graphs: 576, train running loss: 0.05895 (passed time: 42m 45s)\n",
            "          acc: 0.93044, fpr: 0.00008, fnr: 0.99995, rec: 0.00005, prc: 0.04651, f1: 0.00010, auroc: 0.92613\n",
            "epoch: 1, passed number of graphs: 672, train running loss: 0.05429 (passed time: 50m 4s)\n",
            "          acc: 0.93009, fpr: 0.00032, fnr: 0.99962, rec: 0.00038, prc: 0.08065, f1: 0.00075, auroc: 0.95441\n",
            "epoch: 1, passed number of graphs: 768, train running loss: 0.05050 (passed time: 57m 36s)\n",
            "          acc: 0.93068, fpr: 0.00054, fnr: 0.99914, rec: 0.00086, prc: 0.10502, f1: 0.00171, auroc: 0.96742\n",
            "Validation --- epoch: 1, loss: 0.17999\n",
            "          fnr: 0.99853, f1: 0.00291, auroc: 0.96619, rec: 0.00147, acc: 0.92992, fpr: 0.00066, prc: 0.14276\n",
            "model saved at ./saved_models/chord_model_lay12_rh1_rw_ep50.pt.\n",
            "************ best model obtained after epoch 1, saved at ./saved_models/chord_model_lay12_rh1_rw_ep50.pt ************\n",
            "Testing --- loss: 0.18002\n",
            "          fnr: 0.99850, f1: 0.00298, auroc: 0.96599, rec: 0.00150, acc: 0.93005, fpr: 0.00066, prc: 0.14513\n"
          ]
        }
      ]
    }
  ]
}