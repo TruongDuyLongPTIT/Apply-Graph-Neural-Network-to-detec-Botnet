{
  "nbformat": 4,
  "nbformat_minor": 0,
  "metadata": {
    "colab": {
      "provenance": [],
      "machine_shape": "hm",
      "mount_file_id": "1ieirVYSXQhE16xFhS2AmTmE0bArwD1xs",
      "authorship_tag": "ABX9TyPT9a7jFuKIaTRlG7/JKlSQ",
      "include_colab_link": true
    },
    "kernelspec": {
      "name": "python3",
      "display_name": "Python 3"
    },
    "language_info": {
      "name": "python"
    },
    "accelerator": "GPU"
  },
  "cells": [
    {
      "cell_type": "markdown",
      "metadata": {
        "id": "view-in-github",
        "colab_type": "text"
      },
      "source": [
        "<a href=\"https://colab.research.google.com/github/TruongDuyLongPTIT/DoAnTotNghiepPTIT/blob/main/MLP_Chord.ipynb\" target=\"_parent\"><img src=\"https://colab.research.google.com/assets/colab-badge.svg\" alt=\"Open In Colab\"/></a>"
      ]
    },
    {
      "cell_type": "code",
      "execution_count": null,
      "metadata": {
        "collapsed": true,
        "id": "XPr85l2De4LJ"
      },
      "outputs": [],
      "source": [
        "!pip install deepdish==0.3.5\n",
        "!pip install torch_geometric==1.4.3\n",
        "!pip install torch_sparse\n",
        "!pip install torch_scatter\n",
        "!pip install torch_cluster"
      ]
    },
    {
      "cell_type": "code",
      "source": [
        "!git clone https://github.com/harvardnlp/botnet-detection\n"
      ],
      "metadata": {
        "id": "upXPqA4nfFMm"
      },
      "execution_count": null,
      "outputs": []
    },
    {
      "cell_type": "code",
      "source": [
        "!cd botnet_detection\n",
        "!python botnet_detection/setup.py install"
      ],
      "metadata": {
        "id": "nEQeCxQXyFqJ"
      },
      "execution_count": null,
      "outputs": []
    },
    {
      "cell_type": "code",
      "source": [
        "!cp -r /content/drive/MyDrive/botnet_chord.tar.gz /content/data/botnet/raw\n"
      ],
      "metadata": {
        "id": "wGKKfZq4yS_o"
      },
      "execution_count": 6,
      "outputs": []
    },
    {
      "cell_type": "code",
      "source": [
        "from botnet_detection.botdet.data.dataset_botnet import BotnetDataset\n",
        "from botnet_detection.botdet.data.dataloader import GraphDataLoader\n",
        "\n",
        "botnet_dataset_train = BotnetDataset(name='chord', split='train', in_memory = False, graph_format='pyg')\n",
        "botnet_dataset_val = BotnetDataset(name='chord', split='val', in_memory = False, graph_format='pyg')\n",
        "botnet_dataset_test = BotnetDataset(name='chord', split='test', in_memory = False, graph_format='pyg')\n",
        "print(botnet_dataset_train)"
      ],
      "metadata": {
        "colab": {
          "base_uri": "https://localhost:8080/"
        },
        "id": "E-YhdgbxyowT",
        "outputId": "d6a1c505-6f64-497f-a8c0-a0979eb67bcc"
      },
      "execution_count": 7,
      "outputs": [
        {
          "output_type": "stream",
          "name": "stdout",
          "text": [
            "Extracting data/botnet/raw/botnet_chord.tar.gz\n",
            "Processing...\n",
            "writing train set ----------\n"
          ]
        },
        {
          "output_type": "stream",
          "name": "stderr",
          "text": [
            "768it [02:10,  5.90it/s]\n"
          ]
        },
        {
          "output_type": "stream",
          "name": "stdout",
          "text": [
            "train split --- number of graphs: 768, data saved at data/botnet/processed/chord_train.hdf5.\n",
            "writing val set ----------\n"
          ]
        },
        {
          "output_type": "stream",
          "name": "stderr",
          "text": [
            "96it [00:16,  5.85it/s]\n"
          ]
        },
        {
          "output_type": "stream",
          "name": "stdout",
          "text": [
            "val split --- number of graphs: 96, data saved at data/botnet/processed/chord_val.hdf5.\n",
            "writing test set ----------\n"
          ]
        },
        {
          "output_type": "stream",
          "name": "stderr",
          "text": [
            "96it [00:17,  5.51it/s]"
          ]
        },
        {
          "output_type": "stream",
          "name": "stdout",
          "text": [
            "test split --- number of graphs: 96, data saved at data/botnet/processed/chord_test.hdf5.\n",
            "Done!\n",
            "BotnetDataset(topology: chord | split: train | #graphs: 768 | graph format: pyg)\n"
          ]
        },
        {
          "output_type": "stream",
          "name": "stderr",
          "text": [
            "\n"
          ]
        }
      ]
    },
    {
      "cell_type": "code",
      "source": [
        "!bash /content/botnet_detection/run_botnet.sh\n"
      ],
      "metadata": {
        "colab": {
          "base_uri": "https://localhost:8080/"
        },
        "id": "bdtSOxYU1pje",
        "outputId": "6fef4dc7-c878-4a12-816a-38988e7ac6e0"
      },
      "execution_count": 19,
      "outputs": [
        {
          "output_type": "stream",
          "name": "stdout",
          "text": [
            "All Logs will be saved to ./saved_models/chord_model_lay12_rh1_rw_ep50.log\n",
            "python /content/botnet_detection/train_botnet.py --devid 0 --data_dir ./data/botnet --data_name chord --batch_size 2 --enc_sizes 32 32 32 32 32 32 32 32 32 32 32 32 --act relu --residual_hop 1 --deg_norm rw --final proj --epochs 8 --lr 0.005 --early_stop 1 --save_dir ./saved_models --save_name chord_model_lay12_rh1_rw_ep50.pt\n",
            "------------------------------\n",
            "Namespace(act='relu', aggr='add', att_act='lrelu', att_combine='cat', att_combine_out='cat', att_dir='in', att_dropout=0, batch_size=2, bias=True, data_dir='./data/botnet', data_name='chord', deg_norm='rw', devid=0, dropout=0.0, early_stop=1, edge_gate='none', enc_sizes=[32, 32, 32, 32, 32, 32, 32, 32, 32, 32, 32, 32], epochs=8, final='proj', in_channels=1, in_memory=False, layer_act='none', log_interval=96, logmode='w', lr=0.005, n_classes=2, nheads=[1], nodemodel='additive', residual_hop=1, save_dir='./saved_models', save_name='chord_model_lay12_rh1_rw_ep50.pt', seed=0, shuffle=False, weight_decay=0.0005)\n",
            "------------------------------\n",
            "Fri Sep 16 11:24:51 2022\n",
            "------------------------------\n",
            "loading dataset...\n",
            "model ----------\n",
            "GCNModel(\n",
            "  (gcn_net): ModuleList(\n",
            "    (0): GCNLayer(\n",
            "      (gcn): NodeModelMLP (in_channels: 1, out_channels: 32, in_edgedim: None, deg_norm: rw, edge_gate: NoneType,aggr: add | number of parameters: 64)\n",
            "      (non_linear): Identity()\n",
            "    )\n",
            "    (1): GCNLayer(\n",
            "      (gcn): NodeModelMLP (in_channels: 32, out_channels: 32, in_edgedim: None, deg_norm: rw, edge_gate: NoneType,aggr: add | number of parameters: 1056)\n",
            "      (non_linear): Identity()\n",
            "    )\n",
            "    (2): GCNLayer(\n",
            "      (gcn): NodeModelMLP (in_channels: 32, out_channels: 32, in_edgedim: None, deg_norm: rw, edge_gate: NoneType,aggr: add | number of parameters: 1056)\n",
            "      (non_linear): Identity()\n",
            "    )\n",
            "    (3): GCNLayer(\n",
            "      (gcn): NodeModelMLP (in_channels: 32, out_channels: 32, in_edgedim: None, deg_norm: rw, edge_gate: NoneType,aggr: add | number of parameters: 1056)\n",
            "      (non_linear): Identity()\n",
            "    )\n",
            "    (4): GCNLayer(\n",
            "      (gcn): NodeModelMLP (in_channels: 32, out_channels: 32, in_edgedim: None, deg_norm: rw, edge_gate: NoneType,aggr: add | number of parameters: 1056)\n",
            "      (non_linear): Identity()\n",
            "    )\n",
            "    (5): GCNLayer(\n",
            "      (gcn): NodeModelMLP (in_channels: 32, out_channels: 32, in_edgedim: None, deg_norm: rw, edge_gate: NoneType,aggr: add | number of parameters: 1056)\n",
            "      (non_linear): Identity()\n",
            "    )\n",
            "    (6): GCNLayer(\n",
            "      (gcn): NodeModelMLP (in_channels: 32, out_channels: 32, in_edgedim: None, deg_norm: rw, edge_gate: NoneType,aggr: add | number of parameters: 1056)\n",
            "      (non_linear): Identity()\n",
            "    )\n",
            "    (7): GCNLayer(\n",
            "      (gcn): NodeModelMLP (in_channels: 32, out_channels: 32, in_edgedim: None, deg_norm: rw, edge_gate: NoneType,aggr: add | number of parameters: 1056)\n",
            "      (non_linear): Identity()\n",
            "    )\n",
            "    (8): GCNLayer(\n",
            "      (gcn): NodeModelMLP (in_channels: 32, out_channels: 32, in_edgedim: None, deg_norm: rw, edge_gate: NoneType,aggr: add | number of parameters: 1056)\n",
            "      (non_linear): Identity()\n",
            "    )\n",
            "    (9): GCNLayer(\n",
            "      (gcn): NodeModelMLP (in_channels: 32, out_channels: 32, in_edgedim: None, deg_norm: rw, edge_gate: NoneType,aggr: add | number of parameters: 1056)\n",
            "      (non_linear): Identity()\n",
            "    )\n",
            "    (10): GCNLayer(\n",
            "      (gcn): NodeModelMLP (in_channels: 32, out_channels: 32, in_edgedim: None, deg_norm: rw, edge_gate: NoneType,aggr: add | number of parameters: 1056)\n",
            "      (non_linear): Identity()\n",
            "    )\n",
            "    (11): GCNLayer(\n",
            "      (gcn): NodeModelMLP (in_channels: 32, out_channels: 32, in_edgedim: None, deg_norm: rw, edge_gate: NoneType,aggr: add | number of parameters: 1056)\n",
            "      (non_linear): Identity()\n",
            "    )\n",
            "  )\n",
            "  (dropout): Dropout(p=0.0, inplace=False)\n",
            "  (residuals): ModuleList(\n",
            "    (0): Linear(in_features=1, out_features=32, bias=False)\n",
            "    (1): Identity()\n",
            "    (2): Identity()\n",
            "    (3): Identity()\n",
            "    (4): Identity()\n",
            "    (5): Identity()\n",
            "    (6): Identity()\n",
            "    (7): Identity()\n",
            "    (8): Identity()\n",
            "    (9): Identity()\n",
            "    (10): Identity()\n",
            "    (11): Identity()\n",
            "  )\n",
            "  (non_linear): ReLU()\n",
            "  (final): Linear(in_features=32, out_features=2, bias=True)\n",
            ")\n",
            "epoch: 1, passed number of graphs: 96, train running loss: 0.52751 (passed time: 22s)\n",
            "          acc: 0.93079, fpr: 0.00000, fnr: 1.00000, rec: 0.00000, prc: -1.00000, f1: 0.00000, auroc: 0.21734, f1-macro: nan\n",
            "epoch: 1, passed number of graphs: 192, train running loss: 0.36111 (passed time: 45s)\n",
            "          acc: 0.92939, fpr: 0.00096, fnr: 0.99890, rec: 0.00110, prc: 0.07914, f1: 0.00217, auroc: 0.50602, f1-macro: 0.48278\n",
            "epoch: 1, passed number of graphs: 288, train running loss: 0.28792 (passed time: 1m 7s)\n",
            "          acc: 0.93030, fpr: 0.00053, fnr: 0.99925, rec: 0.00075, prc: 0.09554, f1: 0.00149, auroc: 0.85697, f1-macro: 0.48269\n",
            "epoch: 1, passed number of graphs: 384, train running loss: 0.24726 (passed time: 1m 30s)\n",
            "          acc: 0.92749, fpr: 0.00191, fnr: 0.99705, rec: 0.00295, prc: 0.10573, f1: 0.00574, auroc: 0.89921, f1-macro: 0.48406\n",
            "epoch: 1, passed number of graphs: 480, train running loss: 0.22008 (passed time: 1m 52s)\n",
            "          acc: 0.92866, fpr: 0.00080, fnr: 0.99895, rec: 0.00105, prc: 0.09052, f1: 0.00208, auroc: 0.90390, f1-macro: 0.48254\n",
            "epoch: 1, passed number of graphs: 576, train running loss: 0.20256 (passed time: 2m 15s)\n",
            "          acc: 0.93088, fpr: 0.00000, fnr: 1.00000, rec: 0.00000, prc: -1.00000, f1: 0.00000, auroc: 0.73469, f1-macro: nan\n",
            "epoch: 1, passed number of graphs: 672, train running loss: 0.18952 (passed time: 2m 37s)\n",
            "          acc: 0.93019, fpr: 0.00072, fnr: 0.99915, rec: 0.00085, prc: 0.08019, f1: 0.00168, auroc: 0.92279, f1-macro: 0.48276\n",
            "epoch: 1, passed number of graphs: 768, train running loss: 0.17874 (passed time: 3m 0s)\n",
            "          acc: 0.93068, fpr: 0.00001, fnr: 1.00000, rec: 0.00000, prc: 0.00000, f1: 0.00000, auroc: 0.94826, f1-macro: nan\n",
            "Validation --- epoch: 1, loss: 0.19230\n",
            "          acc: 0.93041, fpr: 0.00002, rec: 0.00002, auroc: 0.95435, prc: 0.05185, f1-macro: nan, fnr: 0.99998, f1: 0.00004\n",
            "model saved at ./saved_models/chord_model_lay12_rh1_rw_ep50.pt.\n",
            "epoch: 2, passed number of graphs: 96, train running loss: 0.08047 (passed time: 3m 45s)\n",
            "          acc: 0.94442, fpr: 0.00054, fnr: 0.79580, rec: 0.20420, prc: 0.96548, f1: 0.33710, auroc: 0.96756, f1-macro: 0.65405\n",
            "epoch: 2, passed number of graphs: 192, train running loss: 0.09254 (passed time: 4m 7s)\n",
            "          acc: 0.93112, fpr: 0.00043, fnr: 0.98115, rec: 0.01885, prc: 0.76782, f1: 0.03680, auroc: 0.97456, f1-macro: 0.50054\n",
            "epoch: 2, passed number of graphs: 288, train running loss: 0.08303 (passed time: 4m 30s)\n",
            "          acc: 0.98193, fpr: 0.00198, fnr: 0.23425, rec: 0.76575, prc: 0.96637, f1: 0.85444, auroc: 0.97725, f1-macro: 0.92240\n",
            "epoch: 2, passed number of graphs: 384, train running loss: 0.07600 (passed time: 4m 52s)\n",
            "          acc: 0.91159, fpr: 0.09320, fnr: 0.02560, rec: 0.97440, prc: 0.44393, f1: 0.60996, auroc: 0.95361, f1-macro: 0.78005\n",
            "epoch: 2, passed number of graphs: 480, train running loss: 0.08405 (passed time: 5m 15s)\n",
            "          acc: 0.93091, fpr: 0.00009, fnr: 0.97640, rec: 0.02360, prc: 0.95161, f1: 0.04606, auroc: 0.96322, f1-macro: 0.50511\n",
            "epoch: 2, passed number of graphs: 576, train running loss: 0.08464 (passed time: 5m 38s)\n",
            "          acc: 0.93409, fpr: 0.00024, fnr: 0.95025, rec: 0.04975, prc: 0.93957, f1: 0.09450, auroc: 0.96371, f1-macro: 0.53015\n",
            "epoch: 2, passed number of graphs: 672, train running loss: 0.08805 (passed time: 6m 0s)\n",
            "          acc: 0.93392, fpr: 0.00033, fnr: 0.95060, rec: 0.04940, prc: 0.91736, f1: 0.09375, auroc: 0.97282, f1-macro: 0.52973\n",
            "epoch: 2, passed number of graphs: 768, train running loss: 0.08493 (passed time: 6m 23s)\n",
            "          acc: 0.98136, fpr: 0.00050, fnr: 0.26225, rec: 0.73775, prc: 0.99107, f1: 0.84585, auroc: 0.98467, f1-macro: 0.91797\n",
            "Validation --- epoch: 2, loss: 0.11914\n",
            "          acc: 0.98206, fpr: 0.00253, rec: 0.77588, auroc: 0.99091, prc: 0.95830, f1-macro: 0.92392, fnr: 0.22412, f1: 0.85741\n",
            "model saved at ./saved_models/chord_model_lay12_rh1_rw_ep50.pt.\n",
            "epoch: 3, passed number of graphs: 96, train running loss: 0.07841 (passed time: 7m 8s)\n",
            "          acc: 0.94582, fpr: 0.00013, fnr: 0.78105, rec: 0.21895, prc: 0.99185, f1: 0.35871, auroc: 0.95944, f1-macro: 0.66521\n",
            "epoch: 3, passed number of graphs: 192, train running loss: 0.06380 (passed time: 7m 30s)\n",
            "          acc: 0.98529, fpr: 0.00023, fnr: 0.20760, rec: 0.79240, prc: 0.99610, f1: 0.88265, auroc: 0.96857, f1-macro: 0.93740\n",
            "epoch: 3, passed number of graphs: 288, train running loss: 0.08482 (passed time: 7m 53s)\n",
            "          acc: 0.92518, fpr: 0.00666, fnr: 0.99095, rec: 0.00905, prc: 0.09188, f1: 0.01648, auroc: 0.83432, f1-macro: 0.48879\n",
            "epoch: 3, passed number of graphs: 384, train running loss: 0.09079 (passed time: 8m 15s)\n",
            "          acc: 0.92963, fpr: 0.00005, fnr: 0.99125, rec: 0.00875, prc: 0.92593, f1: 0.01734, auroc: 0.97518, f1-macro: 0.49042\n",
            "epoch: 3, passed number of graphs: 480, train running loss: 0.08647 (passed time: 8m 38s)\n",
            "          acc: 0.93570, fpr: 0.00018, fnr: 0.90755, rec: 0.09245, prc: 0.97521, f1: 0.16889, auroc: 0.97733, f1-macro: 0.56772\n",
            "epoch: 3, passed number of graphs: 576, train running loss: 0.08647 (passed time: 9m 0s)\n",
            "          acc: 0.93426, fpr: 0.00019, fnr: 0.94850, rec: 0.05150, prc: 0.95194, f1: 0.09771, auroc: 0.96963, f1-macro: 0.53180\n",
            "epoch: 3, passed number of graphs: 672, train running loss: 0.08156 (passed time: 9m 23s)\n",
            "          acc: 0.99277, fpr: 0.00063, fnr: 0.09595, rec: 0.90405, prc: 0.99069, f1: 0.94539, auroc: 0.99006, f1-macro: 0.97076\n",
            "epoch: 3, passed number of graphs: 768, train running loss: 0.07643 (passed time: 9m 45s)\n",
            "          acc: 0.99587, fpr: 0.00176, fnr: 0.03600, rec: 0.96400, prc: 0.97610, f1: 0.97001, auroc: 0.99293, f1-macro: 0.98390\n",
            "Validation --- epoch: 3, loss: 0.06444\n",
            "          acc: 0.99588, fpr: 0.00127, rec: 0.95775, auroc: 0.99389, prc: 0.98259, f1-macro: 0.98389, fnr: 0.04225, f1: 0.97000\n",
            "model saved at ./saved_models/chord_model_lay12_rh1_rw_ep50.pt.\n",
            "epoch: 4, passed number of graphs: 96, train running loss: 0.03483 (passed time: 10m 31s)\n",
            "          acc: 0.99439, fpr: 0.00043, fnr: 0.07525, rec: 0.92475, prc: 0.99377, f1: 0.95802, auroc: 0.98318, f1-macro: 0.97751\n",
            "epoch: 4, passed number of graphs: 192, train running loss: 0.03225 (passed time: 10m 53s)\n",
            "          acc: 0.99422, fpr: 0.00101, fnr: 0.06925, rec: 0.93075, prc: 0.98570, f1: 0.95744, auroc: 0.99159, f1-macro: 0.97717\n",
            "epoch: 4, passed number of graphs: 288, train running loss: 0.03161 (passed time: 11m 16s)\n",
            "          acc: 0.99460, fpr: 0.00049, fnr: 0.07130, rec: 0.92870, prc: 0.99289, f1: 0.95972, auroc: 0.98625, f1-macro: 0.97841\n",
            "epoch: 4, passed number of graphs: 384, train running loss: 0.03002 (passed time: 11m 38s)\n",
            "          acc: 0.99177, fpr: 0.00035, fnr: 0.11140, rec: 0.88860, prc: 0.99491, f1: 0.93875, auroc: 0.98479, f1-macro: 0.96717\n",
            "epoch: 4, passed number of graphs: 480, train running loss: 0.02845 (passed time: 12m 1s)\n",
            "          acc: 0.99742, fpr: 0.00058, fnr: 0.02895, rec: 0.97105, prc: 0.99223, f1: 0.98153, auroc: 0.99001, f1-macro: 0.99007\n",
            "epoch: 4, passed number of graphs: 576, train running loss: 0.02722 (passed time: 12m 23s)\n",
            "          acc: 0.99681, fpr: 0.00067, fnr: 0.03705, rec: 0.96295, prc: 0.99069, f1: 0.97662, auroc: 0.99469, f1-macro: 0.98746\n",
            "epoch: 4, passed number of graphs: 672, train running loss: 0.02556 (passed time: 12m 46s)\n",
            "          acc: 0.99710, fpr: 0.00138, fnr: 0.02325, rec: 0.97675, prc: 0.98131, f1: 0.97903, auroc: 0.99808, f1-macro: 0.98874\n",
            "epoch: 4, passed number of graphs: 768, train running loss: 0.02432 (passed time: 13m 8s)\n",
            "          acc: 0.99624, fpr: 0.00104, fnr: 0.04030, rec: 0.95970, prc: 0.98567, f1: 0.97251, auroc: 0.99536, f1-macro: 0.98525\n",
            "Validation --- epoch: 4, loss: 0.02946\n",
            "          acc: 0.99636, fpr: 0.00062, rec: 0.95597, auroc: 0.99344, prc: 0.99142, f1-macro: 0.98571, fnr: 0.04403, f1: 0.97337\n",
            "model saved at ./saved_models/chord_model_lay12_rh1_rw_ep50.pt.\n",
            "epoch: 5, passed number of graphs: 96, train running loss: 0.02198 (passed time: 13m 54s)\n",
            "          acc: 0.99597, fpr: 0.00064, fnr: 0.04965, rec: 0.95035, prc: 0.99103, f1: 0.97026, auroc: 0.99164, f1-macro: 0.98405\n",
            "epoch: 5, passed number of graphs: 192, train running loss: 0.01803 (passed time: 14m 16s)\n",
            "          acc: 0.99551, fpr: 0.00096, fnr: 0.05160, rec: 0.94840, prc: 0.98673, f1: 0.96719, auroc: 0.99348, f1-macro: 0.98239\n",
            "epoch: 5, passed number of graphs: 288, train running loss: 0.01591 (passed time: 14m 38s)\n",
            "          acc: 0.99724, fpr: 0.00068, fnr: 0.03080, rec: 0.96920, prc: 0.99070, f1: 0.97983, auroc: 0.99687, f1-macro: 0.98917\n",
            "epoch: 5, passed number of graphs: 384, train running loss: 0.01446 (passed time: 15m 1s)\n",
            "          acc: 0.99691, fpr: 0.00055, fnr: 0.03635, rec: 0.96365, prc: 0.99263, f1: 0.97793, auroc: 0.99689, f1-macro: 0.98813\n",
            "epoch: 5, passed number of graphs: 480, train running loss: 0.01369 (passed time: 15m 24s)\n",
            "          acc: 0.99744, fpr: 0.00054, fnr: 0.02905, rec: 0.97095, prc: 0.99269, f1: 0.98170, auroc: 0.99778, f1-macro: 0.99016\n",
            "epoch: 5, passed number of graphs: 576, train running loss: 0.01331 (passed time: 15m 46s)\n",
            "          acc: 0.99716, fpr: 0.00034, fnr: 0.03655, rec: 0.96345, prc: 0.99525, f1: 0.97909, auroc: 0.99424, f1-macro: 0.98878\n",
            "epoch: 5, passed number of graphs: 672, train running loss: 0.01322 (passed time: 16m 9s)\n",
            "          acc: 0.99774, fpr: 0.00070, fnr: 0.02320, rec: 0.97680, prc: 0.99047, f1: 0.98359, auroc: 0.99807, f1-macro: 0.99119\n",
            "epoch: 5, passed number of graphs: 768, train running loss: 0.01266 (passed time: 16m 31s)\n",
            "          acc: 0.99700, fpr: 0.00034, fnr: 0.03870, rec: 0.96130, prc: 0.99524, f1: 0.97797, auroc: 0.99592, f1-macro: 0.98818\n",
            "Validation --- epoch: 5, loss: 0.01663\n",
            "          acc: 0.99734, fpr: 0.00039, rec: 0.96691, auroc: 0.99690, prc: 0.99467, f1-macro: 0.98958, fnr: 0.03309, f1: 0.98059\n",
            "model saved at ./saved_models/chord_model_lay12_rh1_rw_ep50.pt.\n",
            "epoch: 6, passed number of graphs: 96, train running loss: 0.01094 (passed time: 17m 17s)\n",
            "          acc: 0.99493, fpr: 0.00023, fnr: 0.07020, rec: 0.92980, prc: 0.99673, f1: 0.96210, auroc: 0.98299, f1-macro: 0.97969\n",
            "epoch: 6, passed number of graphs: 192, train running loss: 0.01142 (passed time: 17m 39s)\n",
            "          acc: 0.99538, fpr: 0.00213, fnr: 0.03780, rec: 0.96220, prc: 0.97138, f1: 0.96677, auroc: 0.99816, f1-macro: 0.98214\n",
            "epoch: 6, passed number of graphs: 288, train running loss: 0.01034 (passed time: 18m 2s)\n",
            "          acc: 0.99710, fpr: 0.00064, fnr: 0.03335, rec: 0.96665, prc: 0.99123, f1: 0.97879, auroc: 0.99770, f1-macro: 0.98861\n",
            "epoch: 6, passed number of graphs: 384, train running loss: 0.00945 (passed time: 18m 24s)\n",
            "          acc: 0.99764, fpr: 0.00041, fnr: 0.02790, rec: 0.97210, prc: 0.99448, f1: 0.98316, auroc: 0.99873, f1-macro: 0.99095\n",
            "epoch: 6, passed number of graphs: 480, train running loss: 0.00890 (passed time: 18m 47s)\n",
            "          acc: 0.99801, fpr: 0.00061, fnr: 0.02005, rec: 0.97995, prc: 0.99185, f1: 0.98587, auroc: 0.99940, f1-macro: 0.99240\n",
            "epoch: 6, passed number of graphs: 576, train running loss: 0.00895 (passed time: 19m 9s)\n",
            "          acc: 0.99799, fpr: 0.00039, fnr: 0.02385, rec: 0.97615, prc: 0.99465, f1: 0.98531, auroc: 0.99682, f1-macro: 0.99212\n",
            "epoch: 6, passed number of graphs: 672, train running loss: 0.00904 (passed time: 19m 32s)\n",
            "          acc: 0.99691, fpr: 0.00071, fnr: 0.03515, rec: 0.96485, prc: 0.99025, f1: 0.97738, auroc: 0.98789, f1-macro: 0.98786\n",
            "epoch: 6, passed number of graphs: 768, train running loss: 0.00888 (passed time: 19m 54s)\n",
            "          acc: 0.99817, fpr: 0.00057, fnr: 0.01875, rec: 0.98125, prc: 0.99231, f1: 0.98675, auroc: 0.99910, f1-macro: 0.99289\n",
            "Validation --- epoch: 6, loss: 0.01154\n",
            "          acc: 0.99814, fpr: 0.00047, rec: 0.97956, auroc: 0.99899, prc: 0.99369, f1-macro: 0.99279, fnr: 0.02044, f1: 0.98657\n",
            "model saved at ./saved_models/chord_model_lay12_rh1_rw_ep50.pt.\n",
            "epoch: 7, passed number of graphs: 96, train running loss: 0.01002 (passed time: 20m 40s)\n",
            "          acc: 0.99672, fpr: 0.00028, fnr: 0.04365, rec: 0.95635, prc: 0.99609, f1: 0.97582, auroc: 0.99159, f1-macro: 0.98703\n",
            "epoch: 7, passed number of graphs: 192, train running loss: 0.25606 (passed time: 21m 2s)\n",
            "          acc: 0.93020, fpr: 0.00000, fnr: 1.00000, rec: 0.00000, prc: -1.00000, f1: 0.00000, auroc: 0.40332, f1-macro: nan\n",
            "epoch: 7, passed number of graphs: 288, train running loss: 0.21498 (passed time: 21m 25s)\n",
            "          acc: 0.93074, fpr: 0.00000, fnr: 1.00000, rec: 0.00000, prc: -1.00000, f1: 0.00000, auroc: 0.84747, f1-macro: nan\n",
            "epoch: 7, passed number of graphs: 384, train running loss: 0.19277 (passed time: 21m 47s)\n",
            "          acc: 0.92902, fpr: 0.00003, fnr: 1.00000, rec: 0.00000, prc: 0.00000, f1: 0.00000, auroc: 0.94272, f1-macro: nan\n",
            "epoch: 7, passed number of graphs: 480, train running loss: 0.17925 (passed time: 22m 10s)\n",
            "          acc: 0.92930, fpr: 0.00003, fnr: 0.99995, rec: 0.00005, prc: 0.10000, f1: 0.00010, auroc: 0.96604, f1-macro: 0.48173\n",
            "epoch: 7, passed number of graphs: 576, train running loss: 0.17014 (passed time: 22m 32s)\n",
            "          acc: 0.93088, fpr: 0.00000, fnr: 1.00000, rec: 0.00000, prc: -1.00000, f1: 0.00000, auroc: 0.91082, f1-macro: nan\n",
            "epoch: 7, passed number of graphs: 672, train running loss: 0.16367 (passed time: 22m 55s)\n",
            "          acc: 0.93080, fpr: 0.00001, fnr: 1.00000, rec: 0.00000, prc: 0.00000, f1: 0.00000, auroc: 0.96441, f1-macro: nan\n",
            "epoch: 7, passed number of graphs: 768, train running loss: 0.15860 (passed time: 23m 17s)\n",
            "          acc: 0.92804, fpr: 0.00309, fnr: 0.99660, rec: 0.00340, prc: 0.07564, f1: 0.00651, auroc: 0.93486, f1-macro: 0.48459\n",
            "Validation --- epoch: 7, loss: 0.24477\n",
            "          acc: 0.93042, fpr: 0.00001, rec: 0.00001, auroc: 0.95696, prc: 0.07292, f1-macro: nan, fnr: 0.99999, f1: 0.00001\n",
            "EarlyStopping counter: 1 out of 5\n",
            "epoch: 8, passed number of graphs: 96, train running loss: 0.12115 (passed time: 24m 3s)\n",
            "          acc: 0.93078, fpr: 0.00001, fnr: 1.00000, rec: 0.00000, prc: 0.00000, f1: 0.00000, auroc: 0.93289, f1-macro: nan\n",
            "epoch: 8, passed number of graphs: 192, train running loss: 0.12055 (passed time: 24m 25s)\n",
            "          acc: 0.93017, fpr: 0.00003, fnr: 1.00000, rec: 0.00000, prc: 0.00000, f1: 0.00000, auroc: 0.96211, f1-macro: nan\n",
            "epoch: 8, passed number of graphs: 288, train running loss: 0.11715 (passed time: 24m 48s)\n",
            "          acc: 0.92749, fpr: 0.00401, fnr: 0.99305, rec: 0.00695, prc: 0.11412, f1: 0.01310, auroc: 0.97449, f1-macro: 0.48773\n",
            "epoch: 8, passed number of graphs: 384, train running loss: 0.11741 (passed time: 25m 10s)\n",
            "          acc: 0.92905, fpr: 0.00000, fnr: 1.00000, rec: 0.00000, prc: -1.00000, f1: 0.00000, auroc: 0.83233, f1-macro: nan\n",
            "epoch: 8, passed number of graphs: 480, train running loss: 0.11540 (passed time: 25m 33s)\n",
            "          acc: 0.92858, fpr: 0.00128, fnr: 0.99370, rec: 0.00630, prc: 0.27214, f1: 0.01231, auroc: 0.98220, f1-macro: 0.48763\n",
            "epoch: 8, passed number of graphs: 576, train running loss: 0.11277 (passed time: 25m 56s)\n",
            "          acc: 0.92803, fpr: 0.00389, fnr: 0.98865, rec: 0.01135, prc: 0.17790, f1: 0.02134, auroc: 0.97181, f1-macro: 0.49199\n",
            "epoch: 8, passed number of graphs: 672, train running loss: 0.10928 (passed time: 26m 18s)\n",
            "          acc: 0.93477, fpr: 0.00614, fnr: 0.86005, rec: 0.13995, prc: 0.62871, f1: 0.22894, auroc: 0.98209, f1-macro: 0.59744\n",
            "epoch: 8, passed number of graphs: 768, train running loss: 0.10859 (passed time: 26m 41s)\n",
            "          acc: 0.93006, fpr: 0.00346, fnr: 0.96260, rec: 0.03740, prc: 0.44603, f1: 0.06901, auroc: 0.93195, f1-macro: 0.51634\n",
            "Validation --- epoch: 8, loss: 0.20616\n",
            "          acc: 0.92948, fpr: 0.00263, rec: 0.02158, auroc: 0.92235, prc: 0.37982, f1-macro: 0.50211, fnr: 0.97842, f1: 0.04083\n",
            "EarlyStopping counter: 2 out of 5\n",
            "************ best model obtained after epoch 6, saved at ./saved_models/chord_model_lay12_rh1_rw_ep50.pt ************\n",
            "Testing --- loss: 0.01172\n",
            "          acc: 0.99814, fpr: 0.00047, rec: 0.97944, auroc: 0.99896, prc: 0.99365, f1-macro: 0.99275, fnr: 0.02056, f1: 0.98649\n"
          ]
        }
      ]
    }
  ]
}