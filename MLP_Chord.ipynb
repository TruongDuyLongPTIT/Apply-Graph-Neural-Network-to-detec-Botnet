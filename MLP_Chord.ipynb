{
  "nbformat": 4,
  "nbformat_minor": 0,
  "metadata": {
    "colab": {
      "provenance": [],
      "machine_shape": "hm",
      "mount_file_id": "1ieirVYSXQhE16xFhS2AmTmE0bArwD1xs",
      "authorship_tag": "ABX9TyPT9a7jFuKIaTRlG7/JKlSQ",
      "include_colab_link": true
    },
    "kernelspec": {
      "name": "python3",
      "display_name": "Python 3"
    },
    "language_info": {
      "name": "python"
    },
    "accelerator": "GPU"
  },
  "cells": [
    {
      "cell_type": "markdown",
      "metadata": {
        "id": "view-in-github",
        "colab_type": "text"
      },
      "source": [
        "<a href=\"https://colab.research.google.com/github/TruongDuyLongPTIT/DoAnTotNghiepPTIT/blob/main/MLP_Chord.ipynb\" target=\"_parent\"><img src=\"https://colab.research.google.com/assets/colab-badge.svg\" alt=\"Open In Colab\"/></a>"
      ]
    },
    {
      "cell_type": "code",
      "execution_count": null,
      "metadata": {
        "collapsed": true,
        "id": "XPr85l2De4LJ"
      },
      "outputs": [],
      "source": [
        "!pip install deepdish==0.3.5\n",
        "!pip install torch_geometric==1.4.3\n",
        "!pip install torch_sparse\n",
        "!pip install torch_scatter\n",
        "!pip install torch_cluster"
      ]
    },
    {
      "cell_type": "code",
      "source": [
        "!git clone https://github.com/harvardnlp/botnet-detection\n"
      ],
      "metadata": {
        "id": "upXPqA4nfFMm"
      },
      "execution_count": null,
      "outputs": []
    },
    {
      "cell_type": "code",
      "source": [
        "!cd botnet_detection\n",
        "!python botnet_detection/setup.py install"
      ],
      "metadata": {
        "id": "nEQeCxQXyFqJ"
      },
      "execution_count": null,
      "outputs": []
    },
    {
      "cell_type": "code",
      "source": [
        "!cp -r /content/drive/MyDrive/botnet_chord.tar.gz /content/data/botnet/raw\n"
      ],
      "metadata": {
        "id": "wGKKfZq4yS_o"
      },
      "execution_count": 6,
      "outputs": []
    },
    {
      "cell_type": "code",
      "source": [
        "from botnet_detection.botdet.data.dataset_botnet import BotnetDataset\n",
        "from botnet_detection.botdet.data.dataloader import GraphDataLoader\n",
        "\n",
        "botnet_dataset_train = BotnetDataset(name='chord', split='train', in_memory = False, graph_format='pyg')\n",
        "botnet_dataset_val = BotnetDataset(name='chord', split='val', in_memory = False, graph_format='pyg')\n",
        "botnet_dataset_test = BotnetDataset(name='chord', split='test', in_memory = False, graph_format='pyg')\n",
        "print(botnet_dataset_train)"
      ],
      "metadata": {
        "colab": {
          "base_uri": "https://localhost:8080/"
        },
        "id": "E-YhdgbxyowT",
        "outputId": "d6a1c505-6f64-497f-a8c0-a0979eb67bcc"
      },
      "execution_count": 7,
      "outputs": [
        {
          "output_type": "stream",
          "name": "stdout",
          "text": [
            "Extracting data/botnet/raw/botnet_chord.tar.gz\n",
            "Processing...\n",
            "writing train set ----------\n"
          ]
        },
        {
          "output_type": "stream",
          "name": "stderr",
          "text": [
            "768it [02:10,  5.90it/s]\n"
          ]
        },
        {
          "output_type": "stream",
          "name": "stdout",
          "text": [
            "train split --- number of graphs: 768, data saved at data/botnet/processed/chord_train.hdf5.\n",
            "writing val set ----------\n"
          ]
        },
        {
          "output_type": "stream",
          "name": "stderr",
          "text": [
            "96it [00:16,  5.85it/s]\n"
          ]
        },
        {
          "output_type": "stream",
          "name": "stdout",
          "text": [
            "val split --- number of graphs: 96, data saved at data/botnet/processed/chord_val.hdf5.\n",
            "writing test set ----------\n"
          ]
        },
        {
          "output_type": "stream",
          "name": "stderr",
          "text": [
            "96it [00:17,  5.51it/s]"
          ]
        },
        {
          "output_type": "stream",
          "name": "stdout",
          "text": [
            "test split --- number of graphs: 96, data saved at data/botnet/processed/chord_test.hdf5.\n",
            "Done!\n",
            "BotnetDataset(topology: chord | split: train | #graphs: 768 | graph format: pyg)\n"
          ]
        },
        {
          "output_type": "stream",
          "name": "stderr",
          "text": [
            "\n"
          ]
        }
      ]
    },
    {
      "cell_type": "code",
      "source": [
        "!bash /content/botnet_detection/run_botnet.sh\n"
      ],
      "metadata": {
        "colab": {
          "base_uri": "https://localhost:8080/"
        },
        "id": "bdtSOxYU1pje",
        "outputId": "27c7cad2-7d91-486d-a33c-9e7caef30bcf"
      },
      "execution_count": 21,
      "outputs": [
        {
          "output_type": "stream",
          "name": "stdout",
          "text": [
            "All Logs will be saved to ./saved_models/chord_model_lay12_rh1_rw_ep50.log\n",
            "python /content/botnet_detection/train_botnet.py --devid 0 --data_dir ./data/botnet --data_name chord --batch_size 2 --enc_sizes 32 32 32 32 32 32 32 32 32 32 32 32 --act relu --residual_hop 1 --deg_norm rw --final proj --epochs 20 --lr 0.005 --early_stop 1 --save_dir ./saved_models --save_name chord_model_lay12_rh1_rw_ep50.pt\n",
            "------------------------------\n",
            "Namespace(act='relu', aggr='add', att_act='lrelu', att_combine='cat', att_combine_out='cat', att_dir='in', att_dropout=0, batch_size=2, bias=True, data_dir='./data/botnet', data_name='chord', deg_norm='rw', devid=0, dropout=0.0, early_stop=1, edge_gate='none', enc_sizes=[32, 32, 32, 32, 32, 32, 32, 32, 32, 32, 32, 32], epochs=20, final='proj', in_channels=1, in_memory=False, layer_act='none', log_interval=96, logmode='w', lr=0.005, n_classes=2, nheads=[1], nodemodel='additive', residual_hop=1, save_dir='./saved_models', save_name='chord_model_lay12_rh1_rw_ep50.pt', seed=0, shuffle=False, weight_decay=0.0005)\n",
            "------------------------------\n",
            "Fri Sep 16 12:23:21 2022\n",
            "------------------------------\n",
            "loading dataset...\n",
            "model ----------\n",
            "GCNModel(\n",
            "  (gcn_net): ModuleList(\n",
            "    (0): GCNLayer(\n",
            "      (gcn): NodeModelMLP (in_channels: 1, out_channels: 32, in_edgedim: None, deg_norm: rw, edge_gate: NoneType,aggr: add | number of parameters: 64)\n",
            "      (non_linear): Identity()\n",
            "    )\n",
            "    (1): GCNLayer(\n",
            "      (gcn): NodeModelMLP (in_channels: 32, out_channels: 32, in_edgedim: None, deg_norm: rw, edge_gate: NoneType,aggr: add | number of parameters: 1056)\n",
            "      (non_linear): Identity()\n",
            "    )\n",
            "    (2): GCNLayer(\n",
            "      (gcn): NodeModelMLP (in_channels: 32, out_channels: 32, in_edgedim: None, deg_norm: rw, edge_gate: NoneType,aggr: add | number of parameters: 1056)\n",
            "      (non_linear): Identity()\n",
            "    )\n",
            "    (3): GCNLayer(\n",
            "      (gcn): NodeModelMLP (in_channels: 32, out_channels: 32, in_edgedim: None, deg_norm: rw, edge_gate: NoneType,aggr: add | number of parameters: 1056)\n",
            "      (non_linear): Identity()\n",
            "    )\n",
            "    (4): GCNLayer(\n",
            "      (gcn): NodeModelMLP (in_channels: 32, out_channels: 32, in_edgedim: None, deg_norm: rw, edge_gate: NoneType,aggr: add | number of parameters: 1056)\n",
            "      (non_linear): Identity()\n",
            "    )\n",
            "    (5): GCNLayer(\n",
            "      (gcn): NodeModelMLP (in_channels: 32, out_channels: 32, in_edgedim: None, deg_norm: rw, edge_gate: NoneType,aggr: add | number of parameters: 1056)\n",
            "      (non_linear): Identity()\n",
            "    )\n",
            "    (6): GCNLayer(\n",
            "      (gcn): NodeModelMLP (in_channels: 32, out_channels: 32, in_edgedim: None, deg_norm: rw, edge_gate: NoneType,aggr: add | number of parameters: 1056)\n",
            "      (non_linear): Identity()\n",
            "    )\n",
            "    (7): GCNLayer(\n",
            "      (gcn): NodeModelMLP (in_channels: 32, out_channels: 32, in_edgedim: None, deg_norm: rw, edge_gate: NoneType,aggr: add | number of parameters: 1056)\n",
            "      (non_linear): Identity()\n",
            "    )\n",
            "    (8): GCNLayer(\n",
            "      (gcn): NodeModelMLP (in_channels: 32, out_channels: 32, in_edgedim: None, deg_norm: rw, edge_gate: NoneType,aggr: add | number of parameters: 1056)\n",
            "      (non_linear): Identity()\n",
            "    )\n",
            "    (9): GCNLayer(\n",
            "      (gcn): NodeModelMLP (in_channels: 32, out_channels: 32, in_edgedim: None, deg_norm: rw, edge_gate: NoneType,aggr: add | number of parameters: 1056)\n",
            "      (non_linear): Identity()\n",
            "    )\n",
            "    (10): GCNLayer(\n",
            "      (gcn): NodeModelMLP (in_channels: 32, out_channels: 32, in_edgedim: None, deg_norm: rw, edge_gate: NoneType,aggr: add | number of parameters: 1056)\n",
            "      (non_linear): Identity()\n",
            "    )\n",
            "    (11): GCNLayer(\n",
            "      (gcn): NodeModelMLP (in_channels: 32, out_channels: 32, in_edgedim: None, deg_norm: rw, edge_gate: NoneType,aggr: add | number of parameters: 1056)\n",
            "      (non_linear): Identity()\n",
            "    )\n",
            "  )\n",
            "  (dropout): Dropout(p=0.0, inplace=False)\n",
            "  (residuals): ModuleList(\n",
            "    (0): Linear(in_features=1, out_features=32, bias=False)\n",
            "    (1): Identity()\n",
            "    (2): Identity()\n",
            "    (3): Identity()\n",
            "    (4): Identity()\n",
            "    (5): Identity()\n",
            "    (6): Identity()\n",
            "    (7): Identity()\n",
            "    (8): Identity()\n",
            "    (9): Identity()\n",
            "    (10): Identity()\n",
            "    (11): Identity()\n",
            "  )\n",
            "  (non_linear): ReLU()\n",
            "  (final): Linear(in_features=32, out_features=2, bias=True)\n",
            ")\n",
            "epoch: 1, passed number of graphs: 96, train running loss: 0.52751 (passed time: 22s)\n",
            "          acc: 0.93079, fpr: 0.00000, fnr: 1.00000, rec: 0.00000, prc: -1.00000, f1: 0.00000, auroc: 0.21740, f1-macro: nan\n",
            "epoch: 1, passed number of graphs: 192, train running loss: 0.36074 (passed time: 45s)\n",
            "          acc: 0.92548, fpr: 0.00551, fnr: 0.99410, rec: 0.00590, prc: 0.07431, f1: 0.01093, auroc: 0.55437, f1-macro: 0.48611\n",
            "epoch: 1, passed number of graphs: 288, train running loss: 0.28991 (passed time: 1m 7s)\n",
            "          acc: 0.93074, fpr: 0.00000, fnr: 1.00000, rec: 0.00000, prc: -1.00000, f1: 0.00000, auroc: 0.52716, f1-macro: nan\n",
            "epoch: 1, passed number of graphs: 384, train running loss: 0.25653 (passed time: 1m 30s)\n",
            "          acc: 0.92898, fpr: 0.00010, fnr: 0.99980, rec: 0.00020, prc: 0.13793, f1: 0.00040, auroc: 0.84232, f1-macro: 0.48179\n",
            "epoch: 1, passed number of graphs: 480, train running loss: 0.22711 (passed time: 1m 52s)\n",
            "          acc: 0.92884, fpr: 0.00271, fnr: 0.97130, rec: 0.02870, prc: 0.44565, f1: 0.05393, auroc: 0.97014, f1-macro: 0.50848\n",
            "epoch: 1, passed number of graphs: 576, train running loss: 0.20814 (passed time: 2m 15s)\n",
            "          acc: 0.93170, fpr: 0.00157, fnr: 0.96690, rec: 0.03310, prc: 0.61014, f1: 0.06279, auroc: 0.95406, f1-macro: 0.51368\n",
            "epoch: 1, passed number of graphs: 672, train running loss: 0.19173 (passed time: 2m 37s)\n",
            "          acc: 0.93390, fpr: 0.00000, fnr: 0.95540, rec: 0.04460, prc: 1.00000, f1: 0.08539, auroc: 0.91380, f1-macro: 0.52555\n",
            "epoch: 1, passed number of graphs: 768, train running loss: 0.17867 (passed time: 3m 0s)\n",
            "          acc: 0.96254, fpr: 0.00020, fnr: 0.53770, rec: 0.46230, prc: 0.99419, f1: 0.63113, auroc: 0.96066, f1-macro: 0.80570\n",
            "Validation --- epoch: 1, loss: 0.12750\n",
            "          fpr: 0.00025, acc: 0.96771, fnr: 0.46070, prc: 0.99372, f1-macro: 0.84103, auroc: 0.96464, f1: 0.69912, rec: 0.53930\n",
            "model saved at ./saved_models/chord_model_lay12_rh1_rw_ep50.pt.\n",
            "epoch: 2, passed number of graphs: 96, train running loss: 0.05618 (passed time: 3m 45s)\n",
            "          acc: 0.99357, fpr: 0.00037, fnr: 0.08785, rec: 0.91215, prc: 0.99455, f1: 0.95157, auroc: 0.98199, f1-macro: 0.97406\n",
            "epoch: 2, passed number of graphs: 192, train running loss: 0.04896 (passed time: 4m 8s)\n",
            "          acc: 0.97507, fpr: 0.00007, fnr: 0.35625, rec: 0.64375, prc: 0.99860, f1: 0.78284, auroc: 0.94212, f1-macro: 0.88481\n",
            "epoch: 2, passed number of graphs: 288, train running loss: 0.04469 (passed time: 4m 30s)\n",
            "          acc: 0.99498, fpr: 0.00030, fnr: 0.06855, rec: 0.93145, prc: 0.99572, f1: 0.96252, auroc: 0.97859, f1-macro: 0.97991\n",
            "epoch: 2, passed number of graphs: 384, train running loss: 0.04061 (passed time: 4m 53s)\n",
            "          acc: 0.99530, fpr: 0.00274, fnr: 0.03030, rec: 0.96970, prc: 0.96430, f1: 0.96699, auroc: 0.99436, f1-macro: 0.98223\n",
            "epoch: 2, passed number of graphs: 480, train running loss: 0.03687 (passed time: 5m 15s)\n",
            "          acc: 0.98989, fpr: 0.00013, fnr: 0.14135, rec: 0.85865, prc: 0.99802, f1: 0.92311, auroc: 0.98783, f1-macro: 0.95885\n",
            "epoch: 2, passed number of graphs: 576, train running loss: 0.03371 (passed time: 5m 38s)\n",
            "          acc: 0.99772, fpr: 0.00041, fnr: 0.02745, rec: 0.97255, prc: 0.99438, f1: 0.98334, auroc: 0.99690, f1-macro: 0.99106\n",
            "epoch: 2, passed number of graphs: 672, train running loss: 0.03100 (passed time: 6m 0s)\n",
            "          acc: 0.99744, fpr: 0.00114, fnr: 0.02165, rec: 0.97835, prc: 0.98460, f1: 0.98147, auroc: 0.99271, f1-macro: 0.99005\n",
            "epoch: 2, passed number of graphs: 768, train running loss: 0.04225 (passed time: 6m 23s)\n",
            "          acc: 0.93069, fpr: 0.00000, fnr: 1.00000, rec: 0.00000, prc: -1.00000, f1: 0.00000, auroc: 0.81185, f1-macro: nan\n",
            "Validation --- epoch: 2, loss: 0.30696\n",
            "          fpr: 0.00000, acc: 0.93043, fnr: 1.00000, prc: -1.00000, f1-macro: nan, auroc: 0.82228, f1: 0.00000, rec: 0.00000\n",
            "EarlyStopping counter: 1 out of 5\n",
            "epoch: 3, passed number of graphs: 96, train running loss: 0.11868 (passed time: 7m 9s)\n",
            "          acc: 0.93267, fpr: 0.00021, fnr: 0.96995, rec: 0.03005, prc: 0.91337, f1: 0.05819, auroc: 0.94938, f1-macro: 0.51164\n",
            "epoch: 3, passed number of graphs: 192, train running loss: 0.09528 (passed time: 7m 31s)\n",
            "          acc: 0.93488, fpr: 0.00035, fnr: 0.92825, rec: 0.07175, prc: 0.93852, f1: 0.13331, auroc: 0.98697, f1-macro: 0.54974\n",
            "epoch: 3, passed number of graphs: 288, train running loss: 0.08765 (passed time: 7m 53s)\n",
            "          acc: 0.94936, fpr: 0.00058, fnr: 0.72340, rec: 0.27660, prc: 0.97240, f1: 0.43069, auroc: 0.98743, f1-macro: 0.70209\n",
            "epoch: 3, passed number of graphs: 384, train running loss: 0.07994 (passed time: 8m 16s)\n",
            "          acc: 0.97744, fpr: 0.00056, fnr: 0.31070, rec: 0.68930, prc: 0.98952, f1: 0.81257, auroc: 0.99026, f1-macro: 0.90028\n",
            "epoch: 3, passed number of graphs: 480, train running loss: 0.07204 (passed time: 8m 39s)\n",
            "          acc: 0.99466, fpr: 0.00045, fnr: 0.06965, rec: 0.93035, prc: 0.99365, f1: 0.96096, auroc: 0.98808, f1-macro: 0.97904\n",
            "epoch: 3, passed number of graphs: 576, train running loss: 0.06567 (passed time: 9m 1s)\n",
            "          acc: 0.99677, fpr: 0.00092, fnr: 0.03430, rec: 0.96570, prc: 0.98732, f1: 0.97639, auroc: 0.99216, f1-macro: 0.98733\n",
            "epoch: 3, passed number of graphs: 672, train running loss: 0.05994 (passed time: 9m 24s)\n",
            "          acc: 0.99677, fpr: 0.00085, fnr: 0.03515, rec: 0.96485, prc: 0.98822, f1: 0.97640, auroc: 0.99363, f1-macro: 0.98733\n",
            "epoch: 3, passed number of graphs: 768, train running loss: 0.05583 (passed time: 9m 46s)\n",
            "          acc: 0.99618, fpr: 0.00041, fnr: 0.04960, rec: 0.95040, prc: 0.99430, f1: 0.97185, auroc: 0.98919, f1-macro: 0.98490\n",
            "Validation --- epoch: 3, loss: 0.05193\n",
            "          fpr: 0.00039, acc: 0.99430, fnr: 0.07667, prc: 0.99441, f1-macro: 0.97725, auroc: 0.98119, f1: 0.95755, rec: 0.92333\n",
            "model saved at ./saved_models/chord_model_lay12_rh1_rw_ep50.pt.\n",
            "epoch: 4, passed number of graphs: 96, train running loss: 0.02402 (passed time: 10m 32s)\n",
            "          acc: 0.99415, fpr: 0.00520, fnr: 0.01450, rec: 0.98550, prc: 0.93368, f1: 0.95889, auroc: 0.99537, f1-macro: 0.97787\n",
            "epoch: 4, passed number of graphs: 192, train running loss: 0.01960 (passed time: 10m 54s)\n",
            "          acc: 0.99600, fpr: 0.00134, fnr: 0.03935, rec: 0.96065, prc: 0.98171, f1: 0.97106, auroc: 0.99661, f1-macro: 0.98446\n",
            "epoch: 4, passed number of graphs: 288, train running loss: 0.01821 (passed time: 11m 17s)\n",
            "          acc: 0.99267, fpr: 0.00497, fnr: 0.03910, rec: 0.96090, prc: 0.93500, f1: 0.94777, auroc: 0.99636, f1-macro: 0.97191\n",
            "epoch: 4, passed number of graphs: 384, train running loss: 0.01700 (passed time: 11m 40s)\n",
            "          acc: 0.99631, fpr: 0.00044, fnr: 0.04615, rec: 0.95385, prc: 0.99396, f1: 0.97349, auroc: 0.99512, f1-macro: 0.98575\n",
            "epoch: 4, passed number of graphs: 480, train running loss: 0.01607 (passed time: 12m 2s)\n",
            "          acc: 0.99345, fpr: 0.00019, fnr: 0.09030, rec: 0.90970, prc: 0.99731, f1: 0.95149, auroc: 0.98965, f1-macro: 0.97399\n",
            "epoch: 4, passed number of graphs: 576, train running loss: 0.01532 (passed time: 12m 25s)\n",
            "          acc: 0.99783, fpr: 0.00059, fnr: 0.02350, rec: 0.97650, prc: 0.99197, f1: 0.98418, auroc: 0.99488, f1-macro: 0.99151\n",
            "epoch: 4, passed number of graphs: 672, train running loss: 0.01490 (passed time: 12m 47s)\n",
            "          acc: 0.99655, fpr: 0.00059, fnr: 0.04195, rec: 0.95805, prc: 0.99177, f1: 0.97462, auroc: 0.98686, f1-macro: 0.98638\n",
            "epoch: 4, passed number of graphs: 768, train running loss: 0.01419 (passed time: 13m 10s)\n",
            "          acc: 0.99769, fpr: 0.00053, fnr: 0.02620, rec: 0.97380, prc: 0.99276, f1: 0.98319, auroc: 0.99894, f1-macro: 0.99098\n",
            "Validation --- epoch: 4, loss: 0.01421\n",
            "          fpr: 0.00054, acc: 0.99765, fnr: 0.02660, prc: 0.99263, f1-macro: 0.99083, auroc: 0.99856, f1: 0.98292, rec: 0.97340\n",
            "model saved at ./saved_models/chord_model_lay12_rh1_rw_ep50.pt.\n",
            "epoch: 5, passed number of graphs: 96, train running loss: 0.00879 (passed time: 13m 55s)\n",
            "          acc: 0.99780, fpr: 0.00077, fnr: 0.02155, rec: 0.97845, prc: 0.98958, f1: 0.98398, auroc: 0.99774, f1-macro: 0.99140\n",
            "epoch: 5, passed number of graphs: 192, train running loss: 0.00796 (passed time: 14m 18s)\n",
            "          acc: 0.99794, fpr: 0.00054, fnr: 0.02225, rec: 0.97775, prc: 0.99269, f1: 0.98516, auroc: 0.99697, f1-macro: 0.99203\n",
            "epoch: 5, passed number of graphs: 288, train running loss: 0.00810 (passed time: 14m 40s)\n",
            "          acc: 0.99771, fpr: 0.00061, fnr: 0.02495, rec: 0.97505, prc: 0.99171, f1: 0.98331, auroc: 0.99626, f1-macro: 0.99104\n",
            "epoch: 5, passed number of graphs: 384, train running loss: 0.00802 (passed time: 15m 3s)\n",
            "          acc: 0.99761, fpr: 0.00031, fnr: 0.02965, rec: 0.97035, prc: 0.99579, f1: 0.98291, auroc: 0.99551, f1-macro: 0.99081\n",
            "epoch: 5, passed number of graphs: 480, train running loss: 0.00770 (passed time: 15m 26s)\n",
            "          acc: 0.99771, fpr: 0.00044, fnr: 0.02655, rec: 0.97345, prc: 0.99403, f1: 0.98363, auroc: 0.99575, f1-macro: 0.99120\n",
            "epoch: 5, passed number of graphs: 576, train running loss: 0.00790 (passed time: 15m 49s)\n",
            "          acc: 0.99745, fpr: 0.00038, fnr: 0.03185, rec: 0.96815, prc: 0.99481, f1: 0.98130, auroc: 0.99337, f1-macro: 0.98997\n",
            "epoch: 5, passed number of graphs: 672, train running loss: 0.00788 (passed time: 16m 11s)\n",
            "          acc: 0.99796, fpr: 0.00107, fnr: 0.01515, rec: 0.98485, prc: 0.98564, f1: 0.98524, auroc: 0.99960, f1-macro: 0.99207\n",
            "epoch: 5, passed number of graphs: 768, train running loss: 0.00764 (passed time: 16m 34s)\n",
            "          acc: 0.99824, fpr: 0.00040, fnr: 0.02005, rec: 0.97995, prc: 0.99452, f1: 0.98718, auroc: 0.99949, f1-macro: 0.99312\n",
            "Validation --- epoch: 5, loss: 0.01011\n",
            "          fpr: 0.00054, acc: 0.99819, fnr: 0.01873, prc: 0.99263, f1-macro: 0.99297, auroc: 0.99972, f1: 0.98691, rec: 0.98127\n",
            "model saved at ./saved_models/chord_model_lay12_rh1_rw_ep50.pt.\n",
            "epoch: 6, passed number of graphs: 96, train running loss: 0.00614 (passed time: 17m 19s)\n",
            "          acc: 0.99811, fpr: 0.00032, fnr: 0.02290, rec: 0.97710, prc: 0.99557, f1: 0.98625, auroc: 0.99891, f1-macro: 0.99262\n",
            "epoch: 6, passed number of graphs: 192, train running loss: 0.00632 (passed time: 17m 42s)\n",
            "          acc: 0.99788, fpr: 0.00030, fnr: 0.02635, rec: 0.97365, prc: 0.99591, f1: 0.98465, auroc: 0.99770, f1-macro: 0.99176\n",
            "epoch: 6, passed number of graphs: 288, train running loss: 0.00612 (passed time: 18m 4s)\n",
            "          acc: 0.99730, fpr: 0.00013, fnr: 0.03725, rec: 0.96275, prc: 0.99819, f1: 0.98015, auroc: 0.99914, f1-macro: 0.98935\n",
            "epoch: 6, passed number of graphs: 384, train running loss: 0.00583 (passed time: 18m 27s)\n",
            "          acc: 0.99833, fpr: 0.00041, fnr: 0.01815, rec: 0.98185, prc: 0.99458, f1: 0.98817, auroc: 0.99963, f1-macro: 0.99364\n",
            "epoch: 6, passed number of graphs: 480, train running loss: 0.03662 (passed time: 18m 49s)\n",
            "          acc: 0.92933, fpr: 0.00000, fnr: 1.00000, rec: 0.00000, prc: -1.00000, f1: 0.00000, auroc: 0.60066, f1-macro: nan\n",
            "epoch: 6, passed number of graphs: 576, train running loss: 0.04890 (passed time: 19m 12s)\n",
            "          acc: 0.93029, fpr: 0.00068, fnr: 0.99930, rec: 0.00070, prc: 0.07143, f1: 0.00139, auroc: 0.93626, f1-macro: 0.48264\n",
            "epoch: 6, passed number of graphs: 672, train running loss: 0.05456 (passed time: 19m 35s)\n",
            "          acc: 0.92966, fpr: 0.00211, fnr: 0.98810, rec: 0.01190, prc: 0.29492, f1: 0.02288, auroc: 0.97705, f1-macro: 0.49320\n",
            "epoch: 6, passed number of graphs: 768, train running loss: 0.05742 (passed time: 19m 57s)\n",
            "          acc: 0.93038, fpr: 0.00587, fnr: 0.92565, rec: 0.07435, prc: 0.48563, f1: 0.12896, auroc: 0.97820, f1-macro: 0.54635\n",
            "Validation --- epoch: 6, loss: 0.12725\n",
            "          fpr: 0.00019, acc: 0.93386, fnr: 0.94806, prc: 0.95411, f1-macro: 0.53209, auroc: 0.97860, f1: 0.09851, rec: 0.05194\n",
            "EarlyStopping counter: 1 out of 5\n",
            "epoch: 7, passed number of graphs: 96, train running loss: 0.06077 (passed time: 20m 43s)\n",
            "          acc: 0.94615, fpr: 0.00036, fnr: 0.77325, rec: 0.22675, prc: 0.97906, f1: 0.36822, auroc: 0.98537, f1-macro: 0.67005\n",
            "epoch: 7, passed number of graphs: 192, train running loss: 0.05472 (passed time: 21m 5s)\n",
            "          acc: 0.99414, fpr: 0.00188, fnr: 0.05885, rec: 0.94115, prc: 0.97402, f1: 0.95730, auroc: 0.98683, f1-macro: 0.97708\n",
            "epoch: 7, passed number of graphs: 288, train running loss: 0.04892 (passed time: 21m 28s)\n",
            "          acc: 0.99404, fpr: 0.00052, fnr: 0.07905, rec: 0.92095, prc: 0.99246, f1: 0.95537, auroc: 0.98900, f1-macro: 0.97609\n",
            "epoch: 7, passed number of graphs: 384, train running loss: 0.04653 (passed time: 21m 50s)\n",
            "          acc: 0.98772, fpr: 0.00036, fnr: 0.16845, rec: 0.83155, prc: 0.99438, f1: 0.90570, auroc: 0.95125, f1-macro: 0.94957\n",
            "epoch: 7, passed number of graphs: 480, train running loss: 0.04439 (passed time: 22m 13s)\n",
            "          acc: 0.99165, fpr: 0.00702, fnr: 0.02585, rec: 0.97415, prc: 0.91341, f1: 0.94280, auroc: 0.99602, f1-macro: 0.96915\n",
            "epoch: 7, passed number of graphs: 576, train running loss: 0.04019 (passed time: 22m 35s)\n",
            "          acc: 0.99692, fpr: 0.00061, fnr: 0.03630, rec: 0.96370, prc: 0.99156, f1: 0.97743, auroc: 0.99347, f1-macro: 0.98789\n",
            "epoch: 7, passed number of graphs: 672, train running loss: 0.03673 (passed time: 22m 58s)\n",
            "          acc: 0.99630, fpr: 0.00072, fnr: 0.04380, rec: 0.95620, prc: 0.99001, f1: 0.97281, auroc: 0.99555, f1-macro: 0.98541\n",
            "epoch: 7, passed number of graphs: 768, train running loss: 0.03369 (passed time: 23m 20s)\n",
            "          acc: 0.99707, fpr: 0.00077, fnr: 0.03185, rec: 0.96815, prc: 0.98942, f1: 0.97867, auroc: 0.99774, f1-macro: 0.98855\n",
            "Validation --- epoch: 7, loss: 0.02253\n",
            "          fpr: 0.00104, acc: 0.99720, fnr: 0.02629, prc: 0.98585, f1-macro: 0.98912, auroc: 0.99829, f1: 0.97974, rec: 0.97371\n",
            "EarlyStopping counter: 2 out of 5\n",
            "epoch: 8, passed number of graphs: 96, train running loss: 0.01135 (passed time: 24m 6s)\n",
            "          acc: 0.99696, fpr: 0.00093, fnr: 0.03145, rec: 0.96855, prc: 0.98726, f1: 0.97781, auroc: 0.99812, f1-macro: 0.98809\n",
            "epoch: 8, passed number of graphs: 192, train running loss: 0.01104 (passed time: 24m 28s)\n",
            "          acc: 0.99624, fpr: 0.00071, fnr: 0.04435, rec: 0.95565, prc: 0.99016, f1: 0.97260, auroc: 0.99615, f1-macro: 0.98529\n",
            "epoch: 8, passed number of graphs: 288, train running loss: 0.01102 (passed time: 24m 51s)\n",
            "          acc: 0.99679, fpr: 0.00094, fnr: 0.03365, rec: 0.96635, prc: 0.98703, f1: 0.97658, auroc: 0.99769, f1-macro: 0.98743\n",
            "epoch: 8, passed number of graphs: 384, train running loss: 0.01086 (passed time: 25m 13s)\n",
            "          acc: 0.99657, fpr: 0.00095, fnr: 0.03590, rec: 0.96410, prc: 0.98730, f1: 0.97556, auroc: 0.99876, f1-macro: 0.98686\n",
            "epoch: 8, passed number of graphs: 480, train running loss: 0.01067 (passed time: 25m 36s)\n",
            "          acc: 0.99727, fpr: 0.00093, fnr: 0.02635, rec: 0.97365, prc: 0.98757, f1: 0.98056, auroc: 0.99881, f1-macro: 0.98955\n",
            "epoch: 8, passed number of graphs: 576, train running loss: 0.01054 (passed time: 25m 58s)\n",
            "          acc: 0.99752, fpr: 0.00095, fnr: 0.02300, rec: 0.97700, prc: 0.98702, f1: 0.98198, auroc: 0.99878, f1-macro: 0.99033\n",
            "epoch: 8, passed number of graphs: 672, train running loss: 0.01043 (passed time: 26m 21s)\n",
            "          acc: 0.99723, fpr: 0.00126, fnr: 0.02310, rec: 0.97690, prc: 0.98299, f1: 0.97994, auroc: 0.99865, f1-macro: 0.98923\n",
            "epoch: 8, passed number of graphs: 768, train running loss: 0.01028 (passed time: 26m 44s)\n",
            "          acc: 0.99711, fpr: 0.00083, fnr: 0.03060, rec: 0.96940, prc: 0.98863, f1: 0.97892, auroc: 0.99892, f1-macro: 0.98868\n",
            "Validation --- epoch: 8, loss: 0.01796\n",
            "          fpr: 0.00093, acc: 0.99698, fnr: 0.03092, prc: 0.98734, f1-macro: 0.98825, auroc: 0.99890, f1: 0.97812, rec: 0.96908\n",
            "EarlyStopping counter: 3 out of 5\n",
            "epoch: 9, passed number of graphs: 96, train running loss: 0.01008 (passed time: 27m 29s)\n",
            "          acc: 0.99759, fpr: 0.00113, fnr: 0.01960, rec: 0.98040, prc: 0.98468, f1: 0.98254, auroc: 0.99870, f1-macro: 0.99062\n",
            "epoch: 9, passed number of graphs: 192, train running loss: 0.00961 (passed time: 27m 52s)\n",
            "          acc: 0.99635, fpr: 0.00076, fnr: 0.04210, rec: 0.95790, prc: 0.98952, f1: 0.97345, auroc: 0.99754, f1-macro: 0.98575\n",
            "epoch: 9, passed number of graphs: 288, train running loss: 0.00939 (passed time: 28m 14s)\n",
            "          acc: 0.99681, fpr: 0.00077, fnr: 0.03570, rec: 0.96430, prc: 0.98938, f1: 0.97668, auroc: 0.99800, f1-macro: 0.98748\n",
            "epoch: 9, passed number of graphs: 384, train running loss: 0.00936 (passed time: 28m 37s)\n",
            "          acc: 0.99723, fpr: 0.00084, fnr: 0.02810, rec: 0.97190, prc: 0.98886, f1: 0.98031, auroc: 0.99873, f1-macro: 0.98941\n",
            "epoch: 9, passed number of graphs: 480, train running loss: 0.00920 (passed time: 28m 59s)\n",
            "          acc: 0.99734, fpr: 0.00068, fnr: 0.02870, rec: 0.97130, prc: 0.99087, f1: 0.98099, auroc: 0.99862, f1-macro: 0.98978\n",
            "epoch: 9, passed number of graphs: 576, train running loss: 0.00910 (passed time: 29m 22s)\n",
            "          acc: 0.99787, fpr: 0.00092, fnr: 0.01840, rec: 0.98160, prc: 0.98748, f1: 0.98453, auroc: 0.99875, f1-macro: 0.99169\n",
            "epoch: 9, passed number of graphs: 672, train running loss: 0.00903 (passed time: 29m 44s)\n",
            "          acc: 0.99772, fpr: 0.00119, fnr: 0.01700, rec: 0.98300, prc: 0.98398, f1: 0.98349, auroc: 0.99861, f1-macro: 0.99113\n",
            "epoch: 9, passed number of graphs: 768, train running loss: 0.00890 (passed time: 30m 7s)\n",
            "          acc: 0.99718, fpr: 0.00063, fnr: 0.03220, rec: 0.96780, prc: 0.99129, f1: 0.97941, auroc: 0.99903, f1-macro: 0.98895\n",
            "Validation --- epoch: 9, loss: 0.01532\n",
            "          fpr: 0.00072, acc: 0.99727, fnr: 0.02952, prc: 0.99010, f1-macro: 0.98936, auroc: 0.99904, f1: 0.98019, rec: 0.97048\n",
            "EarlyStopping counter: 4 out of 5\n",
            "epoch: 10, passed number of graphs: 96, train running loss: 0.00807 (passed time: 30m 53s)\n",
            "          acc: 0.99765, fpr: 0.00083, fnr: 0.02280, rec: 0.97720, prc: 0.98877, f1: 0.98295, auroc: 0.99923, f1-macro: 0.99085\n",
            "epoch: 10, passed number of graphs: 192, train running loss: 0.00797 (passed time: 31m 15s)\n",
            "          acc: 0.99727, fpr: 0.00069, fnr: 0.02980, rec: 0.97020, prc: 0.99056, f1: 0.98027, auroc: 0.99876, f1-macro: 0.98940\n",
            "epoch: 10, passed number of graphs: 288, train running loss: 0.00790 (passed time: 31m 38s)\n",
            "          acc: 0.99731, fpr: 0.00071, fnr: 0.02920, rec: 0.97080, prc: 0.99021, f1: 0.98041, auroc: 0.99905, f1-macro: 0.98948\n",
            "epoch: 10, passed number of graphs: 384, train running loss: 0.00782 (passed time: 32m 0s)\n",
            "          acc: 0.99732, fpr: 0.00070, fnr: 0.02855, rec: 0.97145, prc: 0.99062, f1: 0.98094, auroc: 0.99919, f1-macro: 0.98975\n",
            "epoch: 10, passed number of graphs: 480, train running loss: 0.00774 (passed time: 32m 23s)\n",
            "          acc: 0.99757, fpr: 0.00065, fnr: 0.02580, rec: 0.97420, prc: 0.99130, f1: 0.98268, auroc: 0.99915, f1-macro: 0.99069\n",
            "epoch: 10, passed number of graphs: 576, train running loss: 0.00771 (passed time: 32m 45s)\n",
            "          acc: 0.99767, fpr: 0.00070, fnr: 0.02430, rec: 0.97570, prc: 0.99046, f1: 0.98302, auroc: 0.99923, f1-macro: 0.99089\n",
            "epoch: 10, passed number of graphs: 672, train running loss: 0.00770 (passed time: 33m 8s)\n",
            "          acc: 0.99770, fpr: 0.00079, fnr: 0.02260, rec: 0.97740, prc: 0.98927, f1: 0.98330, auroc: 0.99897, f1-macro: 0.99103\n",
            "epoch: 10, passed number of graphs: 768, train running loss: 0.00767 (passed time: 33m 30s)\n",
            "          acc: 0.99739, fpr: 0.00058, fnr: 0.02985, rec: 0.97015, prc: 0.99197, f1: 0.98094, auroc: 0.99911, f1-macro: 0.98977\n",
            "Validation --- epoch: 10, loss: 0.01457\n",
            "          fpr: 0.00065, acc: 0.99739, fnr: 0.02875, prc: 0.99109, f1-macro: 0.98983, auroc: 0.99906, f1: 0.98107, rec: 0.97125\n",
            "EarlyStopping counter: 5 out of 5\n",
            "Early stopping here.\n",
            "************ best model obtained after epoch 5, saved at ./saved_models/chord_model_lay12_rh1_rw_ep50.pt ************\n",
            "Testing --- loss: 0.01023\n",
            "          fpr: 0.00054, acc: 0.99818, fnr: 0.01900, prc: 0.99262, f1-macro: 0.99290, auroc: 0.99971, f1: 0.98677, rec: 0.98100\n"
          ]
        }
      ]
    }
  ]
}