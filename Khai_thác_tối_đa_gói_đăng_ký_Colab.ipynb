{
  "cells": [
    {
      "cell_type": "markdown",
      "metadata": {
        "id": "view-in-github",
        "colab_type": "text"
      },
      "source": [
        "<a href=\"https://colab.research.google.com/github/TruongDuyLongPTIT/DoAnTotNghiepPTIT/blob/main/Khai_th%C3%A1c_t%E1%BB%91i_%C4%91a_g%C3%B3i_%C4%91%C4%83ng_k%C3%BD_Colab.ipynb\" target=\"_parent\"><img src=\"https://colab.research.google.com/assets/colab-badge.svg\" alt=\"Open In Colab\"/></a>"
      ]
    },
    {
      "cell_type": "markdown",
      "metadata": {
        "id": "SKQ4bH7qMGrA"
      },
      "source": [
        "# Khai thác tối đa gói đăng ký Colab\n",
        "\n"
      ]
    },
    {
      "cell_type": "markdown",
      "metadata": {
        "id": "QMMqmdiYMkvi"
      },
      "source": [
        "## GPU nhanh hơn\n",
        "\n",
        "Với Colab Pro, bạn sẽ có quyền ưu tiên dùng các GPU nhanh nhất của chúng tôi. Còn với Pro+, bạn thậm chí còn được hưởng nhiều lợi ích hơn nữa. Ví dụ: bạn có thể nhận được một GPU T4 hoặc P100 trong khi hầu hết người dùng Colab tiêu chuẩn đều nhận được GPU K80 có tốc độ chậm hơn. Bạn có thể xem GPU mình đã chỉ định bất cứ lúc nào bằng cách thực thi ô sau.\n",
        "\n",
        "Nếu kết quả thực thi là \"Not connected to a GPU\" sau khi chạy ô chứa mã ở bên dưới, thì bạn có thể thay đổi thời gian chạy bằng cách chuyển đến trình đơn Thời gian chạy &gt; Thay đổi loại thời gian chạy để bật trình tăng tốc GPU, sau đó thực thi lại ô chứa mã."
      ]
    },
    {
      "cell_type": "code",
      "execution_count": 1,
      "metadata": {
        "colab": {
          "base_uri": "https://localhost:8080/"
        },
        "id": "23TOba33L4qf",
        "outputId": "1823ff70-bd81-4dd0-e762-e7f3c75da11c"
      },
      "outputs": [
        {
          "output_type": "stream",
          "name": "stdout",
          "text": [
            "Not connected to a GPU\n"
          ]
        }
      ],
      "source": [
        "gpu_info = !nvidia-smi\n",
        "gpu_info = '\\n'.join(gpu_info)\n",
        "if gpu_info.find('failed') >= 0:\n",
        "  print('Not connected to a GPU')\n",
        "else:\n",
        "  print(gpu_info)"
      ]
    },
    {
      "cell_type": "markdown",
      "metadata": {
        "id": "Sa-IrJS1aRVJ"
      },
      "source": [
        "Để sử dụng một GPU với sổ tay của bạn, hãy chọn trình đơn Thời gian chạy &gt; Thay đổi loại thời gian chạy, rồi chọn GPU trong trình đơn trình tăng tốc phần cứng thả xuống."
      ]
    },
    {
      "cell_type": "markdown",
      "metadata": {
        "id": "65MSuHKqNeBZ"
      },
      "source": [
        "## Bộ nhớ lớn hơn\n",
        "\n",
        "<p>Với Colab Pro, bạn có thể dùng các máy ảo có bộ nhớ cao cấp khi các máy ảo này có sẵn. Còn với Pro+, bạn thậm chí có nhiều lựa chọn hơn nữa. Để thiết lập lựa chọn ưu tiên về sổ tay nhằm sử dụng môi trường thời gian chạy có bộ nhớ cao cấp, hãy chọn trình đơn Thời gian chạy &gt; \"Thay đổi loại thời gian chạy\", rồi chọn RAM cao cấp trong trình đơn thả xuống có tên Cấu hình môi trường thời gian chạy.</p>\n",
        "<p>Bạn có thể xem mức bộ nhớ hiện có của mình bất cứ lúc nào bằng cách chạy ô chứa mã sau.</p>\n",
        "Nếu kết quả thực thi là \"Not using a high-RAM runtime\" sau khi chạy ô chứa mã ở bên dưới, thì bạn có thể bật môi trường thời gian chạy có RAM cao cấp thông qua trình đơn Thời gian chạy &gt; Thay đổi loại thời gian chạy. Tiếp đến, hãy chọn RAM cao cấp trong trình đơn thả xuống có tên Cấu hình môi trường thời gian chạy. Sau đó, thực thi lại ô chứa mã."
      ]
    },
    {
      "cell_type": "code",
      "execution_count": null,
      "metadata": {
        "id": "V1G82GuO-tez"
      },
      "outputs": [],
      "source": [
        "from psutil import virtual_memory\n",
        "ram_gb = virtual_memory().total / 1e9\n",
        "print('Your runtime has {:.1f} gigabytes of available RAM\\n'.format(ram_gb))\n",
        "\n",
        "if ram_gb < 20:\n",
        "  print('Not using a high-RAM runtime')\n",
        "else:\n",
        "  print('You are using a high-RAM runtime!')"
      ]
    },
    {
      "cell_type": "markdown",
      "metadata": {
        "id": "BJW8Qi-pPpep"
      },
      "source": [
        "## Thời gian chạy lâu hơn\n",
        "\n",
        "Tất cả các môi trường thời gian chạy của Colab được đặt lại sau một khoảng thời gian &#40;thời gian đặt lại sẽ nhanh hơn nếu môi trường thời gian chạy đang không thực thi mã&#41;. Mặc dù những người đăng ký Colab Pro vẫn có hạn mức sử dụng, nhưng họ sẽ có hạn mức cao gấp khoảng 2 lần so với những người không đăng ký. Còn với Pro+, hạn mức sử dụng thậm chí còn ổn định hơn."
      ]
    },
    {
      "cell_type": "markdown",
      "metadata": {
        "id": "uLlTRcMM_h0k"
      },
      "source": [
        "## Hạn mức tài nguyên trong Colab Pro\n",
        "\n",
        "Tài nguyên của bạn trong Colab không phải là vô hạn. Để khai thác Colab Pro và Pro+ theo cách tối ưu, hãy tránh sử dụng tài nguyên khi không cần đến. Ví dụ: chỉ sử dụng thời gian chạy RAM cao cấp hoặc GPU khi cần và đóng các thẻ Colab sau khi hoàn tất.\n"
      ]
    },
    {
      "cell_type": "markdown",
      "metadata": {
        "id": "mm8FzEidvPs6"
      },
      "source": [
        "## Hãy gửi ý kiến phản hồi cho chúng tôi!\n",
        "\n",
        "<p>Nếu bạn có ý kiến phản hồi, vui lòng cho chúng tôi biết. Cách tốt nhất để gửi ý kiến phản hồi là sử dụng trình đơn Trợ giúp &gt; \"Gửi ý kiến phản hồi...\". Nếu bạn gặp vấn đề về hạn mức sử dụng trong Colab Pro, hãy cân nhắc việc đăng ký Pro+. Nếu bạn muốn sử dụng theo hình thức trả tiền theo mức dùng không giới hạn để loại bỏ mọi hạn mức đã áp dụng, vui lòng cho chúng tôi biết.</p>\n",
        "<p>Nếu bạn gặp lỗi hoặc các vấn đề khác liên quan đến việc tính phí &#40;thanh toán&#41; cho Colab Pro hoặc Pro+, vui lòng gửi email đến địa chỉ <a href=\"mailto:colab-billing@google.com\">colab-billing@google.com</a>.</p>"
      ]
    },
    {
      "cell_type": "markdown",
      "metadata": {
        "id": "qB3bdLe8jkAa"
      },
      "source": [
        "## Tài nguyên khác\n",
        "\n",
        "### Làm việc với Sổ tay trong Colab\n",
        "- [Tổng quan về Colaboratory](/notebooks/basic_features_overview.ipynb)\n",
        "- [Hướng dẫn sử dụng Markdown](/notebooks/markdown_guide.ipynb)\n",
        "- [Nhập thư viện và cài đặt phần phụ thuộc](/notebooks/snippets/importing_libraries.ipynb)\n",
        "- [Lưu và tải sổ tay trong GitHub](https://colab.research.google.com/github/googlecolab/colabtools/blob/master/notebooks/colab-github-demo.ipynb)\n",
        "- [Biểu mẫu tương tác](/notebooks/forms.ipynb)\n",
        "- [Tiện ích tương tác](/notebooks/widgets.ipynb)\n",
        "\n",
        "<a name=\"working-with-data\"></a>\n",
        "### Làm việc với dữ liệu\n",
        "- [Tải dữ liệu: Drive, Trang tính và Google Cloud Storage](/notebooks/io.ipynb) \n",
        "- [Biểu đồ: trực quan hóa dữ liệu](/notebooks/charts.ipynb)\n",
        "- [Bắt đầu sử dụng BigQuery](/notebooks/bigquery.ipynb)\n",
        "\n",
        "### Khóa học máy học ứng dụng\n",
        "Khóa học trực tuyến của Google về Máy học có cung cấp một số sổ tay. Hãy xem <a href=\"https://developers.google.com/machine-learning/crash-course/\">trang web của toàn bộ khóa học</a> để biết thêm thông tin.\n",
        "- [Giới thiệu về Pandas DataFrame](https://colab.research.google.com/github/google/eng-edu/blob/main/ml/cc/exercises/pandas_dataframe_ultraquick_tutorial.ipynb)\n",
        "- [Hồi quy tuyến tính bằng tf.keras sử dụng dữ liệu tổng hợp](https://colab.research.google.com/github/google/eng-edu/blob/main/ml/cc/exercises/linear_regression_with_synthetic_data.ipynb)\n",
        "\n",
        "\n",
        "<a name=\"using-accelerated-hardware\"></a>\n",
        "### Sử dụng phần cứng tăng tốc\n",
        "- [TensorFlow có GPU](/notebooks/gpu.ipynb)\n",
        "- [TensorFlow có TPU](/notebooks/tpu.ipynb)"
      ]
    },
    {
      "cell_type": "markdown",
      "metadata": {
        "id": "RFm2S0Gijqo8"
      },
      "source": [
        "<a name=\"machine-learning-examples\"></a>\n",
        "\n",
        "## Ví dụ về máy học\n",
        "\n",
        "Để xem các ví dụ toàn diện về những phép phân tích máy học tương tác mà Colaboratory có thể hỗ trợ, hãy xem các hướng dẫn sau bằng cách sử dụng các mô hình từ <a href=\"https://tfhub.dev\">TensorFlow Hub</a>.\n",
        "\n",
        "Một vài sổ tay mẫu nổi bật:\n",
        "\n",
        "- <a href=\"https://tensorflow.org/hub/tutorials/tf2_image_retraining\">Huấn luyện lại trình phân loại hình ảnh</a>: Tạo một mô hình Keras cùng với trình phân loại hình ảnh đã được huấn luyện trước để phân biệt các loại hoa.\n",
        "- <a href=\"https://tensorflow.org/hub/tutorials/tf2_text_classification\">Phân loại văn bản</a>: Phân loại các bài đánh giá phim trên IMDB là <em>tích cực</em> hoặc <em>tiêu cực</em>.\n",
        "- <a href=\"https://tensorflow.org/hub/tutorials/tf2_arbitrary_image_stylization\">Sao chép phong cách</a>: Sử dụng mô hình học sâu để sao chép phong cách giữa các hình ảnh.\n",
        "- <a href=\"https://tensorflow.org/hub/tutorials/retrieval_with_tf_hub_universal_encoder_qa\">Hỏi và đáp về Bộ mã hóa câu tổng quát đa ngôn ngữ</a>: Sử dụng một mô hình máy học để giải đáp các câu hỏi từ tập dữ liệu SQuAD.\n",
        "- <a href=\"https://tensorflow.org/hub/tutorials/tweening_conv3d\">Nội suy video</a>: Dự đoán những điều đã xảy ra trong một video từ khung hình đầu tiên đến khung hình cuối cùng.\n"
      ]
    }
  ],
  "metadata": {
    "colab": {
      "collapsed_sections": [],
      "name": "Khai thác tối đa gói đăng ký Colab",
      "provenance": [],
      "include_colab_link": true
    },
    "kernelspec": {
      "display_name": "Python 3",
      "name": "python3"
    }
  },
  "nbformat": 4,
  "nbformat_minor": 0
}