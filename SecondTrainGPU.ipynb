{
  "nbformat": 4,
  "nbformat_minor": 0,
  "metadata": {
    "colab": {
      "name": "SecondTrainGPU.ipynb",
      "provenance": [],
      "machine_shape": "hm",
      "authorship_tag": "ABX9TyPrIolR2TW6FD7fXM94VanV",
      "include_colab_link": true
    },
    "kernelspec": {
      "name": "python3",
      "display_name": "Python 3"
    },
    "language_info": {
      "name": "python"
    },
    "accelerator": "GPU",
    "gpuClass": "standard"
  },
  "cells": [
    {
      "cell_type": "markdown",
      "metadata": {
        "id": "view-in-github",
        "colab_type": "text"
      },
      "source": [
        "<a href=\"https://colab.research.google.com/github/TruongDuyLongPTIT/DoAnTotNghiepPTIT/blob/main/SecondTrainGPU.ipynb\" target=\"_parent\"><img src=\"https://colab.research.google.com/assets/colab-badge.svg\" alt=\"Open In Colab\"/></a>"
      ]
    },
    {
      "cell_type": "code",
      "execution_count": null,
      "metadata": {
        "id": "8LEPVy0vL4Lj"
      },
      "outputs": [],
      "source": [
        "!git clone https://github.com/harvardnlp/botnet-detection\n"
      ]
    },
    {
      "cell_type": "code",
      "source": [
        "!cd botnet_detection\n",
        "!python botnet_detection/setup.py install"
      ],
      "metadata": {
        "id": "T8BlbRy-MMO_"
      },
      "execution_count": null,
      "outputs": []
    },
    {
      "cell_type": "code",
      "source": [
        "!pip install deepdish==0.3.5"
      ],
      "metadata": {
        "id": "CdCOstdDMPFo"
      },
      "execution_count": null,
      "outputs": []
    },
    {
      "cell_type": "code",
      "source": [
        "from botnet_detection.botdet.data.dataset_botnet import BotnetDataset\n",
        "from botnet_detection.botdet.data.dataloader import GraphDataLoader\n",
        "\n",
        "botnet_dataset_train = BotnetDataset(name='chord', split='train', graph_format='pyg')\n",
        "botnet_dataset_val = BotnetDataset(name='chord', split='val', graph_format='pyg')\n",
        "botnet_dataset_test = BotnetDataset(name='chord', split='test', graph_format='pyg')\n",
        "print(botnet_dataset_train)"
      ],
      "metadata": {
        "colab": {
          "base_uri": "https://localhost:8080/"
        },
        "id": "kPO3PQbIMRAX",
        "outputId": "31ed3973-514c-4941-ea53-76d6770d381d"
      },
      "execution_count": 4,
      "outputs": [
        {
          "output_type": "stream",
          "name": "stdout",
          "text": [
            "This will download 3.17GB. Will you proceed? (y/N)\n",
            "y\n",
            "Downloading https://zenodo.org/record/3689089/files/botnet_chord.tar.gz\n",
            "Extracting data/botnet/raw/botnet_chord.tar.gz\n",
            "Processing...\n",
            "writing train set ----------\n"
          ]
        },
        {
          "output_type": "stream",
          "name": "stderr",
          "text": [
            "768it [01:53,  6.76it/s]\n"
          ]
        },
        {
          "output_type": "stream",
          "name": "stdout",
          "text": [
            "train split --- number of graphs: 768, data saved at data/botnet/processed/chord_train.hdf5.\n",
            "writing val set ----------\n"
          ]
        },
        {
          "output_type": "stream",
          "name": "stderr",
          "text": [
            "96it [00:15,  6.29it/s]\n"
          ]
        },
        {
          "output_type": "stream",
          "name": "stdout",
          "text": [
            "val split --- number of graphs: 96, data saved at data/botnet/processed/chord_val.hdf5.\n",
            "writing test set ----------\n"
          ]
        },
        {
          "output_type": "stream",
          "name": "stderr",
          "text": [
            "96it [00:17,  5.60it/s]\n"
          ]
        },
        {
          "output_type": "stream",
          "name": "stdout",
          "text": [
            "test split --- number of graphs: 96, data saved at data/botnet/processed/chord_test.hdf5.\n",
            "Done!\n",
            "BotnetDataset(topology: chord | split: train | #graphs: 768 | graph format: pyg)\n"
          ]
        }
      ]
    },
    {
      "cell_type": "code",
      "source": [
        "!pip install torch_geometric==1.4.3"
      ],
      "metadata": {
        "id": "ChEOCwGFMV0n"
      },
      "execution_count": null,
      "outputs": []
    },
    {
      "cell_type": "code",
      "source": [
        "!pip install torch_scatter"
      ],
      "metadata": {
        "colab": {
          "base_uri": "https://localhost:8080/"
        },
        "id": "mlOTdfs3MWoQ",
        "outputId": "f387a156-a8ce-4171-e7a9-887c25b9308a"
      },
      "execution_count": 2,
      "outputs": [
        {
          "output_type": "stream",
          "name": "stdout",
          "text": [
            "Looking in indexes: https://pypi.org/simple, https://us-python.pkg.dev/colab-wheels/public/simple/\n",
            "Collecting torch_scatter\n",
            "  Using cached torch_scatter-2.0.9.tar.gz (21 kB)\n",
            "Building wheels for collected packages: torch-scatter\n",
            "  Building wheel for torch-scatter (setup.py) ... \u001b[?25l\u001b[?25hdone\n",
            "  Created wheel for torch-scatter: filename=torch_scatter-2.0.9-cp37-cp37m-linux_x86_64.whl size=3567064 sha256=3d7bffc677c4162e7d3a6ad05174a6382b3e164ece7628c742cf6721c89410c8\n",
            "  Stored in directory: /root/.cache/pip/wheels/dd/57/a3/42ea193b77378ce634eb9454c9bc1e3163f3b482a35cdee4d1\n",
            "Successfully built torch-scatter\n",
            "Installing collected packages: torch-scatter\n",
            "Successfully installed torch-scatter-2.0.9\n"
          ]
        }
      ]
    },
    {
      "cell_type": "code",
      "source": [
        "!pip install torch_sparse"
      ],
      "metadata": {
        "colab": {
          "base_uri": "https://localhost:8080/"
        },
        "id": "eBleZfw8MZh_",
        "outputId": "733720dd-93ea-4f91-bc2f-55f09e86691e"
      },
      "execution_count": 3,
      "outputs": [
        {
          "output_type": "stream",
          "name": "stdout",
          "text": [
            "Looking in indexes: https://pypi.org/simple, https://us-python.pkg.dev/colab-wheels/public/simple/\n",
            "Collecting torch_sparse\n",
            "  Downloading torch_sparse-0.6.15.tar.gz (2.1 MB)\n",
            "\u001b[K     |████████████████████████████████| 2.1 MB 15.1 MB/s \n",
            "\u001b[?25hRequirement already satisfied: scipy in /usr/local/lib/python3.7/dist-packages (from torch_sparse) (1.7.3)\n",
            "Requirement already satisfied: numpy<1.23.0,>=1.16.5 in /usr/local/lib/python3.7/dist-packages (from scipy->torch_sparse) (1.21.6)\n",
            "Building wheels for collected packages: torch-sparse\n",
            "  Building wheel for torch-sparse (setup.py) ... \u001b[?25l\u001b[?25hdone\n",
            "  Created wheel for torch-sparse: filename=torch_sparse-0.6.15-cp37-cp37m-linux_x86_64.whl size=1742304 sha256=aa3788652aa4ef974de48cb6776dd3b5dcb4be1029fe8076b486ba71e8aafc19\n",
            "  Stored in directory: /root/.cache/pip/wheels/15/68/4d/1414be5c2c622bad35364e13213180797717b6d4b8923936dc\n",
            "Successfully built torch-sparse\n",
            "Installing collected packages: torch-sparse\n",
            "Successfully installed torch-sparse-0.6.15\n"
          ]
        }
      ]
    },
    {
      "cell_type": "code",
      "source": [
        "!pip install torch_cluster"
      ],
      "metadata": {
        "colab": {
          "base_uri": "https://localhost:8080/"
        },
        "id": "pZTEVaHzMauJ",
        "outputId": "15627315-d7ad-49eb-be94-16110e3fe280"
      },
      "execution_count": 4,
      "outputs": [
        {
          "output_type": "stream",
          "name": "stdout",
          "text": [
            "Looking in indexes: https://pypi.org/simple, https://us-python.pkg.dev/colab-wheels/public/simple/\n",
            "Collecting torch_cluster\n",
            "  Downloading torch_cluster-1.6.0.tar.gz (43 kB)\n",
            "\u001b[K     |████████████████████████████████| 43 kB 2.0 MB/s \n",
            "\u001b[?25hBuilding wheels for collected packages: torch-cluster\n",
            "  Building wheel for torch-cluster (setup.py) ... \u001b[?25l\u001b[?25hdone\n",
            "  Created wheel for torch-cluster: filename=torch_cluster-1.6.0-cp37-cp37m-linux_x86_64.whl size=940989 sha256=6212221c52422d4be3b0f7837a3d86007b13694dd74f4fdb7fabde1495fb6562\n",
            "  Stored in directory: /root/.cache/pip/wheels/bc/c7/3e/258dd72b35d7a459264143ad5bfe97b9dc5eef90069ca2f13f\n",
            "Successfully built torch-cluster\n",
            "Installing collected packages: torch-cluster\n",
            "Successfully installed torch-cluster-1.6.0\n"
          ]
        }
      ]
    },
    {
      "cell_type": "code",
      "source": [
        "!bash /content/botnet_detection/run_botnet.sh"
      ],
      "metadata": {
        "colab": {
          "base_uri": "https://localhost:8080/"
        },
        "id": "P4qMMd2pMqSc",
        "outputId": "90a5cc56-c7e9-40d1-9347-1fb07cfc7809"
      },
      "execution_count": 12,
      "outputs": [
        {
          "output_type": "stream",
          "name": "stdout",
          "text": [
            "All Logs will be saved to ./saved_models/chord_model_lay12_rh1_rw_ep50.log\n",
            "python /content/botnet_detection/train_botnet.py --devid 0 --data_dir ./data/botnet --data_name chord --batch_size 16 --enc_sizes 32 32 32 32 32 32 32 32 32 32 32 32 --act relu --residual_hop 1 --deg_norm rw --final proj --epochs 50 --lr 0.01 --early_stop 1 --save_dir ./saved_models --save_name chord_model_lay12_rh1_rw_ep50.pt\n",
            "------------------------------\n",
            "Namespace(act='relu', aggr='add', att_act='lrelu', att_combine='cat', att_combine_out='cat', att_dir='in', att_dropout=0, batch_size=16, bias=True, data_dir='./data/botnet', data_name='chord', deg_norm='rw', devid=0, dropout=0.0, early_stop=1, edge_gate='none', enc_sizes=[32, 32, 32, 32, 32, 32, 32, 32, 32, 32, 32, 32], epochs=50, final='proj', in_channels=1, in_memory=False, layer_act='none', log_interval=96, logmode='w', lr=0.01, n_classes=2, nheads=[1], nodemodel='additive', residual_hop=1, save_dir='./saved_models', save_name='chord_model_lay12_rh1_rw_ep50.pt', seed=0, shuffle=False, weight_decay=0.0005)\n",
            "------------------------------\n",
            "Wed Aug 31 10:28:42 2022\n",
            "------------------------------\n",
            "loading dataset...\n",
            "model ----------\n",
            "GCNModel(\n",
            "  (gcn_net): ModuleList(\n",
            "    (0): GCNLayer(\n",
            "      (gcn): NodeModelAdditive (in_channels: 1, out_channels: 32, in_edgedim: None, deg_norm: rw, edge_gate: NoneType,aggr: add | number of parameters: 64)\n",
            "      (non_linear): Identity()\n",
            "    )\n",
            "    (1): GCNLayer(\n",
            "      (gcn): NodeModelAdditive (in_channels: 32, out_channels: 32, in_edgedim: None, deg_norm: rw, edge_gate: NoneType,aggr: add | number of parameters: 1056)\n",
            "      (non_linear): Identity()\n",
            "    )\n",
            "    (2): GCNLayer(\n",
            "      (gcn): NodeModelAdditive (in_channels: 32, out_channels: 32, in_edgedim: None, deg_norm: rw, edge_gate: NoneType,aggr: add | number of parameters: 1056)\n",
            "      (non_linear): Identity()\n",
            "    )\n",
            "    (3): GCNLayer(\n",
            "      (gcn): NodeModelAdditive (in_channels: 32, out_channels: 32, in_edgedim: None, deg_norm: rw, edge_gate: NoneType,aggr: add | number of parameters: 1056)\n",
            "      (non_linear): Identity()\n",
            "    )\n",
            "    (4): GCNLayer(\n",
            "      (gcn): NodeModelAdditive (in_channels: 32, out_channels: 32, in_edgedim: None, deg_norm: rw, edge_gate: NoneType,aggr: add | number of parameters: 1056)\n",
            "      (non_linear): Identity()\n",
            "    )\n",
            "    (5): GCNLayer(\n",
            "      (gcn): NodeModelAdditive (in_channels: 32, out_channels: 32, in_edgedim: None, deg_norm: rw, edge_gate: NoneType,aggr: add | number of parameters: 1056)\n",
            "      (non_linear): Identity()\n",
            "    )\n",
            "    (6): GCNLayer(\n",
            "      (gcn): NodeModelAdditive (in_channels: 32, out_channels: 32, in_edgedim: None, deg_norm: rw, edge_gate: NoneType,aggr: add | number of parameters: 1056)\n",
            "      (non_linear): Identity()\n",
            "    )\n",
            "    (7): GCNLayer(\n",
            "      (gcn): NodeModelAdditive (in_channels: 32, out_channels: 32, in_edgedim: None, deg_norm: rw, edge_gate: NoneType,aggr: add | number of parameters: 1056)\n",
            "      (non_linear): Identity()\n",
            "    )\n",
            "    (8): GCNLayer(\n",
            "      (gcn): NodeModelAdditive (in_channels: 32, out_channels: 32, in_edgedim: None, deg_norm: rw, edge_gate: NoneType,aggr: add | number of parameters: 1056)\n",
            "      (non_linear): Identity()\n",
            "    )\n",
            "    (9): GCNLayer(\n",
            "      (gcn): NodeModelAdditive (in_channels: 32, out_channels: 32, in_edgedim: None, deg_norm: rw, edge_gate: NoneType,aggr: add | number of parameters: 1056)\n",
            "      (non_linear): Identity()\n",
            "    )\n",
            "    (10): GCNLayer(\n",
            "      (gcn): NodeModelAdditive (in_channels: 32, out_channels: 32, in_edgedim: None, deg_norm: rw, edge_gate: NoneType,aggr: add | number of parameters: 1056)\n",
            "      (non_linear): Identity()\n",
            "    )\n",
            "    (11): GCNLayer(\n",
            "      (gcn): NodeModelAdditive (in_channels: 32, out_channels: 32, in_edgedim: None, deg_norm: rw, edge_gate: NoneType,aggr: add | number of parameters: 1056)\n",
            "      (non_linear): Identity()\n",
            "    )\n",
            "  )\n",
            "  (dropout): Dropout(p=0.0, inplace=False)\n",
            "  (residuals): ModuleList(\n",
            "    (0): Linear(in_features=1, out_features=32, bias=False)\n",
            "    (1): Identity()\n",
            "    (2): Identity()\n",
            "    (3): Identity()\n",
            "    (4): Identity()\n",
            "    (5): Identity()\n",
            "    (6): Identity()\n",
            "    (7): Identity()\n",
            "    (8): Identity()\n",
            "    (9): Identity()\n",
            "    (10): Identity()\n",
            "    (11): Identity()\n",
            "  )\n",
            "  (non_linear): ReLU()\n",
            "  (final): Linear(in_features=32, out_features=2, bias=True)\n",
            ")\n",
            "epoch: 1, passed number of graphs: 96, train running loss: 0.14035 (passed time: 15s)\n",
            "          acc: 0.40877, fpr: 0.63563, fnr: 0.00066, rec: 0.99934, prc: 0.10572, f1: 0.19121, auroc: 0.84229\n",
            "epoch: 1, passed number of graphs: 192, train running loss: 0.09887 (passed time: 35s)\n",
            "          acc: 0.93077, fpr: 0.00000, fnr: 1.00000, rec: 0.00000, prc: -1.00000, f1: 0.00000, auroc: 0.18898\n",
            "epoch: 1, passed number of graphs: 288, train running loss: 0.07460 (passed time: 55s)\n",
            "          acc: 0.93026, fpr: 0.00000, fnr: 1.00000, rec: 0.00000, prc: -1.00000, f1: 0.00000, auroc: 0.24404\n",
            "epoch: 1, passed number of graphs: 384, train running loss: 0.06116 (passed time: 1m 15s)\n",
            "          acc: 0.93054, fpr: 0.00000, fnr: 1.00000, rec: 0.00000, prc: -1.00000, f1: 0.00000, auroc: 0.77471\n",
            "epoch: 1, passed number of graphs: 480, train running loss: 0.05220 (passed time: 1m 34s)\n",
            "          acc: 0.93017, fpr: 0.00002, fnr: 0.99999, rec: 0.00001, prc: 0.04878, f1: 0.00002, auroc: 0.92392\n",
            "epoch: 1, passed number of graphs: 576, train running loss: 0.04596 (passed time: 1m 54s)\n",
            "          acc: 0.93048, fpr: 0.00000, fnr: 0.99993, rec: 0.00007, prc: 1.00000, f1: 0.00014, auroc: 0.91806\n",
            "epoch: 1, passed number of graphs: 672, train running loss: 0.04172 (passed time: 2m 14s)\n",
            "          acc: 0.93051, fpr: 0.00000, fnr: 1.00000, rec: 0.00000, prc: -1.00000, f1: 0.00000, auroc: 0.95155\n",
            "epoch: 1, passed number of graphs: 768, train running loss: 0.03823 (passed time: 2m 34s)\n",
            "          acc: 0.92880, fpr: 0.00221, fnr: 0.99746, rec: 0.00254, prc: 0.07891, f1: 0.00492, auroc: 0.95162\n",
            "Validation --- epoch: 1, loss: 0.21780\n",
            "          rec: 0.00435, f1: 0.00827, fpr: 0.00346, fnr: 0.99565, acc: 0.92751, prc: 0.08594, auroc: 0.95186\n",
            "model saved at ./saved_models/chord_model_lay12_rh1_rw_ep50.pt.\n",
            "epoch: 2, passed number of graphs: 96, train running loss: 0.01263 (passed time: 3m 11s)\n",
            "          acc: 0.93001, fpr: 0.00009, fnr: 0.99959, rec: 0.00041, prc: 0.24906, f1: 0.00082, auroc: 0.96948\n",
            "epoch: 2, passed number of graphs: 192, train running loss: 0.01204 (passed time: 3m 31s)\n",
            "          acc: 0.92968, fpr: 0.00219, fnr: 0.98633, rec: 0.01367, prc: 0.31686, f1: 0.02621, auroc: 0.97507\n",
            "epoch: 2, passed number of graphs: 288, train running loss: 0.01153 (passed time: 3m 52s)\n",
            "          acc: 0.93138, fpr: 0.00005, fnr: 0.98331, rec: 0.01669, prc: 0.96426, f1: 0.03282, auroc: 0.97482\n",
            "epoch: 2, passed number of graphs: 384, train running loss: 0.01096 (passed time: 4m 12s)\n",
            "          acc: 0.93265, fpr: 0.00101, fnr: 0.95608, rec: 0.04392, prc: 0.76472, f1: 0.08307, auroc: 0.98630\n",
            "epoch: 2, passed number of graphs: 480, train running loss: 0.01044 (passed time: 4m 33s)\n",
            "          acc: 0.93211, fpr: 0.00183, fnr: 0.94800, rec: 0.05200, prc: 0.68096, f1: 0.09662, auroc: 0.98636\n",
            "epoch: 2, passed number of graphs: 576, train running loss: 0.01055 (passed time: 4m 54s)\n",
            "          acc: 0.93181, fpr: 0.00945, fnr: 0.85426, rec: 0.14574, prc: 0.53541, f1: 0.22911, auroc: 0.94912\n",
            "epoch: 2, passed number of graphs: 672, train running loss: 0.01083 (passed time: 5m 14s)\n",
            "          acc: 0.93234, fpr: 0.00001, fnr: 0.97361, rec: 0.02639, prc: 0.99388, f1: 0.05141, auroc: 0.98092\n",
            "epoch: 2, passed number of graphs: 768, train running loss: 0.01082 (passed time: 5m 34s)\n",
            "          acc: 0.93412, fpr: 0.00003, fnr: 0.94990, rec: 0.05010, prc: 0.99073, f1: 0.09538, auroc: 0.98179\n",
            "Validation --- epoch: 2, loss: 0.14159\n",
            "          rec: 0.10476, f1: 0.18829, fpr: 0.00058, fnr: 0.89524, acc: 0.93717, prc: 0.93091, auroc: 0.98789\n",
            "model saved at ./saved_models/chord_model_lay12_rh1_rw_ep50.pt.\n",
            "epoch: 3, passed number of graphs: 96, train running loss: 0.00799 (passed time: 6m 9s)\n",
            "          acc: 0.94425, fpr: 0.00011, fnr: 0.79579, rec: 0.20421, prc: 0.99286, f1: 0.33875, auroc: 0.97346\n",
            "epoch: 3, passed number of graphs: 192, train running loss: 0.00733 (passed time: 6m 29s)\n",
            "          acc: 0.96494, fpr: 0.00034, fnr: 0.50195, rec: 0.49805, prc: 0.99097, f1: 0.66292, auroc: 0.99083\n",
            "epoch: 3, passed number of graphs: 288, train running loss: 0.00685 (passed time: 6m 50s)\n",
            "          acc: 0.97725, fpr: 0.00028, fnr: 0.32249, rec: 0.67751, prc: 0.99459, f1: 0.80598, auroc: 0.97787\n",
            "epoch: 3, passed number of graphs: 384, train running loss: 0.00636 (passed time: 7m 10s)\n",
            "          acc: 0.98428, fpr: 0.00591, fnr: 0.14713, rec: 0.85288, prc: 0.91501, f1: 0.88285, auroc: 0.99328\n",
            "epoch: 3, passed number of graphs: 480, train running loss: 0.00604 (passed time: 7m 30s)\n",
            "          acc: 0.98647, fpr: 0.00042, fnr: 0.18818, rec: 0.81182, prc: 0.99323, f1: 0.89341, auroc: 0.98696\n",
            "epoch: 3, passed number of graphs: 576, train running loss: 0.00572 (passed time: 7m 49s)\n",
            "          acc: 0.99194, fpr: 0.00051, fnr: 0.10912, rec: 0.89088, prc: 0.99246, f1: 0.93893, auroc: 0.98338\n",
            "epoch: 3, passed number of graphs: 672, train running loss: 0.00563 (passed time: 8m 9s)\n",
            "          acc: 0.98099, fpr: 0.00024, fnr: 0.27043, rec: 0.72957, prc: 0.99568, f1: 0.84210, auroc: 0.97240\n",
            "epoch: 3, passed number of graphs: 768, train running loss: 0.00576 (passed time: 8m 28s)\n",
            "          acc: 0.98636, fpr: 0.00057, fnr: 0.18902, rec: 0.81098, prc: 0.99059, f1: 0.89183, auroc: 0.97021\n",
            "Validation --- epoch: 3, loss: 0.07581\n",
            "          rec: 0.89057, f1: 0.88994, fpr: 0.00829, fnr: 0.10943, acc: 0.98468, prc: 0.88934, auroc: 0.97949\n",
            "model saved at ./saved_models/chord_model_lay12_rh1_rw_ep50.pt.\n",
            "epoch: 4, passed number of graphs: 96, train running loss: 0.00521 (passed time: 9m 3s)\n",
            "          acc: 0.98790, fpr: 0.00027, fnr: 0.16942, rec: 0.83057, prc: 0.99571, f1: 0.90568, auroc: 0.98309\n",
            "epoch: 4, passed number of graphs: 192, train running loss: 0.00474 (passed time: 9m 24s)\n",
            "          acc: 0.98835, fpr: 0.00358, fnr: 0.12016, rec: 0.87984, prc: 0.94818, f1: 0.91273, auroc: 0.98836\n",
            "epoch: 4, passed number of graphs: 288, train running loss: 0.00521 (passed time: 9m 44s)\n",
            "          acc: 0.98448, fpr: 0.00017, fnr: 0.22020, rec: 0.77980, prc: 0.99704, f1: 0.87514, auroc: 0.97885\n",
            "epoch: 4, passed number of graphs: 384, train running loss: 0.00645 (passed time: 10m 5s)\n",
            "          acc: 0.98279, fpr: 0.00011, fnr: 0.24626, rec: 0.75374, prc: 0.99804, f1: 0.85886, auroc: 0.97277\n",
            "Traceback (most recent call last):\n",
            "  File \"/content/botnet_detection/train_botnet.py\", line 270, in <module>\n",
            "    scheduler, logger)\n",
            "  File \"/content/botnet_detection/train_botnet.py\", line 133, in train\n",
            "    for n, batch in enumerate(train_loader):\n",
            "  File \"/usr/local/lib/python3.7/dist-packages/torch/utils/data/dataloader.py\", line 681, in __next__\n",
            "    data = self._next_data()\n",
            "  File \"/usr/local/lib/python3.7/dist-packages/torch/utils/data/dataloader.py\", line 721, in _next_data\n",
            "    data = self._dataset_fetcher.fetch(index)  # may raise StopIteration\n",
            "  File \"/usr/local/lib/python3.7/dist-packages/torch/utils/data/_utils/fetch.py\", line 49, in fetch\n",
            "    data = [self.dataset[idx] for idx in possibly_batched_index]\n",
            "  File \"/usr/local/lib/python3.7/dist-packages/torch/utils/data/_utils/fetch.py\", line 49, in <listcomp>\n",
            "    data = [self.dataset[idx] for idx in possibly_batched_index]\n",
            "  File \"/content/botnet_detection/botdet/data/dataset_botnet.py\", line 209, in __getitem__\n",
            "    graph_dict = h5group_to_dict(self.data[str(index)])\n",
            "  File \"/content/botnet_detection/botdet/data/data_utils.py\", line 7, in h5group_to_dict\n",
            "    group_dict = {k: v[()] for k, v in chain(h5group.items(), h5group.attrs.items())}\n",
            "  File \"/content/botnet_detection/botdet/data/data_utils.py\", line 7, in <dictcomp>\n",
            "    group_dict = {k: v[()] for k, v in chain(h5group.items(), h5group.attrs.items())}\n",
            "  File \"h5py/_objects.pyx\", line 54, in h5py._objects.with_phil.wrapper\n",
            "  File \"h5py/_objects.pyx\", line 55, in h5py._objects.with_phil.wrapper\n",
            "  File \"/usr/local/lib/python3.7/dist-packages/h5py/_hl/dataset.py\", line 787, in __getitem__\n",
            "    self.id.read(mspace, fspace, arr, mtype, dxpl=self._dxpl)\n",
            "KeyboardInterrupt\n"
          ]
        }
      ]
    },
    {
      "cell_type": "code",
      "source": [
        "!cp -r /content/dataloader.py /usr/local/lib/python3.7/dist-packages/torch_geometric/data/dataloader.py "
      ],
      "metadata": {
        "id": "26nmic76bsg2"
      },
      "execution_count": 8,
      "outputs": []
    }
  ]
}