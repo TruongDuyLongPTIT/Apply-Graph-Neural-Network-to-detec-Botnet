{
  "nbformat": 4,
  "nbformat_minor": 0,
  "metadata": {
    "colab": {
      "provenance": [],
      "mount_file_id": "1LQWELczqmaSO1EBtq_ZdDhoWviRzUizA",
      "authorship_tag": "ABX9TyOowMUxNAR4Ynr7Yh639Rwt",
      "include_colab_link": true
    },
    "kernelspec": {
      "name": "python3",
      "display_name": "Python 3"
    },
    "language_info": {
      "name": "python"
    },
    "accelerator": "GPU",
    "gpuClass": "standard"
  },
  "cells": [
    {
      "cell_type": "markdown",
      "metadata": {
        "id": "view-in-github",
        "colab_type": "text"
      },
      "source": [
        "<a href=\"https://colab.research.google.com/github/TruongDuyLongPTIT/DoAnTotNghiepPTIT/blob/main/NCG_rw.ipynb\" target=\"_parent\"><img src=\"https://colab.research.google.com/assets/colab-badge.svg\" alt=\"Open In Colab\"/></a>"
      ]
    },
    {
      "cell_type": "code",
      "execution_count": null,
      "metadata": {
        "id": "4yW98M-2N7pV"
      },
      "outputs": [],
      "source": [
        "import os\n",
        "import torch\n",
        "os.environ['TORCH'] = torch.__version__\n",
        "\n",
        "!pip install -q torch-scatter -f https://data.pyg.org/whl/torch-${TORCH}.html\n",
        "!pip install -q torch-sparse -f https://data.pyg.org/whl/torch-${TORCH}.html\n",
        "!pip install -q git+https://github.com/pyg-team/pytorch_geometric.git\n",
        "!pip install torch-cluster -f https://data.pyg.org/whl/torch-${TORCH}.html\n",
        "!pip install deepdish==0.3.5"
      ]
    },
    {
      "cell_type": "code",
      "source": [
        "!cd botnet_detection\n",
        "!python botnet_detection/setup.py install"
      ],
      "metadata": {
        "id": "Gdkbrxm3OsiS"
      },
      "execution_count": null,
      "outputs": []
    },
    {
      "cell_type": "code",
      "source": [
        "from botnet_detection.botdet.data.dataset_botnet import BotnetDataset\n",
        "from botnet_detection.botdet.data.dataloader import GraphDataLoader\n",
        "\n",
        "botnet_dataset_train = BotnetDataset(name='chord', split='train', in_memory = False, graph_format='pyg')\n",
        "botnet_dataset_val = BotnetDataset(name='chord', split='val', in_memory = False, graph_format='pyg')\n",
        "botnet_dataset_test = BotnetDataset(name='chord', split='test', in_memory = False, graph_format='pyg')\n",
        "print(botnet_dataset_train)"
      ],
      "metadata": {
        "colab": {
          "base_uri": "https://localhost:8080/"
        },
        "id": "2fRLGTp9O-wr",
        "outputId": "32bc6c27-e8eb-459a-e9fc-5b0d96490564"
      },
      "execution_count": null,
      "outputs": [
        {
          "output_type": "stream",
          "name": "stdout",
          "text": [
            "Extracting data/botnet/raw/botnet_chord.tar.gz\n",
            "Processing...\n",
            "writing train set ----------\n"
          ]
        },
        {
          "output_type": "stream",
          "name": "stderr",
          "text": [
            "768it [02:11,  5.84it/s]\n"
          ]
        },
        {
          "output_type": "stream",
          "name": "stdout",
          "text": [
            "train split --- number of graphs: 768, data saved at data/botnet/processed/chord_train.hdf5.\n",
            "writing val set ----------\n"
          ]
        },
        {
          "output_type": "stream",
          "name": "stderr",
          "text": [
            "96it [00:16,  5.78it/s]\n"
          ]
        },
        {
          "output_type": "stream",
          "name": "stdout",
          "text": [
            "val split --- number of graphs: 96, data saved at data/botnet/processed/chord_val.hdf5.\n",
            "writing test set ----------\n"
          ]
        },
        {
          "output_type": "stream",
          "name": "stderr",
          "text": [
            "96it [00:16,  5.95it/s]"
          ]
        },
        {
          "output_type": "stream",
          "name": "stdout",
          "text": [
            "test split --- number of graphs: 96, data saved at data/botnet/processed/chord_test.hdf5.\n",
            "Done!\n",
            "BotnetDataset(topology: chord | split: train | #graphs: 768 | graph format: pyg)\n"
          ]
        },
        {
          "output_type": "stream",
          "name": "stderr",
          "text": [
            "\n"
          ]
        }
      ]
    },
    {
      "cell_type": "code",
      "source": [
        "!bash /content/botnet_detection/run_botnet.sh"
      ],
      "metadata": {
        "colab": {
          "base_uri": "https://localhost:8080/"
        },
        "id": "N3PC2PMvPAZJ",
        "outputId": "3162d0bf-67c4-44cd-d973-c606a06b2ba8"
      },
      "execution_count": 17,
      "outputs": [
        {
          "output_type": "stream",
          "name": "stdout",
          "text": [
            "All Logs will be saved to ./saved_models/chord_model_lay12_rh1_rw_ep50.log\n",
            "python /content/botnet_detection/train_botnet.py --devid 0 --data_dir ./data/botnet --data_name chord --batch_size 2 --enc_sizes 32 32 32 32 32 32 32 32 32 32 32 32 --act relu --residual_hop 1 --deg_norm rw --final proj --epochs 50 --lr 0.005 --early_stop 1 --save_dir ./saved_models --save_name chord_model_lay12_rh1_rw_ep50.pt\n",
            "------------------------------\n",
            "Namespace(act='relu', aggr='add', att_act='lrelu', att_combine='cat', att_combine_out='cat', att_dir='in', att_dropout=0, batch_size=2, bias=True, data_dir='./data/botnet', data_name='chord', deg_norm='rw', devid=0, dropout=0.0, early_stop=1, edge_gate='none', enc_sizes=[32, 32, 32, 32, 32, 32, 32, 32, 32, 32, 32, 32], epochs=50, final='proj', in_channels=1, in_memory=False, layer_act='none', log_interval=96, logmode='w', lr=0.005, n_classes=2, nheads=[1], nodemodel='additive', residual_hop=1, save_dir='./saved_models', save_name='chord_model_lay12_rh1_rw_ep50.pt', seed=0, shuffle=False, weight_decay=0.0005)\n",
            "------------------------------\n",
            "Fri Oct 14 03:43:51 2022\n",
            "------------------------------\n",
            "loading dataset...\n",
            "model ----------\n",
            "GCNModel(\n",
            "  (gcn_net): ModuleList(\n",
            "    (0): GCNLayer(\n",
            "      (gcn): NodeModelAdditive (in_channels: 1, out_channels: 32, in_edgedim: None, deg_norm: rw, edge_gate: NoneType,aggr: add | number of parameters: 64)\n",
            "      (non_linear): Identity()\n",
            "    )\n",
            "    (1): GCNLayer(\n",
            "      (gcn): NodeModelAdditive (in_channels: 32, out_channels: 32, in_edgedim: None, deg_norm: rw, edge_gate: NoneType,aggr: add | number of parameters: 1056)\n",
            "      (non_linear): Identity()\n",
            "    )\n",
            "    (2): GCNLayer(\n",
            "      (gcn): NodeModelAdditive (in_channels: 32, out_channels: 32, in_edgedim: None, deg_norm: rw, edge_gate: NoneType,aggr: add | number of parameters: 1056)\n",
            "      (non_linear): Identity()\n",
            "    )\n",
            "    (3): GCNLayer(\n",
            "      (gcn): NodeModelAdditive (in_channels: 32, out_channels: 32, in_edgedim: None, deg_norm: rw, edge_gate: NoneType,aggr: add | number of parameters: 1056)\n",
            "      (non_linear): Identity()\n",
            "    )\n",
            "    (4): GCNLayer(\n",
            "      (gcn): NodeModelAdditive (in_channels: 32, out_channels: 32, in_edgedim: None, deg_norm: rw, edge_gate: NoneType,aggr: add | number of parameters: 1056)\n",
            "      (non_linear): Identity()\n",
            "    )\n",
            "    (5): GCNLayer(\n",
            "      (gcn): NodeModelAdditive (in_channels: 32, out_channels: 32, in_edgedim: None, deg_norm: rw, edge_gate: NoneType,aggr: add | number of parameters: 1056)\n",
            "      (non_linear): Identity()\n",
            "    )\n",
            "    (6): GCNLayer(\n",
            "      (gcn): NodeModelAdditive (in_channels: 32, out_channels: 32, in_edgedim: None, deg_norm: rw, edge_gate: NoneType,aggr: add | number of parameters: 1056)\n",
            "      (non_linear): Identity()\n",
            "    )\n",
            "    (7): GCNLayer(\n",
            "      (gcn): NodeModelAdditive (in_channels: 32, out_channels: 32, in_edgedim: None, deg_norm: rw, edge_gate: NoneType,aggr: add | number of parameters: 1056)\n",
            "      (non_linear): Identity()\n",
            "    )\n",
            "    (8): GCNLayer(\n",
            "      (gcn): NodeModelAdditive (in_channels: 32, out_channels: 32, in_edgedim: None, deg_norm: rw, edge_gate: NoneType,aggr: add | number of parameters: 1056)\n",
            "      (non_linear): Identity()\n",
            "    )\n",
            "    (9): GCNLayer(\n",
            "      (gcn): NodeModelAdditive (in_channels: 32, out_channels: 32, in_edgedim: None, deg_norm: rw, edge_gate: NoneType,aggr: add | number of parameters: 1056)\n",
            "      (non_linear): Identity()\n",
            "    )\n",
            "    (10): GCNLayer(\n",
            "      (gcn): NodeModelAdditive (in_channels: 32, out_channels: 32, in_edgedim: None, deg_norm: rw, edge_gate: NoneType,aggr: add | number of parameters: 1056)\n",
            "      (non_linear): Identity()\n",
            "    )\n",
            "    (11): GCNLayer(\n",
            "      (gcn): NodeModelAdditive (in_channels: 32, out_channels: 32, in_edgedim: None, deg_norm: rw, edge_gate: NoneType,aggr: add | number of parameters: 1056)\n",
            "      (non_linear): Identity()\n",
            "    )\n",
            "  )\n",
            "  (dropout): Dropout(p=0.0, inplace=False)\n",
            "  (residuals): ModuleList(\n",
            "    (0): Linear(in_features=1, out_features=32, bias=False)\n",
            "    (1): Identity()\n",
            "    (2): Identity()\n",
            "    (3): Identity()\n",
            "    (4): Identity()\n",
            "    (5): Identity()\n",
            "    (6): Identity()\n",
            "    (7): Identity()\n",
            "    (8): Identity()\n",
            "    (9): Identity()\n",
            "    (10): Identity()\n",
            "    (11): Identity()\n",
            "  )\n",
            "  (non_linear): ReLU()\n",
            "  (final): Linear(in_features=32, out_features=2, bias=True)\n",
            ")\n",
            "epoch: 1, passed number of graphs: 96, train running loss: 0.26813 (passed time: 16s)\n",
            "          acc: 0.93079, fpr: 0.00000, fnr: 1.00000, rec: 0.00000, prc: -1.00000, f1: 0.00000, auroc: 0.88352\n",
            "epoch: 1, passed number of graphs: 192, train running loss: 0.19549 (passed time: 38s)\n",
            "          acc: 0.93081, fpr: 0.00013, fnr: 0.98960, rec: 0.01040, prc: 0.85597, f1: 0.02055, auroc: 0.95898\n",
            "epoch: 1, passed number of graphs: 288, train running loss: 0.16387 (passed time: 59s)\n",
            "          acc: 0.93288, fpr: 0.00092, fnr: 0.95685, rec: 0.04315, prc: 0.77818, f1: 0.08177, auroc: 0.97890\n",
            "epoch: 1, passed number of graphs: 384, train running loss: 0.14090 (passed time: 1m 21s)\n",
            "          acc: 0.96196, fpr: 0.00045, fnr: 0.53035, rec: 0.46965, prc: 0.98770, f1: 0.63660, auroc: 0.98491\n",
            "epoch: 1, passed number of graphs: 480, train running loss: 0.12469 (passed time: 1m 42s)\n",
            "          acc: 0.98997, fpr: 0.00053, fnr: 0.13490, rec: 0.86510, prc: 0.99197, f1: 0.92420, auroc: 0.98215\n",
            "epoch: 1, passed number of graphs: 576, train running loss: 0.11080 (passed time: 2m 2s)\n",
            "          acc: 0.98855, fpr: 0.00035, fnr: 0.16090, rec: 0.83910, prc: 0.99443, f1: 0.91019, auroc: 0.99116\n",
            "epoch: 1, passed number of graphs: 672, train running loss: 0.09912 (passed time: 2m 21s)\n",
            "          acc: 0.99586, fpr: 0.00122, fnr: 0.04340, rec: 0.95660, prc: 0.98309, f1: 0.96967, auroc: 0.99146\n",
            "epoch: 1, passed number of graphs: 768, train running loss: 0.08939 (passed time: 2m 41s)\n",
            "          acc: 0.99278, fpr: 0.00062, fnr: 0.09585, rec: 0.90415, prc: 0.99090, f1: 0.94554, auroc: 0.98847\n",
            "Validation --- epoch: 1, loss: 0.08000\n",
            "          fpr: 0.00068, prc: 0.99040, rec: 0.93727, f1: 0.96309, fnr: 0.06273, acc: 0.99500, auroc: 0.98862\n",
            "model saved at ./saved_models/chord_model_lay12_rh1_rw_ep50.pt.\n",
            "epoch: 2, passed number of graphs: 96, train running loss: 0.02346 (passed time: 3m 19s)\n",
            "          acc: 0.99542, fpr: 0.00281, fnr: 0.02845, rec: 0.97155, prc: 0.96260, f1: 0.96705, auroc: 0.99589\n",
            "epoch: 2, passed number of graphs: 192, train running loss: 0.01753 (passed time: 3m 41s)\n",
            "          acc: 0.99567, fpr: 0.00355, fnr: 0.01480, rec: 0.98520, prc: 0.95424, f1: 0.96947, auroc: 0.99693\n",
            "epoch: 2, passed number of graphs: 288, train running loss: 0.01548 (passed time: 4m 2s)\n",
            "          acc: 0.99502, fpr: 0.00368, fnr: 0.02235, rec: 0.97765, prc: 0.95181, f1: 0.96456, auroc: 0.99587\n",
            "epoch: 2, passed number of graphs: 384, train running loss: 0.01343 (passed time: 4m 23s)\n",
            "          acc: 0.99602, fpr: 0.00292, fnr: 0.01785, rec: 0.98215, prc: 0.96247, f1: 0.97221, auroc: 0.99798\n",
            "epoch: 2, passed number of graphs: 480, train running loss: 0.01226 (passed time: 4m 45s)\n",
            "          acc: 0.99697, fpr: 0.00057, fnr: 0.03530, rec: 0.96470, prc: 0.99223, f1: 0.97827, auroc: 0.99406\n",
            "epoch: 2, passed number of graphs: 576, train running loss: 0.01163 (passed time: 5m 5s)\n",
            "          acc: 0.99751, fpr: 0.00141, fnr: 0.01705, rec: 0.98295, prc: 0.98109, f1: 0.98202, auroc: 0.99896\n",
            "epoch: 2, passed number of graphs: 672, train running loss: 0.01090 (passed time: 5m 24s)\n",
            "          acc: 0.99802, fpr: 0.00088, fnr: 0.01670, rec: 0.98330, prc: 0.98804, f1: 0.98567, auroc: 0.99676\n",
            "epoch: 2, passed number of graphs: 768, train running loss: 0.01030 (passed time: 5m 44s)\n",
            "          acc: 0.99747, fpr: 0.00137, fnr: 0.01815, rec: 0.98185, prc: 0.98160, f1: 0.98173, auroc: 0.99962\n",
            "Validation --- epoch: 2, loss: 0.01003\n",
            "          fpr: 0.00119, prc: 0.98403, rec: 0.98063, f1: 0.98231, fnr: 0.01937, acc: 0.99754, auroc: 0.99919\n",
            "model saved at ./saved_models/chord_model_lay12_rh1_rw_ep50.pt.\n",
            "epoch: 3, passed number of graphs: 96, train running loss: 0.00569 (passed time: 6m 22s)\n",
            "          acc: 0.99716, fpr: 0.00193, fnr: 0.01515, rec: 0.98485, prc: 0.97433, f1: 0.97956, auroc: 0.99949\n",
            "epoch: 3, passed number of graphs: 192, train running loss: 0.00570 (passed time: 6m 43s)\n",
            "          acc: 0.99706, fpr: 0.00018, fnr: 0.03970, rec: 0.96030, prc: 0.99751, f1: 0.97855, auroc: 0.99513\n",
            "epoch: 3, passed number of graphs: 288, train running loss: 0.06611 (passed time: 7m 5s)\n",
            "          acc: 0.93074, fpr: 0.00000, fnr: 1.00000, rec: 0.00000, prc: -1.00000, f1: 0.00000, auroc: 0.97047\n",
            "epoch: 3, passed number of graphs: 384, train running loss: 0.06197 (passed time: 7m 26s)\n",
            "          acc: 0.98201, fpr: 0.00150, fnr: 0.23390, rec: 0.76610, prc: 0.97499, f1: 0.85801, auroc: 0.98892\n",
            "epoch: 3, passed number of graphs: 480, train running loss: 0.05477 (passed time: 7m 48s)\n",
            "          acc: 0.99131, fpr: 0.00314, fnr: 0.08155, rec: 0.91845, prc: 0.95692, f1: 0.93729, auroc: 0.99523\n",
            "epoch: 3, passed number of graphs: 576, train running loss: 0.04896 (passed time: 8m 8s)\n",
            "          acc: 0.98595, fpr: 0.01336, fnr: 0.02335, rec: 0.97665, prc: 0.84449, f1: 0.90577, auroc: 0.99677\n",
            "epoch: 3, passed number of graphs: 672, train running loss: 0.04498 (passed time: 8m 27s)\n",
            "          acc: 0.99194, fpr: 0.00589, fnr: 0.03725, rec: 0.96275, prc: 0.92399, f1: 0.94297, auroc: 0.99746\n",
            "epoch: 3, passed number of graphs: 768, train running loss: 0.04099 (passed time: 8m 46s)\n",
            "          acc: 0.99399, fpr: 0.00461, fnr: 0.02475, rec: 0.97525, prc: 0.94027, f1: 0.95744, auroc: 0.99660\n",
            "Validation --- epoch: 3, loss: 0.02523\n",
            "          fpr: 0.00434, prc: 0.94373, rec: 0.97171, f1: 0.95749, fnr: 0.02829, acc: 0.99400, auroc: 0.99588\n",
            "EarlyStopping counter: 1 out of 5\n",
            "epoch: 4, passed number of graphs: 96, train running loss: 0.01354 (passed time: 9m 24s)\n",
            "          acc: 0.99545, fpr: 0.00311, fnr: 0.02395, rec: 0.97605, prc: 0.95893, f1: 0.96742, auroc: 0.99387\n",
            "epoch: 4, passed number of graphs: 192, train running loss: 0.01354 (passed time: 9m 45s)\n",
            "          acc: 0.99186, fpr: 0.00691, fnr: 0.02460, rec: 0.97540, prc: 0.91377, f1: 0.94358, auroc: 0.99787\n",
            "epoch: 4, passed number of graphs: 288, train running loss: 0.01288 (passed time: 10m 6s)\n",
            "          acc: 0.99298, fpr: 0.00501, fnr: 0.03405, rec: 0.96595, prc: 0.93482, f1: 0.95013, auroc: 0.99371\n",
            "epoch: 4, passed number of graphs: 384, train running loss: 0.01244 (passed time: 10m 27s)\n",
            "          acc: 0.99329, fpr: 0.00594, fnr: 0.01680, rec: 0.98320, prc: 0.92663, f1: 0.95408, auroc: 0.99760\n",
            "epoch: 4, passed number of graphs: 480, train running loss: 0.01277 (passed time: 10m 49s)\n",
            "          acc: 0.99562, fpr: 0.00300, fnr: 0.02255, rec: 0.97745, prc: 0.96121, f1: 0.96926, auroc: 0.99425\n",
            "epoch: 4, passed number of graphs: 576, train running loss: 0.01256 (passed time: 11m 9s)\n",
            "          acc: 0.99288, fpr: 0.00637, fnr: 0.01725, rec: 0.98275, prc: 0.91970, f1: 0.95018, auroc: 0.99829\n",
            "epoch: 4, passed number of graphs: 672, train running loss: 0.01227 (passed time: 11m 28s)\n",
            "          acc: 0.99433, fpr: 0.00487, fnr: 0.01645, rec: 0.98355, prc: 0.93761, f1: 0.96003, auroc: 0.99718\n",
            "epoch: 4, passed number of graphs: 768, train running loss: 0.01207 (passed time: 11m 47s)\n",
            "          acc: 0.99432, fpr: 0.00481, fnr: 0.01725, rec: 0.98275, prc: 0.93828, f1: 0.96000, auroc: 0.99618\n",
            "Validation --- epoch: 4, loss: 0.02046\n",
            "          fpr: 0.00446, prc: 0.94293, rec: 0.98403, f1: 0.96302, fnr: 0.01597, acc: 0.99474, auroc: 0.99665\n",
            "EarlyStopping counter: 2 out of 5\n",
            "epoch: 5, passed number of graphs: 96, train running loss: 0.01020 (passed time: 12m 25s)\n",
            "          acc: 0.99378, fpr: 0.00542, fnr: 0.01700, rec: 0.98300, prc: 0.93096, f1: 0.95627, auroc: 0.99838\n",
            "epoch: 5, passed number of graphs: 192, train running loss: 0.01007 (passed time: 12m 47s)\n",
            "          acc: 0.99450, fpr: 0.00476, fnr: 0.01535, rec: 0.98465, prc: 0.93951, f1: 0.96155, auroc: 0.99713\n",
            "epoch: 5, passed number of graphs: 288, train running loss: 0.01003 (passed time: 13m 8s)\n",
            "          acc: 0.99386, fpr: 0.00545, fnr: 0.01540, rec: 0.98460, prc: 0.93076, f1: 0.95692, auroc: 0.99727\n",
            "epoch: 5, passed number of graphs: 384, train running loss: 0.00998 (passed time: 13m 29s)\n",
            "          acc: 0.99350, fpr: 0.00566, fnr: 0.01750, rec: 0.98250, prc: 0.92987, f1: 0.95546, auroc: 0.99773\n",
            "epoch: 5, passed number of graphs: 480, train running loss: 0.00993 (passed time: 13m 50s)\n",
            "          acc: 0.99435, fpr: 0.00492, fnr: 0.01520, rec: 0.98480, prc: 0.93831, f1: 0.96099, auroc: 0.99762\n",
            "epoch: 5, passed number of graphs: 576, train running loss: 0.00992 (passed time: 14m 10s)\n",
            "          acc: 0.99429, fpr: 0.00510, fnr: 0.01385, rec: 0.98615, prc: 0.93487, f1: 0.95983, auroc: 0.99776\n",
            "epoch: 5, passed number of graphs: 672, train running loss: 0.00990 (passed time: 14m 28s)\n",
            "          acc: 0.99405, fpr: 0.00513, fnr: 0.01710, rec: 0.98290, prc: 0.93445, f1: 0.95806, auroc: 0.99764\n",
            "epoch: 5, passed number of graphs: 768, train running loss: 0.00988 (passed time: 14m 47s)\n",
            "          acc: 0.99419, fpr: 0.00511, fnr: 0.01520, rec: 0.98480, prc: 0.93492, f1: 0.95921, auroc: 0.99769\n",
            "Validation --- epoch: 5, loss: 0.01919\n",
            "          fpr: 0.00483, prc: 0.93844, rec: 0.98434, f1: 0.96081, fnr: 0.01566, acc: 0.99441, auroc: 0.99750\n",
            "EarlyStopping counter: 3 out of 5\n",
            "epoch: 6, passed number of graphs: 96, train running loss: 0.00982 (passed time: 15m 24s)\n",
            "          acc: 0.99399, fpr: 0.00519, fnr: 0.01700, rec: 0.98300, prc: 0.93366, f1: 0.95769, auroc: 0.99829\n",
            "epoch: 6, passed number of graphs: 192, train running loss: 0.00975 (passed time: 15m 45s)\n",
            "          acc: 0.99480, fpr: 0.00438, fnr: 0.01610, rec: 0.98390, prc: 0.94397, f1: 0.96352, auroc: 0.99668\n",
            "epoch: 6, passed number of graphs: 288, train running loss: 0.00973 (passed time: 16m 6s)\n",
            "          acc: 0.99379, fpr: 0.00551, fnr: 0.01560, rec: 0.98440, prc: 0.93004, f1: 0.95645, auroc: 0.99759\n",
            "epoch: 6, passed number of graphs: 384, train running loss: 0.00969 (passed time: 16m 28s)\n",
            "          acc: 0.99373, fpr: 0.00546, fnr: 0.01685, rec: 0.98315, prc: 0.93216, f1: 0.95698, auroc: 0.99746\n",
            "epoch: 6, passed number of graphs: 480, train running loss: 0.00964 (passed time: 16m 49s)\n",
            "          acc: 0.99455, fpr: 0.00481, fnr: 0.01395, rec: 0.98605, prc: 0.93977, f1: 0.96235, auroc: 0.99756\n",
            "epoch: 6, passed number of graphs: 576, train running loss: 0.00963 (passed time: 17m 8s)\n",
            "          acc: 0.99431, fpr: 0.00522, fnr: 0.01210, rec: 0.98790, prc: 0.93361, f1: 0.95999, auroc: 0.99793\n",
            "epoch: 6, passed number of graphs: 672, train running loss: 0.00962 (passed time: 17m 27s)\n",
            "          acc: 0.99406, fpr: 0.00527, fnr: 0.01495, rec: 0.98505, prc: 0.93281, f1: 0.95822, auroc: 0.99786\n",
            "epoch: 6, passed number of graphs: 768, train running loss: 0.00961 (passed time: 17m 46s)\n",
            "          acc: 0.99424, fpr: 0.00503, fnr: 0.01565, rec: 0.98435, prc: 0.93583, f1: 0.95948, auroc: 0.99778\n",
            "Validation --- epoch: 6, loss: 0.01868\n",
            "          fpr: 0.00486, prc: 0.93807, rec: 0.98392, f1: 0.96042, fnr: 0.01608, acc: 0.99436, auroc: 0.99774\n",
            "EarlyStopping counter: 4 out of 5\n",
            "epoch: 7, passed number of graphs: 96, train running loss: 0.00952 (passed time: 18m 25s)\n",
            "          acc: 0.99441, fpr: 0.00491, fnr: 0.01470, rec: 0.98530, prc: 0.93713, f1: 0.96061, auroc: 0.99818\n",
            "epoch: 7, passed number of graphs: 192, train running loss: 0.00945 (passed time: 18m 45s)\n",
            "          acc: 0.99474, fpr: 0.00457, fnr: 0.01450, rec: 0.98550, prc: 0.94185, f1: 0.96318, auroc: 0.99724\n",
            "epoch: 7, passed number of graphs: 288, train running loss: 0.00944 (passed time: 19m 7s)\n",
            "          acc: 0.99393, fpr: 0.00542, fnr: 0.01485, rec: 0.98515, prc: 0.93119, f1: 0.95741, auroc: 0.99755\n",
            "epoch: 7, passed number of graphs: 384, train running loss: 0.00941 (passed time: 19m 28s)\n",
            "          acc: 0.99379, fpr: 0.00555, fnr: 0.01480, rec: 0.98520, prc: 0.93128, f1: 0.95748, auroc: 0.99765\n",
            "epoch: 7, passed number of graphs: 480, train running loss: 0.00938 (passed time: 19m 49s)\n",
            "          acc: 0.99456, fpr: 0.00466, fnr: 0.01570, rec: 0.98430, prc: 0.94137, f1: 0.96236, auroc: 0.99757\n",
            "epoch: 7, passed number of graphs: 576, train running loss: 0.00939 (passed time: 20m 9s)\n",
            "          acc: 0.99434, fpr: 0.00504, fnr: 0.01400, rec: 0.98600, prc: 0.93557, f1: 0.96012, auroc: 0.99788\n",
            "epoch: 7, passed number of graphs: 672, train running loss: 0.00938 (passed time: 20m 34s)\n",
            "          acc: 0.99435, fpr: 0.00499, fnr: 0.01460, rec: 0.98540, prc: 0.93625, f1: 0.96019, auroc: 0.99762\n",
            "epoch: 7, passed number of graphs: 768, train running loss: 0.00938 (passed time: 21m 2s)\n",
            "          acc: 0.99425, fpr: 0.00504, fnr: 0.01530, rec: 0.98470, prc: 0.93567, f1: 0.95956, auroc: 0.99781\n",
            "Validation --- epoch: 7, loss: 0.01847\n",
            "          fpr: 0.00487, prc: 0.93797, rec: 0.98463, f1: 0.96071, fnr: 0.01537, acc: 0.99440, auroc: 0.99776\n",
            "EarlyStopping counter: 5 out of 5\n",
            "Early stopping here.\n",
            "************ best model obtained after epoch 2, saved at ./saved_models/chord_model_lay12_rh1_rw_ep50.pt ************\n",
            "Testing --- loss: 0.01010\n",
            "          fpr: 0.00119, prc: 0.98403, rec: 0.98048, f1: 0.98224, fnr: 0.01952, acc: 0.99754, auroc: 0.99917\n"
          ]
        }
      ]
    }
  ]
}