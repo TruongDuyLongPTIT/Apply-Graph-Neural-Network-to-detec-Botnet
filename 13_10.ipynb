{
  "cells": [
    {
      "cell_type": "markdown",
      "metadata": {
        "id": "view-in-github",
        "colab_type": "text"
      },
      "source": [
        "<a href=\"https://colab.research.google.com/github/TruongDuyLongPTIT/DoAnTotNghiepPTIT/blob/main/13_10.ipynb\" target=\"_parent\"><img src=\"https://colab.research.google.com/assets/colab-badge.svg\" alt=\"Open In Colab\"/></a>"
      ]
    },
    {
      "cell_type": "code",
      "source": [
        "import os\n",
        "import torch\n",
        "os.environ['TORCH'] = torch.__version__\n",
        "\n",
        "!pip install -q torch-scatter -f https://data.pyg.org/whl/torch-${TORCH}.html\n",
        "!pip install -q torch-sparse -f https://data.pyg.org/whl/torch-${TORCH}.html\n",
        "!pip install -q git+https://github.com/pyg-team/pytorch_geometric.git\n",
        "!pip install torch-cluster -f https://data.pyg.org/whl/torch-${TORCH}.html\n",
        "!pip install deepdish==0.3.5"
      ],
      "metadata": {
        "id": "nB8nC0-b6dHA"
      },
      "execution_count": null,
      "outputs": []
    },
    {
      "cell_type": "code",
      "source": [
        "from botnet_detection.botdet.data.dataset_botnet import BotnetDataset\n",
        "from botnet_detection.botdet.data.dataloader import GraphDataLoader\n",
        "\n",
        "botnet_dataset_train = BotnetDataset(name='chord', split='train', in_memory = False, graph_format='pyg')\n",
        "botnet_dataset_val = BotnetDataset(name='chord', split='val', in_memory = False, graph_format='pyg')\n",
        "botnet_dataset_test = BotnetDataset(name='chord', split='test', in_memory = False, graph_format='pyg')\n",
        "print(botnet_dataset_train)"
      ],
      "metadata": {
        "id": "C3bsvLfo7se5",
        "outputId": "7093c88c-43ab-4038-ba98-2b253159bfcf",
        "colab": {
          "base_uri": "https://localhost:8080/"
        }
      },
      "execution_count": 5,
      "outputs": [
        {
          "output_type": "stream",
          "name": "stdout",
          "text": [
            "Extracting data/botnet/raw/botnet_chord.tar.gz\n",
            "Processing...\n",
            "writing train set ----------\n"
          ]
        },
        {
          "output_type": "stream",
          "name": "stderr",
          "text": [
            "768it [02:07,  6.04it/s]\n"
          ]
        },
        {
          "output_type": "stream",
          "name": "stdout",
          "text": [
            "train split --- number of graphs: 768, data saved at data/botnet/processed/chord_train.hdf5.\n",
            "writing val set ----------\n"
          ]
        },
        {
          "output_type": "stream",
          "name": "stderr",
          "text": [
            "96it [00:15,  6.03it/s]\n"
          ]
        },
        {
          "output_type": "stream",
          "name": "stdout",
          "text": [
            "val split --- number of graphs: 96, data saved at data/botnet/processed/chord_val.hdf5.\n",
            "writing test set ----------\n"
          ]
        },
        {
          "output_type": "stream",
          "name": "stderr",
          "text": [
            "96it [00:17,  5.57it/s]"
          ]
        },
        {
          "output_type": "stream",
          "name": "stdout",
          "text": [
            "test split --- number of graphs: 96, data saved at data/botnet/processed/chord_test.hdf5.\n",
            "Done!\n",
            "BotnetDataset(topology: chord | split: train | #graphs: 768 | graph format: pyg)\n"
          ]
        },
        {
          "output_type": "stream",
          "name": "stderr",
          "text": [
            "\n"
          ]
        }
      ]
    },
    {
      "cell_type": "code",
      "source": [
        "!cd botnet_detection\n",
        "!python botnet_detection/setup.py install"
      ],
      "metadata": {
        "id": "VDE9oHSj83Rm"
      },
      "execution_count": null,
      "outputs": []
    },
    {
      "cell_type": "code",
      "source": [
        "!bash /content/botnet_detection/run_botnet.sh\n"
      ],
      "metadata": {
        "id": "yWoCDXt48-e7",
        "outputId": "2eda7104-563e-4e45-ba6e-25fd8fe95657",
        "colab": {
          "base_uri": "https://localhost:8080/"
        }
      },
      "execution_count": null,
      "outputs": [
        {
          "output_type": "stream",
          "name": "stdout",
          "text": [
            "All Logs will be saved to ./saved_models/chord_model_lay12_rh1_rw_ep50.log\n",
            "python /content/botnet_detection/train_botnet.py --devid 0 --data_dir ./data/botnet --data_name chord --batch_size 2 --enc_sizes 32 32 32 32 32 32 32 32 32 32 32 32 --act relu --residual_hop 1 --deg_norm rw --final proj --epochs 2 --lr 0.005 --early_stop 1 --save_dir ./saved_models --save_name chord_model_lay12_rh1_rw_ep50.pt\n",
            "------------------------------\n",
            "Namespace(act='relu', aggr='add', att_act='lrelu', att_combine='cat', att_combine_out='cat', att_dir='in', att_dropout=0, batch_size=2, bias=True, data_dir='./data/botnet', data_name='chord', deg_norm='rw', devid=0, dropout=0.0, early_stop=1, edge_gate='none', enc_sizes=[32, 32, 32, 32, 32, 32, 32, 32, 32, 32, 32, 32], epochs=2, final='proj', in_channels=1, in_memory=False, layer_act='none', log_interval=96, logmode='w', lr=0.005, n_classes=2, nheads=[1], nodemodel='additive', residual_hop=1, save_dir='./saved_models', save_name='chord_model_lay12_rh1_rw_ep50.pt', seed=0, shuffle=False, weight_decay=0.0005)\n",
            "------------------------------\n",
            "Thu Oct 13 16:21:16 2022\n",
            "------------------------------\n",
            "loading dataset...\n",
            "model ----------\n",
            "GCNModel(\n",
            "  (gcn_net): ModuleList(\n",
            "    (0): GCNLayer(\n",
            "      (gcn): NodeModelMLP (in_channels: 1, out_channels: 32, in_edgedim: None, deg_norm: rw,aggr: add | number of parameters: 64)\n",
            "      (non_linear): Identity()\n",
            "    )\n",
            "    (1): GCNLayer(\n",
            "      (gcn): NodeModelMLP (in_channels: 32, out_channels: 32, in_edgedim: None, deg_norm: rw,aggr: add | number of parameters: 1056)\n",
            "      (non_linear): Identity()\n",
            "    )\n",
            "    (2): GCNLayer(\n",
            "      (gcn): NodeModelMLP (in_channels: 32, out_channels: 32, in_edgedim: None, deg_norm: rw,aggr: add | number of parameters: 1056)\n",
            "      (non_linear): Identity()\n",
            "    )\n",
            "    (3): GCNLayer(\n",
            "      (gcn): NodeModelMLP (in_channels: 32, out_channels: 32, in_edgedim: None, deg_norm: rw,aggr: add | number of parameters: 1056)\n",
            "      (non_linear): Identity()\n",
            "    )\n",
            "    (4): GCNLayer(\n",
            "      (gcn): NodeModelMLP (in_channels: 32, out_channels: 32, in_edgedim: None, deg_norm: rw,aggr: add | number of parameters: 1056)\n",
            "      (non_linear): Identity()\n",
            "    )\n",
            "    (5): GCNLayer(\n",
            "      (gcn): NodeModelMLP (in_channels: 32, out_channels: 32, in_edgedim: None, deg_norm: rw,aggr: add | number of parameters: 1056)\n",
            "      (non_linear): Identity()\n",
            "    )\n",
            "    (6): GCNLayer(\n",
            "      (gcn): NodeModelMLP (in_channels: 32, out_channels: 32, in_edgedim: None, deg_norm: rw,aggr: add | number of parameters: 1056)\n",
            "      (non_linear): Identity()\n",
            "    )\n",
            "    (7): GCNLayer(\n",
            "      (gcn): NodeModelMLP (in_channels: 32, out_channels: 32, in_edgedim: None, deg_norm: rw,aggr: add | number of parameters: 1056)\n",
            "      (non_linear): Identity()\n",
            "    )\n",
            "    (8): GCNLayer(\n",
            "      (gcn): NodeModelMLP (in_channels: 32, out_channels: 32, in_edgedim: None, deg_norm: rw,aggr: add | number of parameters: 1056)\n",
            "      (non_linear): Identity()\n",
            "    )\n",
            "    (9): GCNLayer(\n",
            "      (gcn): NodeModelMLP (in_channels: 32, out_channels: 32, in_edgedim: None, deg_norm: rw,aggr: add | number of parameters: 1056)\n",
            "      (non_linear): Identity()\n",
            "    )\n",
            "    (10): GCNLayer(\n",
            "      (gcn): NodeModelMLP (in_channels: 32, out_channels: 32, in_edgedim: None, deg_norm: rw,aggr: add | number of parameters: 1056)\n",
            "      (non_linear): Identity()\n",
            "    )\n",
            "    (11): GCNLayer(\n",
            "      (gcn): NodeModelMLP (in_channels: 32, out_channels: 32, in_edgedim: None, deg_norm: rw,aggr: add | number of parameters: 1056)\n",
            "      (non_linear): Identity()\n",
            "    )\n",
            "  )\n",
            "  (dropout): Dropout(p=0.0, inplace=False)\n",
            "  (residuals): ModuleList(\n",
            "    (0): Linear(in_features=1, out_features=32, bias=False)\n",
            "    (1): Identity()\n",
            "    (2): Identity()\n",
            "    (3): Identity()\n",
            "    (4): Identity()\n",
            "    (5): Identity()\n",
            "    (6): Identity()\n",
            "    (7): Identity()\n",
            "    (8): Identity()\n",
            "    (9): Identity()\n",
            "    (10): Identity()\n",
            "    (11): Identity()\n",
            "  )\n",
            "  (non_linear): ReLU()\n",
            "  (final): Linear(in_features=32, out_features=2, bias=True)\n",
            ")\n",
            "epoch: 1, passed number of graphs: 96, train running loss: 0.52750 (passed time: 19s)\n",
            "          acc: 0.93079, fpr: 0.00000, fnr: 1.00000, rec: 0.00000, prc: -1.00000, f1: 0.00000, auroc: 0.21714\n",
            "epoch: 1, passed number of graphs: 192, train running loss: 0.35900 (passed time: 38s)\n",
            "          acc: 0.93020, fpr: 0.00000, fnr: 1.00000, rec: 0.00000, prc: -1.00000, f1: 0.00000, auroc: 0.46325\n",
            "epoch: 1, passed number of graphs: 288, train running loss: 0.28710 (passed time: 57s)\n",
            "          acc: 0.92716, fpr: 0.00419, fnr: 0.99550, rec: 0.00450, prc: 0.07407, f1: 0.00848, auroc: 0.79891\n",
            "epoch: 1, passed number of graphs: 384, train running loss: 0.24517 (passed time: 1m 16s)\n",
            "          acc: 0.92740, fpr: 0.00200, fnr: 0.99710, rec: 0.00290, prc: 0.09949, f1: 0.00564, auroc: 0.86913\n",
            "epoch: 1, passed number of graphs: 480, train running loss: 0.22073 (passed time: 1m 36s)\n",
            "          acc: 0.92874, fpr: 0.00069, fnr: 0.99925, rec: 0.00075, prc: 0.07614, f1: 0.00149, auroc: 0.80069\n",
            "epoch: 1, passed number of graphs: 576, train running loss: 0.20278 (passed time: 1m 58s)\n",
            "          acc: 0.93067, fpr: 0.00024, fnr: 0.99970, rec: 0.00030, prc: 0.08571, f1: 0.00060, auroc: 0.90919\n",
            "epoch: 1, passed number of graphs: 672, train running loss: 0.18789 (passed time: 2m 20s)\n",
            "          acc: 0.93096, fpr: 0.00059, fnr: 0.98990, rec: 0.01010, prc: 0.55956, f1: 0.01984, auroc: 0.92552\n",
            "epoch: 1, passed number of graphs: 768, train running loss: 0.17587 (passed time: 2m 41s)\n",
            "          acc: 0.93539, fpr: 0.00014, fnr: 0.93035, rec: 0.06965, prc: 0.97413, f1: 0.13000, auroc: 0.95088\n",
            "Validation --- epoch: 1, loss: 0.16410\n",
            "          fpr: 0.00017, prc: 0.97069, acc: 0.93540, fnr: 0.92625, f1: 0.13704, rec: 0.07375, auroc: 0.94660\n",
            "model saved at ./saved_models/chord_model_lay12_rh1_rw_ep50.pt.\n",
            "epoch: 2, passed number of graphs: 96, train running loss: 0.12059 (passed time: 3m 27s)\n",
            "          acc: 0.92886, fpr: 0.00284, fnr: 0.98965, rec: 0.01035, prc: 0.21318, f1: 0.01974, auroc: 0.95515\n",
            "epoch: 2, passed number of graphs: 192, train running loss: 0.10075 (passed time: 3m 49s)\n",
            "          acc: 0.93445, fpr: 0.00000, fnr: 0.93920, rec: 0.06080, prc: 1.00000, f1: 0.11463, auroc: 0.91044\n",
            "epoch: 2, passed number of graphs: 288, train running loss: 0.08940 (passed time: 4m 13s)\n",
            "          acc: 0.97607, fpr: 0.00020, fnr: 0.34275, rec: 0.65725, prc: 0.99583, f1: 0.79187, auroc: 0.96187\n",
            "epoch: 2, passed number of graphs: 384, train running loss: 0.10675 (passed time: 4m 36s)\n",
            "          acc: 0.92905, fpr: 0.00000, fnr: 1.00000, rec: 0.00000, prc: -1.00000, f1: 0.00000, auroc: 0.34340\n",
            "epoch: 2, passed number of graphs: 480, train running loss: 0.11129 (passed time: 4m 57s)\n",
            "          acc: 0.92933, fpr: 0.00000, fnr: 1.00000, rec: 0.00000, prc: -1.00000, f1: 0.00000, auroc: 0.92909\n",
            "epoch: 2, passed number of graphs: 576, train running loss: 0.11030 (passed time: 5m 17s)\n",
            "          acc: 0.93088, fpr: 0.00000, fnr: 1.00000, rec: 0.00000, prc: -1.00000, f1: 0.00000, auroc: 0.94767\n",
            "epoch: 2, passed number of graphs: 672, train running loss: 0.10829 (passed time: 5m 37s)\n",
            "          acc: 0.92702, fpr: 0.00461, fnr: 0.99275, rec: 0.00725, prc: 0.10462, f1: 0.01356, auroc: 0.97875\n",
            "epoch: 2, passed number of graphs: 768, train running loss: 0.10472 (passed time: 5m 57s)\n",
            "          acc: 0.93398, fpr: 0.00015, fnr: 0.95045, rec: 0.04955, prc: 0.96120, f1: 0.09424, auroc: 0.98169\n",
            "Validation --- epoch: 2, loss: 0.15848\n",
            "          fpr: 0.00012, prc: 0.96824, acc: 0.93370, fnr: 0.95136, f1: 0.09263, rec: 0.04864, auroc: 0.97479\n",
            "model saved at ./saved_models/chord_model_lay12_rh1_rw_ep50.pt.\n",
            "************ best model obtained after epoch 2, saved at ./saved_models/chord_model_lay12_rh1_rw_ep50.pt ************\n"
          ]
        }
      ]
    }
  ],
  "metadata": {
    "colab": {
      "collapsed_sections": [],
      "name": "Making the Most of your Colab Subscription",
      "provenance": [],
      "machine_shape": "hm",
      "include_colab_link": true
    },
    "kernelspec": {
      "display_name": "Python 3",
      "name": "python3"
    },
    "accelerator": "GPU",
    "gpuClass": "standard"
  },
  "nbformat": 4,
  "nbformat_minor": 0
}